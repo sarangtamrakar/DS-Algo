{
 "cells": [
  {
   "cell_type": "code",
   "execution_count": 7,
   "metadata": {},
   "outputs": [],
   "source": [
    "import time"
   ]
  },
  {
   "cell_type": "markdown",
   "metadata": {},
   "source": [
    "# Bubble sort\n",
    "1. in bubble sort we will find take the largest element to last & second lar to second last & keep doing\n"
   ]
  },
  {
   "cell_type": "code",
   "execution_count": 8,
   "metadata": {},
   "outputs": [],
   "source": [
    "def bubbleSort(arr):\n",
    "    \"\"\"it is an efficient solution it takes O(n) time when arr is already sorted\"\"\"\n",
    "    n = len(arr)\n",
    "    for i in range(n-1):\n",
    "        swapped = False\n",
    "        for j in range(n-1-i):\n",
    "            if arr[j]>arr[j+1]:\n",
    "                arr[j],arr[j+1] = arr[j+1],arr[j]\n",
    "                swapped = True\n",
    "        if swapped == False:\n",
    "            break\n",
    "    return arr"
   ]
  },
  {
   "cell_type": "code",
   "execution_count": 9,
   "metadata": {},
   "outputs": [
    {
     "data": {
      "text/plain": [
       "0.0"
      ]
     },
     "execution_count": 9,
     "metadata": {},
     "output_type": "execute_result"
    }
   ],
   "source": [
    "start = time.process_time()\n",
    "bubbleSort([i for i in range(1,10000)])\n",
    "time.process_time()-start"
   ]
  },
  {
   "cell_type": "code",
   "execution_count": 181,
   "metadata": {},
   "outputs": [],
   "source": [
    "def bubble(arr):\n",
    "    \"\"\"if we will pass even sorted array it will take O(n square) time.\"\"\"\n",
    "    n = len(arr)\n",
    "    for i in range(n):\n",
    "        for j in range(n-1-i):\n",
    "            if arr[j] > arr[j+1]:\n",
    "                arr[j],arr[j+1] = arr[j+1],arr[j]\n",
    "    return arr"
   ]
  },
  {
   "cell_type": "code",
   "execution_count": 183,
   "metadata": {},
   "outputs": [
    {
     "data": {
      "text/plain": [
       "[2, 7, 8, 8, 8, 10]"
      ]
     },
     "execution_count": 183,
     "metadata": {},
     "output_type": "execute_result"
    }
   ],
   "source": [
    "bubble([2,10,7,8,8,8])"
   ]
  },
  {
   "cell_type": "code",
   "execution_count": 11,
   "metadata": {},
   "outputs": [
    {
     "data": {
      "text/plain": [
       "3.84375"
      ]
     },
     "execution_count": 11,
     "metadata": {},
     "output_type": "execute_result"
    }
   ],
   "source": [
    "start = time.process_time()\n",
    "bubble([i for i in range(1,10000)])\n",
    "time.process_time()-start"
   ]
  },
  {
   "cell_type": "markdown",
   "metadata": {},
   "source": [
    "# Selection Sort\n",
    "\n",
    "1. selection sort we will take min value & move it to the first index & again doing this ...\n",
    "2. selection sort is opposite of bubble sort"
   ]
  },
  {
   "cell_type": "code",
   "execution_count": 116,
   "metadata": {},
   "outputs": [],
   "source": [
    "# selection sort is not stable \n",
    "# if 2 or 3 values same in array so they will loose their previous order"
   ]
  },
  {
   "cell_type": "code",
   "execution_count": 122,
   "metadata": {},
   "outputs": [],
   "source": [
    "def sarangSelectionsort(arr):\n",
    "    \"\"\"this method takes extra space\"\"\"\n",
    "    n = len(arr)\n",
    "    i = 0\n",
    "    new = []\n",
    "    while i<n:\n",
    "        mn = min(arr)\n",
    "        new.append(mn)\n",
    "        arr.remove(mn)\n",
    "        i = i+1\n",
    "    return new"
   ]
  },
  {
   "cell_type": "code",
   "execution_count": 123,
   "metadata": {},
   "outputs": [
    {
     "data": {
      "text/plain": [
       "[-114, -111, 2, 7, 7, 7, 23, 23, 23]"
      ]
     },
     "execution_count": 123,
     "metadata": {},
     "output_type": "execute_result"
    }
   ],
   "source": [
    "sarangSelectionsort([-111,23,-114,23,23,2,7,7,7])"
   ]
  },
  {
   "cell_type": "code",
   "execution_count": 13,
   "metadata": {},
   "outputs": [],
   "source": [
    "def selectionsort(arr):\n",
    "    n = len(arr)\n",
    "    for i in range(n-1):\n",
    "        for j in range(1+i,n):\n",
    "            if arr[j] < arr[i]:\n",
    "                arr[j],arr[i] = arr[i],arr[j]\n",
    "    return arr"
   ]
  },
  {
   "cell_type": "code",
   "execution_count": 14,
   "metadata": {},
   "outputs": [
    {
     "data": {
      "text/plain": [
       "[-5, 2, 7, 8, 10]"
      ]
     },
     "execution_count": 14,
     "metadata": {},
     "output_type": "execute_result"
    }
   ],
   "source": [
    "selectionsort([2,10,7,8,-5])"
   ]
  },
  {
   "cell_type": "code",
   "execution_count": 125,
   "metadata": {},
   "outputs": [
    {
     "data": {
      "text/plain": [
       "[-45, -44, 2, 18, 200, 201, 500, 800, 1000]"
      ]
     },
     "execution_count": 125,
     "metadata": {},
     "output_type": "execute_result"
    }
   ],
   "source": [
    "sirselectionsort([1000,500,800,201,2,18,-45,-44,200])"
   ]
  },
  {
   "cell_type": "code",
   "execution_count": 126,
   "metadata": {},
   "outputs": [
    {
     "data": {
      "text/plain": [
       "[-200, 1, 2, 3, 4, 5, 200]"
      ]
     },
     "execution_count": 126,
     "metadata": {},
     "output_type": "execute_result"
    }
   ],
   "source": [
    "sirselectionsort([5,4,3,2,1,-200,200])"
   ]
  },
  {
   "cell_type": "markdown",
   "metadata": {},
   "source": [
    "# Merge sort"
   ]
  },
  {
   "cell_type": "code",
   "execution_count": 172,
   "metadata": {},
   "outputs": [
    {
     "data": {
      "text/plain": [
       "[1, 1, 2, 2, 3, 3, 4, 4, 5, 6, 9, 9]"
      ]
     },
     "execution_count": 172,
     "metadata": {},
     "output_type": "execute_result"
    }
   ],
   "source": [
    "def mergesort(a,b):\n",
    "    return sorted(a+b)\n",
    "\n",
    "mergesort([1,2,3,4,5,6],[9,4,3,2,1,9])"
   ]
  },
  {
   "cell_type": "code",
   "execution_count": 173,
   "metadata": {},
   "outputs": [
    {
     "data": {
      "text/plain": [
       "[1, 1, 2, 2, 3, 3, 4, 4, 5, 6, 9, 9]"
      ]
     },
     "execution_count": 173,
     "metadata": {},
     "output_type": "execute_result"
    }
   ],
   "source": [
    "def mergesort2(a,b):\n",
    "    c = a+b\n",
    "    c.sort()\n",
    "    return c\n",
    "mergesort2([1,2,3,4,5,6],[9,4,3,2,1,9])"
   ]
  },
  {
   "cell_type": "code",
   "execution_count": 118,
   "metadata": {},
   "outputs": [],
   "source": [
    "def mergesortefficient(a,b):\n",
    "    i=0\n",
    "    j = 0\n",
    "    new = []\n",
    "    while (i<len(a)) & (j<len(b)):\n",
    "        \n",
    "        if (a[i] < b[j]):\n",
    "            new.append(a[i])\n",
    "            i = i+1\n",
    "        elif (a[i]>b[j]):\n",
    "            new.append(b[j])\n",
    "            j = j+1\n",
    "        elif (a[i] == b[j]):\n",
    "            new.append(b[j])\n",
    "            new.append(a[i])\n",
    "            i = i+1\n",
    "            j = j+1\n",
    "        \n",
    "    if (i == len(a)):\n",
    "        for k in b[j:]:\n",
    "            new.append(k)\n",
    "    elif (j == len(b)):\n",
    "        for k in a[i:]:\n",
    "            new.append(k)\n",
    "    return new"
   ]
  },
  {
   "cell_type": "code",
   "execution_count": 125,
   "metadata": {},
   "outputs": [
    {
     "data": {
      "text/plain": [
       "[-40, -18, -11, 50, 60, 70]"
      ]
     },
     "execution_count": 125,
     "metadata": {},
     "output_type": "execute_result"
    }
   ],
   "source": [
    "mergesortefficient([-18,-11],[-40,50,60,70])"
   ]
  },
  {
   "cell_type": "code",
   "execution_count": 133,
   "metadata": {},
   "outputs": [],
   "source": [
    "def mergesortsir(a,b):\n",
    "    i = 0\n",
    "    j = 0\n",
    "    new = []\n",
    "    while (i<len(a)) & (j<len(b)):\n",
    "        if (a[i]<b[j]):\n",
    "            new.append(a[i])\n",
    "            i = i+1\n",
    "        elif (a[i]>b[j]):\n",
    "            new.append(b[j])\n",
    "            j = j+1\n",
    "        elif (a[i] == b[j]):# when both will become same\n",
    "            new.append(a[i])\n",
    "            new.append(b[j])\n",
    "            i = i+1\n",
    "            j = j+1\n",
    "    \n",
    "    while i<len(a):\n",
    "        new.append(a[i])\n",
    "        i = i+1\n",
    "    while j <len(b):\n",
    "        new.append(b[j])\n",
    "        j = j+1\n",
    "    return new"
   ]
  },
  {
   "cell_type": "code",
   "execution_count": 134,
   "metadata": {},
   "outputs": [
    {
     "data": {
      "text/plain": [
       "[1, 2, 2, 3, 4, 9, 9, 9]"
      ]
     },
     "execution_count": 134,
     "metadata": {},
     "output_type": "execute_result"
    }
   ],
   "source": [
    "mergesortsir([1,2,3,4],[2,9,9,9])"
   ]
  },
  {
   "cell_type": "markdown",
   "metadata": {},
   "source": [
    "# Insertion sort \n",
    "1. O(n2) time in worst case when whole arr is reversed\n",
    "2. theta(n) time in best case when arr is already sorted"
   ]
  },
  {
   "cell_type": "code",
   "execution_count": 49,
   "metadata": {},
   "outputs": [],
   "source": [
    "def insertionsort(arr):\n",
    "    n = len(arr)\n",
    "    for i in range(1,n):\n",
    "        x = arr[i]\n",
    "        j = i-1\n",
    "        while (j>=0) & (x<arr[j]):\n",
    "            arr[j+1] = arr[j]\n",
    "            j = j-1\n",
    "        arr[j+1] = x\n",
    "    return arr"
   ]
  },
  {
   "cell_type": "code",
   "execution_count": 55,
   "metadata": {},
   "outputs": [
    {
     "data": {
      "text/plain": [
       "[7, 8, 9, 87, 99, 200]"
      ]
     },
     "execution_count": 55,
     "metadata": {},
     "output_type": "execute_result"
    }
   ],
   "source": [
    "insertionsort([9,8,87,7,99,200])"
   ]
  },
  {
   "cell_type": "code",
   "execution_count": null,
   "metadata": {},
   "outputs": [],
   "source": []
  },
  {
   "cell_type": "code",
   "execution_count": null,
   "metadata": {},
   "outputs": [],
   "source": []
  },
  {
   "cell_type": "code",
   "execution_count": null,
   "metadata": {},
   "outputs": [],
   "source": []
  }
 ],
 "metadata": {
  "kernelspec": {
   "display_name": "Python 3",
   "language": "python",
   "name": "python3"
  },
  "language_info": {
   "codemirror_mode": {
    "name": "ipython",
    "version": 3
   },
   "file_extension": ".py",
   "mimetype": "text/x-python",
   "name": "python",
   "nbconvert_exporter": "python",
   "pygments_lexer": "ipython3",
   "version": "3.8.5"
  }
 },
 "nbformat": 4,
 "nbformat_minor": 5
}
