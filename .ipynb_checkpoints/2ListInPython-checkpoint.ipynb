{
 "cells": [
  {
   "cell_type": "markdown",
   "metadata": {},
   "source": [
    "# some imp inbuilt\n",
    "\n",
    "1. reversed\n",
    "2. sorted\n",
    "3. max\n",
    "4. min\n",
    "5. sum\n",
    "6. filter\n",
    "7. map\n",
    "8. abs\n",
    "9. assert\n",
    "10. break\n",
    "11. bool\n",
    "12. bytes\n",
    "13. del\n",
    "14. enumerate\n",
    "15. global\n",
    "16. hash\n",
    "17. input\n",
    "18. lambda\n",
    "19. len\n",
    "20. next\n",
    "21. ord\n",
    "22. pass\n",
    "23. pow\n",
    "24. range\n",
    "25. reduce (from functools import reduce)\n",
    "26. reversed\n",
    "27. round\n",
    "28. sorted\n",
    "29. str\n",
    "30. sum\n",
    "31. super\n",
    "32. type\n",
    "33. vars\n",
    "34. while\n",
    "35. for\n",
    "36. yield\n",
    "37. zip"
   ]
  },
  {
   "cell_type": "markdown",
   "metadata": {},
   "source": [
    "# Quality\n",
    "\n",
    "1. Random access through index in constant time\n",
    "2. array based\n",
    "3. iterable \n",
    "4. mutable (item assign possible)\n",
    "5. accept different type of data types"
   ]
  },
  {
   "cell_type": "markdown",
   "metadata": {},
   "source": [
    "Advantages:-\n",
    "\n",
    "1. Random access\n",
    "2. cache friendliness\n",
    "3. It pre-allocates memory for faster insertion.\n",
    "\n",
    "Disadvantages:-\n",
    "1. Insertion & deletion takes linear time.\n",
    "2. searching in list: if list is sorted so we will use Binary search otherwise it will also take linear time.\n",
    "    "
   ]
  },
  {
   "cell_type": "code",
   "execution_count": 6,
   "metadata": {},
   "outputs": [
    {
     "name": "stdout",
     "output_type": "stream",
     "text": [
      "[10, 'sarang', 2.9, True]\n"
     ]
    }
   ],
   "source": [
    "l = [10,\"sarang\",2.90,True]\n",
    "print(l)"
   ]
  },
  {
   "cell_type": "code",
   "execution_count": 8,
   "metadata": {},
   "outputs": [
    {
     "data": {
      "text/plain": [
       "10"
      ]
     },
     "execution_count": 8,
     "metadata": {},
     "output_type": "execute_result"
    }
   ],
   "source": [
    "# random access\n",
    "l[0]"
   ]
  },
  {
   "cell_type": "code",
   "execution_count": 9,
   "metadata": {},
   "outputs": [
    {
     "name": "stdout",
     "output_type": "stream",
     "text": [
      "[10, 'sarang', 5, True]\n"
     ]
    }
   ],
   "source": [
    "# item assign possible means mutability\n",
    "l[2] = 5\n",
    "print(l)"
   ]
  },
  {
   "cell_type": "code",
   "execution_count": 12,
   "metadata": {},
   "outputs": [
    {
     "name": "stdout",
     "output_type": "stream",
     "text": [
      "2\n"
     ]
    }
   ],
   "source": [
    "if 5 in l:\n",
    "    index = l.index(5)\n",
    "    print(index)\n",
    "    # if item not present so it will give error so start with the (in) statement\n",
    "    "
   ]
  },
  {
   "cell_type": "code",
   "execution_count": 13,
   "metadata": {},
   "outputs": [
    {
     "data": {
      "text/plain": [
       "2"
      ]
     },
     "execution_count": 13,
     "metadata": {},
     "output_type": "execute_result"
    }
   ],
   "source": [
    "l.index(5,1,3) # it will find the item in 1,2 only 3 in exclusive. & give index value"
   ]
  },
  {
   "cell_type": "code",
   "execution_count": 15,
   "metadata": {},
   "outputs": [],
   "source": [
    "l = [10,20,30,40,40,60]"
   ]
  },
  {
   "cell_type": "code",
   "execution_count": 17,
   "metadata": {},
   "outputs": [
    {
     "data": {
      "text/plain": [
       "2"
      ]
     },
     "execution_count": 17,
     "metadata": {},
     "output_type": "execute_result"
    }
   ],
   "source": [
    "l.count(40) # gives frequency of an item"
   ]
  },
  {
   "cell_type": "code",
   "execution_count": 18,
   "metadata": {},
   "outputs": [
    {
     "data": {
      "text/plain": [
       "60"
      ]
     },
     "execution_count": 18,
     "metadata": {},
     "output_type": "execute_result"
    }
   ],
   "source": [
    "l.pop()"
   ]
  },
  {
   "cell_type": "code",
   "execution_count": 19,
   "metadata": {},
   "outputs": [
    {
     "data": {
      "text/plain": [
       "30"
      ]
     },
     "execution_count": 19,
     "metadata": {},
     "output_type": "execute_result"
    }
   ],
   "source": [
    "l.pop(2)"
   ]
  },
  {
   "cell_type": "code",
   "execution_count": 20,
   "metadata": {},
   "outputs": [],
   "source": [
    "l = [10,20,30,40,40,60]"
   ]
  },
  {
   "cell_type": "code",
   "execution_count": 21,
   "metadata": {},
   "outputs": [],
   "source": [
    "del l[3]"
   ]
  },
  {
   "cell_type": "code",
   "execution_count": 22,
   "metadata": {},
   "outputs": [
    {
     "data": {
      "text/plain": [
       "[10, 20, 30, 40, 60]"
      ]
     },
     "execution_count": 22,
     "metadata": {},
     "output_type": "execute_result"
    }
   ],
   "source": [
    "l"
   ]
  },
  {
   "cell_type": "code",
   "execution_count": 23,
   "metadata": {},
   "outputs": [],
   "source": [
    "del l[2:4]"
   ]
  },
  {
   "cell_type": "code",
   "execution_count": 24,
   "metadata": {},
   "outputs": [
    {
     "data": {
      "text/plain": [
       "[10, 20, 60]"
      ]
     },
     "execution_count": 24,
     "metadata": {},
     "output_type": "execute_result"
    }
   ],
   "source": [
    "l"
   ]
  },
  {
   "cell_type": "code",
   "execution_count": 25,
   "metadata": {},
   "outputs": [
    {
     "data": {
      "text/plain": [
       "60"
      ]
     },
     "execution_count": 25,
     "metadata": {},
     "output_type": "execute_result"
    }
   ],
   "source": [
    "max(l)"
   ]
  },
  {
   "cell_type": "code",
   "execution_count": 26,
   "metadata": {},
   "outputs": [
    {
     "data": {
      "text/plain": [
       "10"
      ]
     },
     "execution_count": 26,
     "metadata": {},
     "output_type": "execute_result"
    }
   ],
   "source": [
    "min(l)"
   ]
  },
  {
   "cell_type": "code",
   "execution_count": 27,
   "metadata": {},
   "outputs": [
    {
     "data": {
      "text/plain": [
       "90"
      ]
     },
     "execution_count": 27,
     "metadata": {},
     "output_type": "execute_result"
    }
   ],
   "source": [
    "sum(l)"
   ]
  },
  {
   "cell_type": "code",
   "execution_count": 28,
   "metadata": {},
   "outputs": [],
   "source": [
    "l.reverse()"
   ]
  },
  {
   "cell_type": "code",
   "execution_count": 29,
   "metadata": {},
   "outputs": [
    {
     "data": {
      "text/plain": [
       "[60, 20, 10]"
      ]
     },
     "execution_count": 29,
     "metadata": {},
     "output_type": "execute_result"
    }
   ],
   "source": [
    "l"
   ]
  },
  {
   "cell_type": "code",
   "execution_count": 30,
   "metadata": {},
   "outputs": [],
   "source": [
    "l.sort()"
   ]
  },
  {
   "cell_type": "code",
   "execution_count": 32,
   "metadata": {},
   "outputs": [
    {
     "data": {
      "text/plain": [
       "[10, 20, 60]"
      ]
     },
     "execution_count": 32,
     "metadata": {},
     "output_type": "execute_result"
    }
   ],
   "source": [
    "l"
   ]
  },
  {
   "cell_type": "code",
   "execution_count": 2,
   "metadata": {},
   "outputs": [],
   "source": [
    "l = ['abc','efg','def','gfg']"
   ]
  },
  {
   "cell_type": "code",
   "execution_count": 3,
   "metadata": {},
   "outputs": [
    {
     "data": {
      "text/plain": [
       "'gfg'"
      ]
     },
     "execution_count": 3,
     "metadata": {},
     "output_type": "execute_result"
    }
   ],
   "source": [
    "max(l)"
   ]
  },
  {
   "cell_type": "code",
   "execution_count": 4,
   "metadata": {},
   "outputs": [
    {
     "data": {
      "text/plain": [
       "'abc'"
      ]
     },
     "execution_count": 4,
     "metadata": {},
     "output_type": "execute_result"
    }
   ],
   "source": [
    "min(l)"
   ]
  },
  {
   "cell_type": "code",
   "execution_count": 5,
   "metadata": {},
   "outputs": [
    {
     "data": {
      "text/plain": [
       "['abc', 'def', 'efg', 'gfg']"
      ]
     },
     "execution_count": 5,
     "metadata": {},
     "output_type": "execute_result"
    }
   ],
   "source": [
    "l.sort()\n",
    "l"
   ]
  },
  {
   "cell_type": "code",
   "execution_count": 6,
   "metadata": {},
   "outputs": [
    {
     "data": {
      "text/plain": [
       "['gfg', 'efg', 'def']"
      ]
     },
     "execution_count": 6,
     "metadata": {},
     "output_type": "execute_result"
    }
   ],
   "source": [
    "l[3:0:-1]"
   ]
  },
  {
   "cell_type": "code",
   "execution_count": 7,
   "metadata": {},
   "outputs": [
    {
     "data": {
      "text/plain": [
       "['gfg', 'efg', 'def', 'abc']"
      ]
     },
     "execution_count": 7,
     "metadata": {},
     "output_type": "execute_result"
    }
   ],
   "source": [
    "l[::-1]"
   ]
  },
  {
   "cell_type": "markdown",
   "metadata": {},
   "source": [
    "# find avg of list"
   ]
  },
  {
   "cell_type": "code",
   "execution_count": 12,
   "metadata": {},
   "outputs": [
    {
     "name": "stdout",
     "output_type": "stream",
     "text": [
      "25.0\n"
     ]
    }
   ],
   "source": [
    "l = [10,20,30,40]\n",
    "avg = sum(l)/len(l)\n",
    "print(avg)"
   ]
  },
  {
   "cell_type": "code",
   "execution_count": 11,
   "metadata": {},
   "outputs": [
    {
     "name": "stdout",
     "output_type": "stream",
     "text": [
      "20.0\n"
     ]
    }
   ],
   "source": [
    "def avgoflist(l):\n",
    "    s = sum(l)\n",
    "    avg = s/len(l)\n",
    "    return avg\n",
    "l = [10,20,30]\n",
    "avg = avgoflist(l)\n",
    "print(avg)"
   ]
  },
  {
   "cell_type": "code",
   "execution_count": 13,
   "metadata": {},
   "outputs": [],
   "source": [
    "def avgoflist(l):\n",
    "    sum = 0\n",
    "    for i in l:\n",
    "        sum=sum+i\n",
    "    avg = sum/len(l)\n",
    "    return avg"
   ]
  },
  {
   "cell_type": "code",
   "execution_count": 23,
   "metadata": {},
   "outputs": [],
   "source": [
    "def avgbywhileloop(l):\n",
    "    sum = 0\n",
    "    i = 0\n",
    "    while i<len(l):\n",
    "        item = l[i]\n",
    "        sum = sum+item\n",
    "        i = i+1\n",
    "    avg = sum/len(l)\n",
    "    return avg"
   ]
  },
  {
   "cell_type": "code",
   "execution_count": 24,
   "metadata": {},
   "outputs": [
    {
     "data": {
      "text/plain": [
       "25.0"
      ]
     },
     "execution_count": 24,
     "metadata": {},
     "output_type": "execute_result"
    }
   ],
   "source": [
    "avgbywhileloop(l)"
   ]
  },
  {
   "cell_type": "markdown",
   "metadata": {},
   "source": [
    "# seperate even & odd element in a list"
   ]
  },
  {
   "cell_type": "code",
   "execution_count": 18,
   "metadata": {},
   "outputs": [],
   "source": [
    "l = [10,41,30,15,80]"
   ]
  },
  {
   "cell_type": "code",
   "execution_count": 26,
   "metadata": {},
   "outputs": [],
   "source": [
    "def separateEvenandOdd(l):\n",
    "    even_list = []\n",
    "    odd_list = []\n",
    "    for i in l:\n",
    "        if i%2 == 0:\n",
    "            even_list.append(i)\n",
    "        else:\n",
    "            odd_list.append(i)\n",
    "    return even_list,odd_list"
   ]
  },
  {
   "cell_type": "code",
   "execution_count": 30,
   "metadata": {},
   "outputs": [
    {
     "name": "stdout",
     "output_type": "stream",
     "text": [
      "[10, 30, 80]\n",
      "[41, 15]\n"
     ]
    }
   ],
   "source": [
    "evn,odd = separateEvenandOdd(l)\n",
    "print(evn)\n",
    "print(odd)"
   ]
  },
  {
   "cell_type": "code",
   "execution_count": 33,
   "metadata": {},
   "outputs": [],
   "source": [
    "def bywhileloop(l):\n",
    "    even = []\n",
    "    odd = []\n",
    "    i = 0\n",
    "    while i<len(l):\n",
    "        item = l[i]\n",
    "        i = i +1\n",
    "        if item%2 == 0:\n",
    "            even.append(item)\n",
    "        else:\n",
    "            odd.append(item)\n",
    "    return even,odd"
   ]
  },
  {
   "cell_type": "code",
   "execution_count": 34,
   "metadata": {},
   "outputs": [
    {
     "name": "stdout",
     "output_type": "stream",
     "text": [
      "[10, 30, 80]\n",
      "[41, 15]\n"
     ]
    }
   ],
   "source": [
    "evn,odd = bywhileloop(l)\n",
    "print(evn)\n",
    "print(odd)"
   ]
  },
  {
   "cell_type": "markdown",
   "metadata": {},
   "source": [
    "# Get smaller element than x in list"
   ]
  },
  {
   "cell_type": "code",
   "execution_count": 47,
   "metadata": {},
   "outputs": [],
   "source": [
    "def smallerElementThanx(l,x):\n",
    "    small = []\n",
    "    for i in l:\n",
    "        if i<x:\n",
    "            small.append(i)\n",
    "        else:\n",
    "            pass\n",
    "    return small"
   ]
  },
  {
   "cell_type": "code",
   "execution_count": 48,
   "metadata": {},
   "outputs": [
    {
     "name": "stdout",
     "output_type": "stream",
     "text": [
      "[8, 3, 7]\n"
     ]
    }
   ],
   "source": [
    "l = [8,100,20,40,3,7]\n",
    "x = 10\n",
    "small = smallerElementThanx(l,x)\n",
    "print(small)"
   ]
  },
  {
   "cell_type": "code",
   "execution_count": 49,
   "metadata": {},
   "outputs": [],
   "source": [
    "def bywhileloop(l,x):\n",
    "    small = []\n",
    "    i = 0\n",
    "    while i<len(l):\n",
    "        val = l[i]\n",
    "        i = i+1\n",
    "        if val<x:\n",
    "            small.append(val)\n",
    "        else:\n",
    "            pass\n",
    "    return small"
   ]
  },
  {
   "cell_type": "code",
   "execution_count": 50,
   "metadata": {
    "scrolled": true
   },
   "outputs": [
    {
     "name": "stdout",
     "output_type": "stream",
     "text": [
      "[8, 3, 7]\n"
     ]
    }
   ],
   "source": [
    "small = bywhileloop(l,x)\n",
    "print(small)"
   ]
  },
  {
   "cell_type": "code",
   "execution_count": null,
   "metadata": {},
   "outputs": [],
   "source": []
  },
  {
   "cell_type": "markdown",
   "metadata": {},
   "source": [
    "## Largest element in the list"
   ]
  },
  {
   "cell_type": "code",
   "execution_count": 65,
   "metadata": {},
   "outputs": [],
   "source": [
    "def LargestElementInTheList(l):\n",
    "    large = l[0]\n",
    "    for i in range(1,len(l)):\n",
    "        val2 = l[i]\n",
    "        if val2>large:\n",
    "            large = val2\n",
    "        else:\n",
    "            large = large\n",
    "    return large\n",
    "            "
   ]
  },
  {
   "cell_type": "code",
   "execution_count": 74,
   "metadata": {},
   "outputs": [],
   "source": [
    "def bywhileloop(l):\n",
    "    large = l[0]\n",
    "    i = 1\n",
    "    while i<len(l):\n",
    "        val2 = l[i]\n",
    "        i = i+1\n",
    "        if val2>large:\n",
    "            large = val2\n",
    "        else:\n",
    "            large = large\n",
    "    return large"
   ]
  },
  {
   "cell_type": "code",
   "execution_count": 75,
   "metadata": {},
   "outputs": [
    {
     "data": {
      "text/plain": [
       "99"
      ]
     },
     "execution_count": 75,
     "metadata": {},
     "output_type": "execute_result"
    }
   ],
   "source": [
    "l = [10,20,30,20,2,0,-23,99,23,1]\n",
    "LargestElementInTheList(l)"
   ]
  },
  {
   "cell_type": "code",
   "execution_count": 76,
   "metadata": {},
   "outputs": [
    {
     "data": {
      "text/plain": [
       "99"
      ]
     },
     "execution_count": 76,
     "metadata": {},
     "output_type": "execute_result"
    }
   ],
   "source": [
    "bywhileloop(l)"
   ]
  },
  {
   "cell_type": "markdown",
   "metadata": {},
   "source": [
    "# LowestElementInList"
   ]
  },
  {
   "cell_type": "code",
   "execution_count": 68,
   "metadata": {},
   "outputs": [],
   "source": [
    "def LowestElementInTheList(l):\n",
    "    small = l[0]\n",
    "    for i in range(1,len(l)):\n",
    "        val2 = l[i]\n",
    "        if val2<small:\n",
    "            small=val2\n",
    "        else:\n",
    "            small = small\n",
    "    return small"
   ]
  },
  {
   "cell_type": "code",
   "execution_count": 77,
   "metadata": {},
   "outputs": [],
   "source": [
    "def bywhileloop(l):\n",
    "    small = l[0]\n",
    "    i = 1\n",
    "    while i<len(l):\n",
    "        val2 = l[i]\n",
    "        i = i+1\n",
    "        if val2<small:\n",
    "            small = val2\n",
    "        else:\n",
    "            small = small\n",
    "    return small"
   ]
  },
  {
   "cell_type": "code",
   "execution_count": 78,
   "metadata": {},
   "outputs": [
    {
     "data": {
      "text/plain": [
       "-1000"
      ]
     },
     "execution_count": 78,
     "metadata": {},
     "output_type": "execute_result"
    }
   ],
   "source": [
    "l = [1,3,4,5,-1000]\n",
    "LowestElementInTheList(l)"
   ]
  },
  {
   "cell_type": "code",
   "execution_count": 79,
   "metadata": {},
   "outputs": [
    {
     "data": {
      "text/plain": [
       "-1000"
      ]
     },
     "execution_count": 79,
     "metadata": {},
     "output_type": "execute_result"
    }
   ],
   "source": [
    "bywhileloop(l)"
   ]
  },
  {
   "cell_type": "markdown",
   "metadata": {},
   "source": [
    "# secondLargestElementInList"
   ]
  },
  {
   "cell_type": "code",
   "execution_count": 80,
   "metadata": {},
   "outputs": [],
   "source": [
    "def secondLargestInList(l):\n",
    "    large = l[0]\n",
    "    for i in range(1,len(l)):\n",
    "        val2 = l[i]\n",
    "        if val2>large:\n",
    "            large = val2\n",
    "    another = []\n",
    "    for i in l:\n",
    "        if i <large:\n",
    "            another.append(i)\n",
    "    secondlarge = another[0]\n",
    "    for i in range(1,len(another)):\n",
    "        val2 = another[i]\n",
    "        if val2>secondlarge:\n",
    "            secondlarge = val2\n",
    "        else:\n",
    "            secondlarge = secondlarge\n",
    "    return secondlarge"
   ]
  },
  {
   "cell_type": "code",
   "execution_count": 86,
   "metadata": {},
   "outputs": [],
   "source": [
    "def bywhileloop(l):\n",
    "    large = l[0]\n",
    "    i = 1\n",
    "    while i<len(l):\n",
    "        val2 = l[i]\n",
    "        i = i+1\n",
    "        if val2>large:\n",
    "            large = val2\n",
    "        else:\n",
    "            large = large\n",
    "    i = 0\n",
    "    another = []\n",
    "    while i<len(l):\n",
    "        val1 = l[i]\n",
    "        i=i+1\n",
    "        if val1<large:\n",
    "            another.append(val1)\n",
    "            \n",
    "    second = another[0]\n",
    "    i = 1\n",
    "    while i<len(another):\n",
    "        val2 = another[i]\n",
    "        i=i+1\n",
    "        if val2>second:\n",
    "            second=val2\n",
    "    return second\n",
    "        "
   ]
  },
  {
   "cell_type": "code",
   "execution_count": 104,
   "metadata": {},
   "outputs": [
    {
     "data": {
      "text/plain": [
       "300"
      ]
     },
     "execution_count": 104,
     "metadata": {},
     "output_type": "execute_result"
    }
   ],
   "source": [
    "l = [10,20,30,-45,300,400]\n",
    "secondLargestInList(l)"
   ]
  },
  {
   "cell_type": "code",
   "execution_count": 88,
   "metadata": {},
   "outputs": [
    {
     "data": {
      "text/plain": [
       "300"
      ]
     },
     "execution_count": 88,
     "metadata": {},
     "output_type": "execute_result"
    }
   ],
   "source": [
    "bywhileloop(l)"
   ]
  },
  {
   "cell_type": "code",
   "execution_count": 1,
   "metadata": {},
   "outputs": [],
   "source": [
    "def secondlargestinSingleShot(l):\n",
    "    lar = l[0]\n",
    "    slar = None\n",
    "    for i in l[1:]:\n",
    "        if i>lar:\n",
    "            slar = lar\n",
    "            lar = i\n",
    "        elif i==lar:\n",
    "            pass\n",
    "        elif i<lar:\n",
    "            if i>slar or i==None:\n",
    "                slar = i\n",
    "    return slar\n",
    "        "
   ]
  },
  {
   "cell_type": "code",
   "execution_count": 3,
   "metadata": {},
   "outputs": [
    {
     "data": {
      "text/plain": [
       "400"
      ]
     },
     "execution_count": 3,
     "metadata": {},
     "output_type": "execute_result"
    }
   ],
   "source": [
    "l = [-45, 10, 20, 30, 300, 400,500]\n",
    "secondlargestinSingleShot(l)"
   ]
  },
  {
   "cell_type": "code",
   "execution_count": 107,
   "metadata": {},
   "outputs": [],
   "source": [
    "def ll(l):\n",
    "    l.sort()\n",
    "    sl = l[-2]\n",
    "    return sl"
   ]
  },
  {
   "cell_type": "code",
   "execution_count": 109,
   "metadata": {},
   "outputs": [
    {
     "data": {
      "text/plain": [
       "300"
      ]
     },
     "execution_count": 109,
     "metadata": {},
     "output_type": "execute_result"
    }
   ],
   "source": [
    "l = [10,20,30,-45,300,400]\n",
    "ll(l)"
   ]
  },
  {
   "cell_type": "markdown",
   "metadata": {},
   "source": [
    "# check list is sorted or not?"
   ]
  },
  {
   "cell_type": "code",
   "execution_count": 111,
   "metadata": {},
   "outputs": [],
   "source": [
    "def islistsorted(l):\n",
    "    val1 = l[0]\n",
    "    for i in range(1,len(l)):\n",
    "        val2 = l[i]\n",
    "        if val2>val1:\n",
    "            val1 = val2\n",
    "        else:\n",
    "            print(False)\n",
    "            break\n",
    "    else:\n",
    "        print(True)\n",
    "        "
   ]
  },
  {
   "cell_type": "code",
   "execution_count": 115,
   "metadata": {},
   "outputs": [
    {
     "name": "stdout",
     "output_type": "stream",
     "text": [
      "False\n"
     ]
    }
   ],
   "source": [
    "islistsorted(l)"
   ]
  },
  {
   "cell_type": "code",
   "execution_count": 5,
   "metadata": {},
   "outputs": [],
   "source": [
    "def issorted(l):\n",
    "    sl = sorted(l)\n",
    "    if sl == l:\n",
    "        return True\n",
    "    else:\n",
    "        return False"
   ]
  },
  {
   "cell_type": "markdown",
   "metadata": {},
   "source": [
    "# find the odd occurances of element"
   ]
  },
  {
   "cell_type": "code",
   "execution_count": 17,
   "metadata": {},
   "outputs": [],
   "source": [
    "def oddoccurences(l):\n",
    "    new = []\n",
    "    for i in l:\n",
    "        val = l.count(i)\n",
    "        if val%2 == 0:\n",
    "            continue\n",
    "        else:\n",
    "            new.append(i)\n",
    "    return new"
   ]
  },
  {
   "cell_type": "code",
   "execution_count": 18,
   "metadata": {},
   "outputs": [],
   "source": [
    "l = [12,13,12,14,13,17]"
   ]
  },
  {
   "cell_type": "code",
   "execution_count": 19,
   "metadata": {},
   "outputs": [
    {
     "data": {
      "text/plain": [
       "[14, 17]"
      ]
     },
     "execution_count": 19,
     "metadata": {},
     "output_type": "execute_result"
    }
   ],
   "source": [
    "oddoccurences(l)"
   ]
  },
  {
   "cell_type": "code",
   "execution_count": 26,
   "metadata": {},
   "outputs": [
    {
     "data": {
      "text/plain": [
       "0"
      ]
     },
     "execution_count": 26,
     "metadata": {},
     "output_type": "execute_result"
    }
   ],
   "source": [
    "def xori(l):\n",
    "    res = 0\n",
    "    for i in l:\n",
    "        res = res^i\n",
    "    return res\n",
    "l = [10,20,20,30,20]\n",
    "xori(l)"
   ]
  },
  {
   "cell_type": "markdown",
   "metadata": {},
   "source": [
    "# reverse the list"
   ]
  },
  {
   "cell_type": "code",
   "execution_count": 14,
   "metadata": {},
   "outputs": [
    {
     "name": "stdout",
     "output_type": "stream",
     "text": [
      "[40, 30, 20, 10]\n"
     ]
    }
   ],
   "source": [
    "def reverseList(l):\n",
    "    new = []\n",
    "    for i in range(len(l)-1,-1,-1):\n",
    "        val = l[i]\n",
    "        new.append(val)\n",
    "    return new\n",
    "\n",
    "l = [10,20,30,40]\n",
    "result = reverseList(l)\n",
    "print(result)"
   ]
  },
  {
   "cell_type": "code",
   "execution_count": 23,
   "metadata": {},
   "outputs": [
    {
     "name": "stdout",
     "output_type": "stream",
     "text": [
      "[40, 30, 20, 10]\n"
     ]
    }
   ],
   "source": [
    "def reverse2(l):\n",
    "    nl = l[::-1]\n",
    "    return nl\n",
    "nl = reverse2(l)\n",
    "print(nl)"
   ]
  },
  {
   "cell_type": "code",
   "execution_count": 25,
   "metadata": {},
   "outputs": [
    {
     "name": "stdout",
     "output_type": "stream",
     "text": [
      "[40, 30, 20, 10]\n"
     ]
    }
   ],
   "source": [
    "def reverse3(l):\n",
    "    nl = list(reversed(l))\n",
    "    print(nl)\n",
    "reverse3(l)"
   ]
  },
  {
   "cell_type": "code",
   "execution_count": 26,
   "metadata": {},
   "outputs": [
    {
     "name": "stdout",
     "output_type": "stream",
     "text": [
      "[40, 30, 20, 10]\n"
     ]
    }
   ],
   "source": [
    "def reverse4(l):\n",
    "    l.reverse()\n",
    "    print(l)\n",
    "reverse4(l)"
   ]
  },
  {
   "cell_type": "code",
   "execution_count": 48,
   "metadata": {},
   "outputs": [],
   "source": [
    "def reverse4(l):\n",
    "    s = 0\n",
    "    e = len(l)-1\n",
    "    while e>s:\n",
    "        # it only possible by while loop\n",
    "        l[s],l[e] = l[e],l[s]\n",
    "        s = s+1\n",
    "        e = e-1\n",
    "    print(l)"
   ]
  },
  {
   "cell_type": "code",
   "execution_count": 51,
   "metadata": {},
   "outputs": [
    {
     "name": "stdout",
     "output_type": "stream",
     "text": [
      "[40, 30, 20, 10]\n"
     ]
    }
   ],
   "source": [
    "new = reverse4(l)\n",
    "new"
   ]
  },
  {
   "cell_type": "markdown",
   "metadata": {},
   "source": [
    "# Left Retate a list by one..."
   ]
  },
  {
   "cell_type": "code",
   "execution_count": 74,
   "metadata": {},
   "outputs": [
    {
     "name": "stdout",
     "output_type": "stream",
     "text": [
      "[20, 30, 40, 10]\n"
     ]
    }
   ],
   "source": [
    "def LeftRotatebyOne(l):\n",
    "    l1 = l[1:]\n",
    "    l2 = [l[0]] # or l[0:1] can be use\n",
    "    final = l1+l2\n",
    "    print(final)\n",
    "l = [10,20,30,40]\n",
    "LeftRotatebyOne(l)"
   ]
  },
  {
   "cell_type": "code",
   "execution_count": 60,
   "metadata": {},
   "outputs": [
    {
     "name": "stdout",
     "output_type": "stream",
     "text": [
      "[20, 30, 40, 10]\n"
     ]
    }
   ],
   "source": [
    "def leftRotatebyone(l):\n",
    "    new = []\n",
    "    for i in range(1,len(l)):\n",
    "        new.append(l[i])\n",
    "    else:\n",
    "        new.append(l[0])\n",
    "    print(new)\n",
    "\n",
    "    \n",
    "l = [10,20,30,40]\n",
    "leftRotatebyone(l)"
   ]
  },
  {
   "cell_type": "code",
   "execution_count": 71,
   "metadata": {},
   "outputs": [
    {
     "name": "stdout",
     "output_type": "stream",
     "text": [
      "[20, 30, 40, 10]\n"
     ]
    }
   ],
   "source": [
    "def leftRotate(l):\n",
    "    first = l.pop(0)\n",
    "    l.append(first)\n",
    "    print(l)\n",
    "l = [10,20,30,40]\n",
    "leftRotate(l)"
   ]
  },
  {
   "cell_type": "code",
   "execution_count": 77,
   "metadata": {},
   "outputs": [
    {
     "name": "stdout",
     "output_type": "stream",
     "text": [
      "[20, 30, 40, 10]\n"
     ]
    }
   ],
   "source": [
    "def leftRotate(l):\n",
    "    first = l[0]\n",
    "    n = len(l)\n",
    "    for i in range(1,len(l)):\n",
    "        l[i-1] = l[i]\n",
    "    else:\n",
    "        l[n-1] = first\n",
    "        \n",
    "    return l\n",
    "\n",
    "l = [10,20,30,40]\n",
    "new = leftRotate(l)\n",
    "print(new)"
   ]
  },
  {
   "cell_type": "markdown",
   "metadata": {},
   "source": [
    "# Left Rotate by D places"
   ]
  },
  {
   "cell_type": "code",
   "execution_count": 79,
   "metadata": {},
   "outputs": [],
   "source": [
    "def dtimesRotate(l,d):\n",
    "    a = l[d:]\n",
    "    b = l[0:d]\n",
    "    final = a+b\n",
    "    print(final)"
   ]
  },
  {
   "cell_type": "code",
   "execution_count": 82,
   "metadata": {},
   "outputs": [
    {
     "name": "stdout",
     "output_type": "stream",
     "text": [
      "[40, 50, 60, 10, 20, 30]\n"
     ]
    }
   ],
   "source": [
    "l = [10,20,30,40,50,60]\n",
    "dtimesRotate(l,3)"
   ]
  },
  {
   "cell_type": "code",
   "execution_count": 83,
   "metadata": {},
   "outputs": [],
   "source": [
    "def dtimeRotate(l,d):\n",
    "    new = []\n",
    "    for i in range(d,len(l)):\n",
    "        val = l[i]\n",
    "        new.append(val)\n",
    "    else:\n",
    "        for i in range(0,d):\n",
    "            val = l[i]\n",
    "            new.append(val)\n",
    "    print(new)\n"
   ]
  },
  {
   "cell_type": "code",
   "execution_count": 84,
   "metadata": {},
   "outputs": [
    {
     "name": "stdout",
     "output_type": "stream",
     "text": [
      "[30, 40, 50, 60, 10, 20]\n"
     ]
    }
   ],
   "source": [
    "l = [10,20,30,40,50,60]\n",
    "dtimeRotate(l,2)"
   ]
  },
  {
   "cell_type": "code",
   "execution_count": 19,
   "metadata": {},
   "outputs": [],
   "source": [
    "def rotateArr(self,A,D,N):\n",
    "        #Your code here\n",
    "        for i in range(D):\n",
    "            val = A.pop(0)\n",
    "            A.append(val)\n",
    "        return A"
   ]
  },
  {
   "cell_type": "markdown",
   "metadata": {},
   "source": [
    "# problem 1. Insert the item at the end"
   ]
  },
  {
   "cell_type": "code",
   "execution_count": 105,
   "metadata": {},
   "outputs": [
    {
     "data": {
      "text/plain": [
       "[1, 2, 3, 100]"
      ]
     },
     "execution_count": 105,
     "metadata": {},
     "output_type": "execute_result"
    }
   ],
   "source": [
    "def insertItem(arr,sizeofarray,element):\n",
    "    l.insert(sizeofarray,element) # l.insert(len(l),element) can be use\n",
    "\n",
    "l = [1,2,3]\n",
    "insertItem(l,4,100)\n",
    "l"
   ]
  },
  {
   "cell_type": "markdown",
   "metadata": {},
   "source": [
    "# Array insert at Index"
   ]
  },
  {
   "cell_type": "code",
   "execution_count": 112,
   "metadata": {},
   "outputs": [],
   "source": [
    "def insertItematIndex(arr,sizeofarr,element,index):\n",
    "    l.insert(index,element)\n",
    "    print(l)"
   ]
  },
  {
   "cell_type": "code",
   "execution_count": 113,
   "metadata": {},
   "outputs": [],
   "source": [
    "l = [10,20,30,40]"
   ]
  },
  {
   "cell_type": "markdown",
   "metadata": {},
   "source": [
    "# Get Item at index"
   ]
  },
  {
   "cell_type": "code",
   "execution_count": 115,
   "metadata": {},
   "outputs": [],
   "source": [
    "def getItem(arr,n,index):\n",
    "    item = arr[index]"
   ]
  },
  {
   "cell_type": "markdown",
   "metadata": {},
   "source": [
    "# array delete & shift"
   ]
  },
  {
   "cell_type": "code",
   "execution_count": 118,
   "metadata": {},
   "outputs": [],
   "source": [
    "def arraydeleteshift(l,n,idx):\n",
    "    "
   ]
  },
  {
   "cell_type": "code",
   "execution_count": 122,
   "metadata": {},
   "outputs": [],
   "source": [
    "l = [10,20,30,40]"
   ]
  },
  {
   "cell_type": "code",
   "execution_count": 123,
   "metadata": {},
   "outputs": [
    {
     "data": {
      "text/plain": [
       "30"
      ]
     },
     "execution_count": 123,
     "metadata": {},
     "output_type": "execute_result"
    }
   ],
   "source": [
    "l.pop(2)"
   ]
  },
  {
   "cell_type": "code",
   "execution_count": 125,
   "metadata": {},
   "outputs": [],
   "source": [
    "l.append(0)"
   ]
  },
  {
   "cell_type": "code",
   "execution_count": null,
   "metadata": {},
   "outputs": [],
   "source": []
  },
  {
   "cell_type": "code",
   "execution_count": 1,
   "metadata": {},
   "outputs": [],
   "source": [
    "a = [\"Geek\", \"Geeks\", \"Geeksfor\",\n",
    "  \"GeeksforGeek\", \"GeeksforGeeks\"]"
   ]
  },
  {
   "cell_type": "code",
   "execution_count": 3,
   "metadata": {},
   "outputs": [],
   "source": [
    "length = []\n",
    "for i in a:\n",
    "    val = len(i)\n",
    "    length.append(val)\n",
    "    \n",
    "    "
   ]
  },
  {
   "cell_type": "code",
   "execution_count": 14,
   "metadata": {},
   "outputs": [],
   "source": [
    "a = [1,2,3,4,5]"
   ]
  },
  {
   "cell_type": "code",
   "execution_count": 15,
   "metadata": {},
   "outputs": [
    {
     "data": {
      "text/plain": [
       "3"
      ]
     },
     "execution_count": 15,
     "metadata": {},
     "output_type": "execute_result"
    }
   ],
   "source": [
    "a[5-3]"
   ]
  },
  {
   "cell_type": "code",
   "execution_count": null,
   "metadata": {},
   "outputs": [],
   "source": []
  },
  {
   "cell_type": "code",
   "execution_count": null,
   "metadata": {},
   "outputs": [],
   "source": []
  },
  {
   "cell_type": "code",
   "execution_count": null,
   "metadata": {},
   "outputs": [],
   "source": []
  },
  {
   "cell_type": "code",
   "execution_count": 3,
   "metadata": {},
   "outputs": [],
   "source": [
    "def immediateGreater(arr,n,x):\n",
    "        #return required ans\n",
    "        arr = sorted(arr)\n",
    "        lis = []\n",
    "        for i in range(n):\n",
    "            val = arr[i]\n",
    "            if val>x:\n",
    "                lis.append(val)\n",
    "        else:\n",
    "            res = lis[0]\n",
    "            if len(lis)==0:\n",
    "                return -1\n",
    "            else:\n",
    "                return res"
   ]
  },
  {
   "cell_type": "code",
   "execution_count": 5,
   "metadata": {},
   "outputs": [
    {
     "data": {
      "text/plain": [
       "23"
      ]
     },
     "execution_count": 5,
     "metadata": {},
     "output_type": "execute_result"
    }
   ],
   "source": [
    "a = [1,10,25,11,67,23]\n",
    "immediateGreater(a,len(a),11)"
   ]
  },
  {
   "cell_type": "code",
   "execution_count": 6,
   "metadata": {},
   "outputs": [],
   "source": [
    "from collections import Counter"
   ]
  },
  {
   "cell_type": "code",
   "execution_count": 9,
   "metadata": {},
   "outputs": [],
   "source": [
    "a = [10,10,10,20,30]\n",
    "res = Counter(a)"
   ]
  },
  {
   "cell_type": "code",
   "execution_count": 17,
   "metadata": {},
   "outputs": [],
   "source": [
    "def ro(arr,n,d):\n",
    "    for i in range(d):\n",
    "        val = arr.pop(0)\n",
    "        arr.append(val)\n",
    "    return arr\n",
    "    "
   ]
  },
  {
   "cell_type": "code",
   "execution_count": 18,
   "metadata": {},
   "outputs": [
    {
     "data": {
      "text/plain": [
       "[10, 20, 30, 10, 10]"
      ]
     },
     "execution_count": 18,
     "metadata": {},
     "output_type": "execute_result"
    }
   ],
   "source": [
    "ro(a,5,2)"
   ]
  }
 ],
 "metadata": {
  "kernelspec": {
   "display_name": "Python 3",
   "language": "python",
   "name": "python3"
  },
  "language_info": {
   "codemirror_mode": {
    "name": "ipython",
    "version": 3
   },
   "file_extension": ".py",
   "mimetype": "text/x-python",
   "name": "python",
   "nbconvert_exporter": "python",
   "pygments_lexer": "ipython3",
   "version": "3.8.5"
  }
 },
 "nbformat": 4,
 "nbformat_minor": 5
}
