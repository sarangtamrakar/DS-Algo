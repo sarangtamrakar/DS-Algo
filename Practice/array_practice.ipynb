{
 "cells": [
  {
   "cell_type": "markdown",
   "metadata": {},
   "source": [
    "#### 1. Given an unsorted array arr[] of size N, rotate it by D elements (clockwise)"
   ]
  },
  {
   "cell_type": "code",
   "execution_count": 1,
   "metadata": {},
   "outputs": [],
   "source": [
    "def rotate(arr,n,d):\n",
    "    for i in arr[:d]:\n",
    "        val = arr.pop(0)\n",
    "        arr.append(val)\n",
    "    return arr"
   ]
  },
  {
   "cell_type": "code",
   "execution_count": 3,
   "metadata": {},
   "outputs": [
    {
     "data": {
      "text/plain": [
       "[4, 5, 1, 2, 3]"
      ]
     },
     "execution_count": 3,
     "metadata": {},
     "output_type": "execute_result"
    }
   ],
   "source": [
    "rotate([1,2,3,4,5],5,3)"
   ]
  },
  {
   "cell_type": "markdown",
   "metadata": {},
   "source": [
    "#### 2. Given an array, rotate the array by one position in clock-wise direction.\n",
    " Input:\n",
    "N = 5\n",
    "A[] = {1, 2, 3, 4, 5}\n",
    "Output:\n",
    "5 1 2 3 4"
   ]
  },
  {
   "cell_type": "code",
   "execution_count": 1,
   "metadata": {},
   "outputs": [
    {
     "data": {
      "text/plain": [
       "[5, 1, 2, 3, 4]"
      ]
     },
     "execution_count": 1,
     "metadata": {},
     "output_type": "execute_result"
    }
   ],
   "source": [
    "def clockwise(arr):\n",
    "    val = arr.pop()\n",
    "    arr.insert(0,val)\n",
    "    return arr\n",
    "clockwise([1,2,3,4,5])"
   ]
  },
  {
   "cell_type": "markdown",
   "metadata": {},
   "source": [
    "### 3. Given an array A of size N of integers. Your task is to find the minimum and maximum elements in the array.\n",
    "\n",
    "Input:\n",
    "N = 6\n",
    "A[] = {3, 2, 1, 56, 10000, 167}\n",
    "Output:\n",
    "min = 1, max =  10000"
   ]
  },
  {
   "cell_type": "code",
   "execution_count": 16,
   "metadata": {},
   "outputs": [],
   "source": [
    "def getMinMax(arr,n):\n",
    "    small = arr[0]\n",
    "    large = arr[0]\n",
    "    for i in range(1,n):\n",
    "        if arr[i]<small:\n",
    "            small = arr[i]\n",
    "        if arr[i]>large:\n",
    "            large = arr[i]\n",
    "            \n",
    "    return small,large"
   ]
  },
  {
   "cell_type": "code",
   "execution_count": 18,
   "metadata": {},
   "outputs": [
    {
     "data": {
      "text/plain": [
       "(-11, 200)"
      ]
     },
     "execution_count": 18,
     "metadata": {},
     "output_type": "execute_result"
    }
   ],
   "source": [
    "getMinMax([2,1,4,200,3,-11],6)"
   ]
  },
  {
   "cell_type": "markdown",
   "metadata": {},
   "source": [
    "#### 4. Given a sorted array arr[] of distinct integers. Sort the array into a wave-like array and return it.\n",
    "Input:\n",
    "n = 5\n",
    "arr[] = {1,2,3,4,5}\n",
    "Output: 2 1 4 3 5\n",
    "Explanation: Array elements after \n",
    "sorting it in wave form are \n",
    "2 1 4 3 5.\n",
    " "
   ]
  },
  {
   "cell_type": "code",
   "execution_count": 22,
   "metadata": {},
   "outputs": [],
   "source": [
    "def GetWaveArray(arr):\n",
    "    i = 0\n",
    "    while i < len(arr)-1:\n",
    "        arr[i],arr[i+1] = arr[i+1],arr[i]\n",
    "        i = i+2\n",
    "    return arr"
   ]
  },
  {
   "cell_type": "code",
   "execution_count": 23,
   "metadata": {},
   "outputs": [
    {
     "data": {
      "text/plain": [
       "[2, 1, 4, 3, 5]"
      ]
     },
     "execution_count": 23,
     "metadata": {},
     "output_type": "execute_result"
    }
   ],
   "source": [
    "GetWaveArray([1,2,3,4,5])"
   ]
  },
  {
   "cell_type": "markdown",
   "metadata": {},
   "source": [
    "#### 5. Multiply left and right array sum. \n",
    "Input : arr[ ] = {1, 2, 3, 4}\n",
    "Output : 21\n",
    "Explanation:\n",
    "Sum up an array from index 0 to 1 = 3\n",
    "Sum up an array from index 2 to 3 = 7\n",
    "Their multiplication is 21"
   ]
  },
  {
   "cell_type": "code",
   "execution_count": 29,
   "metadata": {},
   "outputs": [],
   "source": [
    "def MultipleLeftandRight(arr):\n",
    "    mid = len(arr)//2\n",
    "    a1 = arr[:mid]\n",
    "    a2 = arr[mid:]\n",
    "    \n",
    "    sum1 = 0\n",
    "    sum2 = 0\n",
    "    i = 0\n",
    "    j = 0\n",
    "    while (i<len(a1)) & (j < len(a2)):\n",
    "        val1 = a1[i]\n",
    "        val2 = a2[j]\n",
    "        sum1 = sum1+val1\n",
    "        sum2 = sum2+val2\n",
    "        i = i +1\n",
    "        j = j+1\n",
    "    \n",
    "    while i < len(a1):\n",
    "        val1 = a1[i]\n",
    "        sum1= sum1+val1\n",
    "        i = i+1\n",
    "    while j < len(a2):\n",
    "        val2 = a2[j]\n",
    "        sum2 = sum2 + val2\n",
    "        j = j+1\n",
    "    return sum1*sum2"
   ]
  },
  {
   "cell_type": "code",
   "execution_count": 30,
   "metadata": {},
   "outputs": [
    {
     "data": {
      "text/plain": [
       "21"
      ]
     },
     "execution_count": 30,
     "metadata": {},
     "output_type": "execute_result"
    }
   ],
   "source": [
    "MultipleLeftandRight([1,2,3,4])"
   ]
  },
  {
   "cell_type": "code",
   "execution_count": 31,
   "metadata": {},
   "outputs": [
    {
     "data": {
      "text/plain": [
       "36"
      ]
     },
     "execution_count": 31,
     "metadata": {},
     "output_type": "execute_result"
    }
   ],
   "source": [
    "MultipleLeftandRight([1,2,3,4,5])"
   ]
  },
  {
   "cell_type": "markdown",
   "metadata": {},
   "source": [
    "#### 6. Sum of Array Elements\n",
    "\n",
    "Input:\n",
    "n = 3\n",
    "arr[] = {3 2 1}\n",
    "Output: 6"
   ]
  },
  {
   "cell_type": "code",
   "execution_count": 32,
   "metadata": {},
   "outputs": [
    {
     "data": {
      "text/plain": [
       "15"
      ]
     },
     "execution_count": 32,
     "metadata": {},
     "output_type": "execute_result"
    }
   ],
   "source": [
    "def SumOfArray(arr,n):\n",
    "    return sum(arr)\n",
    "SumOfArray([1,2,3,4,5],5)"
   ]
  },
  {
   "cell_type": "markdown",
   "metadata": {},
   "source": [
    "##### 7.Form a number divisible by 3 using array digits \n",
    "Input: N = 3\n",
    "arr = {40, 50, 90}\n",
    "Output: 1\n",
    "Explaination: One such number is 405900.\n",
    "Example 2:\n"
   ]
  },
  {
   "cell_type": "code",
   "execution_count": 128,
   "metadata": {},
   "outputs": [],
   "source": [
    "from itertools import permutations\n",
    "def DivisibleByThree(arr):\n",
    "    new = \"\"\n",
    "    for i in arr:\n",
    "        for j in str(i):\n",
    "            new = new+j\n",
    "    permu = list(permutations(new))\n",
    "    new1 = []\n",
    "    for i in range(len(permu)):\n",
    "        val = \"\".join(permu[i])\n",
    "        new1.append(int(val))\n",
    "    for i in new1:\n",
    "        if (i%3 == 0):\n",
    "            return 1\n",
    "    return 0"
   ]
  },
  {
   "cell_type": "code",
   "execution_count": 129,
   "metadata": {},
   "outputs": [
    {
     "data": {
      "text/plain": [
       "1"
      ]
     },
     "execution_count": 129,
     "metadata": {},
     "output_type": "execute_result"
    }
   ],
   "source": [
    "DivisibleByThree([40, 50, 90])"
   ]
  },
  {
   "cell_type": "markdown",
   "metadata": {},
   "source": [
    "#### 8. Balanced Array\n",
    "Input:\n",
    "N = 4\n",
    "arr[] = {1, 5, 3, 2}\n",
    "Output: 1\n",
    "Explanation: \n",
    "Sum of first 2 elements is 1 + 5  = 6, \n",
    "Sum of last 2 elements is 3 + 2  = 5,\n",
    "To make the array balanced you can add 1."
   ]
  },
  {
   "cell_type": "code",
   "execution_count": 1,
   "metadata": {},
   "outputs": [],
   "source": [
    "def BalancedArray(arr):\n",
    "    val = 0\n",
    "    n = len(arr)\n",
    "    mid = n//2\n",
    "    sum1 = sum(arr[:mid])\n",
    "    sum2 = sum(arr[mid:])\n",
    "    if sum1>sum2:\n",
    "        val = sum1-sum2\n",
    "    else:\n",
    "        val = sum2-sum1\n",
    "    return val"
   ]
  },
  {
   "cell_type": "code",
   "execution_count": 2,
   "metadata": {},
   "outputs": [
    {
     "data": {
      "text/plain": [
       "1"
      ]
     },
     "execution_count": 2,
     "metadata": {},
     "output_type": "execute_result"
    }
   ],
   "source": [
    "BalancedArray([1, 5, 3, 2])"
   ]
  },
  {
   "cell_type": "code",
   "execution_count": 3,
   "metadata": {},
   "outputs": [
    {
     "data": {
      "text/plain": [
       "2"
      ]
     },
     "execution_count": 3,
     "metadata": {},
     "output_type": "execute_result"
    }
   ],
   "source": [
    "BalancedArray([1, 2, 1, 2, 1, 3 ])"
   ]
  },
  {
   "cell_type": "markdown",
   "metadata": {},
   "source": [
    "##### 9. Nuts and Bolts Problem"
   ]
  },
  {
   "cell_type": "raw",
   "metadata": {},
   "source": [
    "Given a set of N nuts of different sizes and N bolts of different sizes. There is a one-one mapping between nuts and bolts. Match nuts and bolts efficiently.\n",
    "\n",
    "Comparison of a nut to another nut or a bolt to another bolt is not allowed. It means nut can only be compared with bolt and bolt can only be compared with nut to see which one is bigger/smaller.\n",
    "The elements should follow the following order ! # $ % & * @ ^ ~ .\n",
    "\n",
    "\n",
    "N = 5\n",
    "nuts[] = {@, %, $, #, ^}\n",
    "bolts[] = {%, @, #, $ ^}\n",
    "Output: \n",
    "# $ % @ ^\n",
    "# $ % @ ^"
   ]
  },
  {
   "cell_type": "code",
   "execution_count": 32,
   "metadata": {},
   "outputs": [],
   "source": [
    "def NutBolt(nut,bolt,n):\n",
    "    N = []\n",
    "    B = []\n",
    "    for i in ['#', '$', '%' ,'&','@' ,'^','~']:\n",
    "        for j in range(n):\n",
    "            if nut[j] == i:\n",
    "                N.append(i)\n",
    "            if bolt[j] == i:\n",
    "                B.append(i)\n",
    "    return N,B"
   ]
  },
  {
   "cell_type": "code",
   "execution_count": 34,
   "metadata": {},
   "outputs": [
    {
     "data": {
      "text/plain": [
       "(['#', '$', '%', '@', '^'], ['#', '$', '%', '@', '^'])"
      ]
     },
     "execution_count": 34,
     "metadata": {},
     "output_type": "execute_result"
    }
   ],
   "source": [
    "NutBolt(['@', '%', '$', '#', '^'],['%', '@', '#', '$' ,'^'],5)"
   ]
  },
  {
   "cell_type": "markdown",
   "metadata": {},
   "source": [
    "##### 10. Minimum number to form the sum even"
   ]
  },
  {
   "cell_type": "raw",
   "metadata": {},
   "source": [
    "Given an array arr[] of size N, \n",
    "the task is to add the minimum number(should be greater than 0) to the array so that the sum of the array becomes even\n",
    "\n",
    "Input: N = 8\n",
    "arr[] = {1, 2, 3, 4, 5, 6, 7, 8}\n",
    "Output:  2\n",
    "Explanation:  Sum of array is 36, so \n",
    "we add minimum number 2 to make the \n",
    "sum even.\n",
    "\n",
    "\n",
    "if sum is already even so what minimum no. we will add so that it will again become even"
   ]
  },
  {
   "cell_type": "code",
   "execution_count": 9,
   "metadata": {},
   "outputs": [],
   "source": [
    "def SumEven(arr):\n",
    "    Sum = sum(arr)\n",
    "    remainder = Sum%2\n",
    "    if remainder == 0:\n",
    "        return 2\n",
    "    else:\n",
    "        return 2-remainder"
   ]
  },
  {
   "cell_type": "code",
   "execution_count": 10,
   "metadata": {},
   "outputs": [
    {
     "data": {
      "text/plain": [
       "1"
      ]
     },
     "execution_count": 10,
     "metadata": {},
     "output_type": "execute_result"
    }
   ],
   "source": [
    "SumEven([1, 2, 3, 4, 5, 6, 7, 8, 9])"
   ]
  },
  {
   "cell_type": "markdown",
   "metadata": {},
   "source": [
    "##### 11. Count the Zeros"
   ]
  },
  {
   "cell_type": "raw",
   "metadata": {},
   "source": [
    "### 10. Count the Zeros\n",
    "Given an array of size N consisting of only 0's and 1's. \n",
    "The array is sorted in such a manner that all the 1's are placed first and \n",
    "then they are followed by all the 0's. Find the count of all the 0's.\n",
    "\n",
    "\n",
    "\n",
    "Input:\n",
    "N = 12\n",
    "Arr[] = {1, 1, 1, 1, 1, 1, 1, 1, 1, 0, 0, 0}\n",
    "Output: 3\n",
    "Explanation: There are 3 0's in the given array.\n",
    "\n"
   ]
  },
  {
   "cell_type": "code",
   "execution_count": 11,
   "metadata": {},
   "outputs": [],
   "source": [
    "def countZeroes(arr, n):\n",
    "        # code here\n",
    "        count = 0\n",
    "        for i in range(n-1,-1,-1):\n",
    "            if arr[i] == 0:\n",
    "                count = count+1\n",
    "            else:\n",
    "                break\n",
    "        return count"
   ]
  },
  {
   "cell_type": "code",
   "execution_count": 12,
   "metadata": {},
   "outputs": [
    {
     "data": {
      "text/plain": [
       "4"
      ]
     },
     "execution_count": 12,
     "metadata": {},
     "output_type": "execute_result"
    }
   ],
   "source": [
    "countZeroes([1,1,1,1,1,1,0,0,0,0],10)"
   ]
  },
  {
   "cell_type": "markdown",
   "metadata": {},
   "source": [
    "#### 12. Segregate 0s and 1s \n",
    "\n",
    "\n",
    "Given an array of length N consisting of only 0s and 1s in random order. \n",
    "Modify the array to segregate 0s on left side and 1s on the right side of the array.\n",
    "\n",
    "\n",
    "\n",
    "\n",
    "\n",
    "\n",
    "\n",
    "\n",
    "Input:\n",
    "N = 5\n",
    "arr[] = {0, 0, 1, 1, 0}\n",
    "Output: 0 0 0 1 1\n",
    "\n"
   ]
  },
  {
   "cell_type": "code",
   "execution_count": 1,
   "metadata": {},
   "outputs": [],
   "source": [
    "def Segret(arr):\n",
    "    new = []\n",
    "    zeroes = arr.count(0)\n",
    "    remain = len(arr)- zeroes\n",
    "    for i in range(zeroes):\n",
    "        new.append(0)\n",
    "    for j in range(remain):\n",
    "        new.append(1)\n",
    "    return new"
   ]
  },
  {
   "cell_type": "code",
   "execution_count": 6,
   "metadata": {},
   "outputs": [
    {
     "data": {
      "text/plain": [
       "[0, 0, 0, 0, 1, 1]"
      ]
     },
     "execution_count": 6,
     "metadata": {},
     "output_type": "execute_result"
    }
   ],
   "source": [
    "Segret([1,0,0,0,1,0])"
   ]
  },
  {
   "cell_type": "markdown",
   "metadata": {},
   "source": [
    "#### 13 Rearrange an array with O(1) extra space \n",
    "\n",
    "\n",
    "Given an array arr[] of size N where every element is in the range from 0 to n-1. \n",
    "Rearrange the given array so that arr[i] becomes arr[arr[i]].\n",
    "\n",
    "\n",
    "Input:\n",
    "N = 5\n",
    "arr[] = {4,0,2,1,3}\n",
    "Output: 3 4 2 0 1\n",
    "Explanation: \n",
    "arr[arr[0]] = arr[4] = 3.\n",
    "arr[arr[1]] = arr[0] = 4.\n",
    "and so on.\n",
    "\n",
    "\n",
    "\n",
    "\n",
    "# but do it without using auxilary space"
   ]
  },
  {
   "cell_type": "code",
   "execution_count": 42,
   "metadata": {},
   "outputs": [],
   "source": [
    "def RearrangeArray(arr,n):\n",
    "    new = []\n",
    "    for i in range(n):\n",
    "        new.append(arr[arr[i]])\n",
    "    return new"
   ]
  },
  {
   "cell_type": "code",
   "execution_count": 43,
   "metadata": {},
   "outputs": [
    {
     "data": {
      "text/plain": [
       "[3, 4, 2, 0, 1]"
      ]
     },
     "execution_count": 43,
     "metadata": {},
     "output_type": "execute_result"
    }
   ],
   "source": [
    "RearrangeArray([4,0,2,1,3],5)"
   ]
  },
  {
   "cell_type": "code",
   "execution_count": null,
   "metadata": {},
   "outputs": [],
   "source": []
  },
  {
   "cell_type": "code",
   "execution_count": null,
   "metadata": {},
   "outputs": [],
   "source": []
  },
  {
   "cell_type": "markdown",
   "metadata": {},
   "source": [
    "#### 14 Find Transition Point \n",
    "Given a sorted array containing only 0s and 1s, find the transition point. \n",
    "\n",
    "\n",
    "Input:\n",
    "N = 5\n",
    "arr[] = {0,0,0,1,1}\n",
    "Output: 3\n",
    "Explanation: index 3 is the transition \n",
    "point where 1 begins."
   ]
  },
  {
   "cell_type": "code",
   "execution_count": 46,
   "metadata": {},
   "outputs": [],
   "source": [
    "def TransitionPoint(arr,n):\n",
    "    index = -1\n",
    "    for i in range(n):\n",
    "        if arr[i] == 1:\n",
    "            index = i\n",
    "            return index\n",
    "    return index"
   ]
  },
  {
   "cell_type": "code",
   "execution_count": 47,
   "metadata": {},
   "outputs": [
    {
     "data": {
      "text/plain": [
       "3"
      ]
     },
     "execution_count": 47,
     "metadata": {},
     "output_type": "execute_result"
    }
   ],
   "source": [
    "TransitionPoint([0,0,0,1,1],5)"
   ]
  },
  {
   "cell_type": "code",
   "execution_count": 48,
   "metadata": {},
   "outputs": [
    {
     "data": {
      "text/plain": [
       "-1"
      ]
     },
     "execution_count": 48,
     "metadata": {},
     "output_type": "execute_result"
    }
   ],
   "source": [
    "TransitionPoint([0,0,0,0,0],5)"
   ]
  },
  {
   "cell_type": "markdown",
   "metadata": {},
   "source": [
    "#### 15 Bitonic Point\n",
    "\n",
    "Given an array arr of n elements which is first increasing and then may be decreasing, find the maximum element in the array.\n",
    "Note: If the array is increasing then just print then last element will be the maximum value.\n",
    "    \n",
    "    Input: \n",
    "n = 9\n",
    "arr[] = {1,15,25,45,42,21,17,12,11}\n",
    "Output: 45\n",
    "Explanation: Maximum element is 45."
   ]
  },
  {
   "cell_type": "code",
   "execution_count": null,
   "metadata": {},
   "outputs": [],
   "source": [
    "def Maximum(arr,n):\n",
    "    lage "
   ]
  },
  {
   "cell_type": "markdown",
   "metadata": {},
   "source": [
    "##### 16 Given an array of integers nums and an integer target, return indices of the two numbers such that they add up to target.\n",
    "\n",
    "You may assume that each input would have exactly one solution, and you may not use the same element twice.\n",
    "\n",
    "You can return the answer in any order.\n",
    "\n",
    "\n",
    "Example 1:\n",
    "Input: nums = [2,7,11,15], target = 9\n",
    "Output: [0,1]\n",
    "Output: Because nums[0] + nums[1] == 9, we return [0, 1].\n",
    "\n",
    "Example 2:\n",
    "\n",
    "Input: nums = [3,2,4], target = 6\n",
    "Output: [1,2]"
   ]
  },
  {
   "cell_type": "code",
   "execution_count": 11,
   "metadata": {},
   "outputs": [
    {
     "data": {
      "text/plain": [
       "[0, 1]"
      ]
     },
     "execution_count": 11,
     "metadata": {},
     "output_type": "execute_result"
    }
   ],
   "source": [
    "\"\"\"In O(n**2)\"\"\"\n",
    "def twoSum(nums,target):\n",
    "        lis = []\n",
    "        for i in range(len(nums)):\n",
    "            for j in range(i+1,len(nums)):\n",
    "                if nums[i]+nums[j] == target:\n",
    "                    lis.append(i)\n",
    "                    lis.append(j)\n",
    "        return lis\n",
    "twoSum([2,7,11,15],9)"
   ]
  },
  {
   "cell_type": "code",
   "execution_count": 12,
   "metadata": {},
   "outputs": [
    {
     "data": {
      "text/plain": [
       "[0, 2]"
      ]
     },
     "execution_count": 12,
     "metadata": {},
     "output_type": "execute_result"
    }
   ],
   "source": [
    "\"\"\"Optimize solution in O(n)\"\"\"\n",
    "def twosum(nums,target):\n",
    "    dic = {}\n",
    "    for index,num in enumerate(nums):\n",
    "        minus = target-num\n",
    "        if num in dic.keys():\n",
    "            return [dic[num],index]\n",
    "        else:\n",
    "            dic[num] = index\n",
    "\n",
    "twosum([3,2,3],6)"
   ]
  },
  {
   "cell_type": "raw",
   "metadata": {},
   "source": [
    "17. Remove Duplicates from Sorted Array\n",
    "Given a sorted array nums, remove the duplicates in-place such that each element appears only once and returns the new length.\n",
    "\n",
    "Input: nums = [1,1,2]\n",
    "Output: 2, nums = [1,2]\n",
    "Explanation: Your function should return length = 2, with the first two elements of nums being 1 and 2 respectively. It doesn't matter what you leave beyond the returned length.\n",
    "\n",
    "\n",
    "Input: nums = [0,0,1,1,1,2,2,3,3,4]\n",
    "Output: 5, nums = [0,1,2,3,4]\n",
    "Explanation: Your function should return length = 5, with the first five elements of nums being modified to 0, 1, 2, 3, and 4 respectively. It doesn't matter what values are set beyond the returned length."
   ]
  },
  {
   "cell_type": "code",
   "execution_count": 26,
   "metadata": {},
   "outputs": [
    {
     "data": {
      "text/plain": [
       "5"
      ]
     },
     "execution_count": 26,
     "metadata": {},
     "output_type": "execute_result"
    }
   ],
   "source": [
    "def RemoveDuplicates(nums):\n",
    "    res = 0\n",
    "    for i in range(1,len(nums)):\n",
    "        if nums[res] != nums[i]:\n",
    "            res = res+1\n",
    "            nums[res] = nums[i]\n",
    "    return res+1\n",
    "RemoveDuplicates([0,0,1,1,1,2,2,3,3,4])"
   ]
  },
  {
   "cell_type": "raw",
   "metadata": {},
   "source": [
    "18. Shuffle the Array\n",
    "\n",
    "Given the array nums consisting of 2n elements in the form [x1,x2,...,xn,y1,y2,...,yn].\n",
    "Return the array in the form [x1,y1,x2,y2,...,xn,yn].\n",
    "\n",
    "Example 1:\n",
    "Input: nums = [2,5,1,3,4,7], n = 3\n",
    "Output: [2,3,5,4,1,7] \n",
    "Explanation: Since x1=2, x2=5, x3=1, y1=3, y2=4, y3=7 then the answer is [2,3,5,4,1,7].\n",
    "\n",
    "Example 2:\n",
    "Input: nums = [1,2,3,4,4,3,2,1], n = 4\n",
    "Output: [1,4,2,3,3,2,4,1]\n",
    "\n",
    "Example 3:\n",
    "Input: nums = [1,1,2,2], n = 2\n",
    "Output: [1,2,1,2]"
   ]
  },
  {
   "cell_type": "code",
   "execution_count": 2,
   "metadata": {},
   "outputs": [],
   "source": [
    "def shuffle(nums,n):\n",
    "    N = n\n",
    "    lis = []\n",
    "    i = 0\n",
    "    while i <N:\n",
    "        val1 = nums[i]\n",
    "        val2 = nums[n]\n",
    "        lis.append(val1)\n",
    "        lis.append(val2)\n",
    "        i = i +1\n",
    "        n = n+1\n",
    "    return lis "
   ]
  },
  {
   "cell_type": "code",
   "execution_count": 3,
   "metadata": {},
   "outputs": [],
   "source": [
    "def aa(nums,n):\n",
    "    res = []\n",
    "    for i, j in zip(nums[:n],nums[n:]):\n",
    "        res += [i,j]\n",
    "    return res"
   ]
  },
  {
   "cell_type": "markdown",
   "metadata": {},
   "source": [
    "##### 19. Richest Customer Wealth"
   ]
  },
  {
   "cell_type": "raw",
   "metadata": {},
   "source": [
    "You are given an m x n integer grid accounts where accounts[i][j] is the amount of money the ith customer has in the jth bank. Return the wealth that the richest customer has.\n",
    "\n",
    "A customer's wealth is the amount of money they have in all their bank accounts. The richest customer is the customer that has the maximum wealth.\n",
    "\n",
    "\n",
    "Example 1:\n",
    "\n",
    "Input: accounts = [[1,2,3],[3,2,1]]\n",
    "Output: 6\n",
    "Explanation:\n",
    "1st customer has wealth = 1 + 2 + 3 = 6\n",
    "2nd customer has wealth = 3 + 2 + 1 = 6\n",
    "Both customers are considered the richest with a wealth of 6 each, so return 6.\n",
    "Example 2:\n",
    "\n",
    "Input: accounts = [[1,5],[7,3],[3,5]]\n",
    "Output: 10\n",
    "Explanation: \n",
    "1st customer has wealth = 6\n",
    "2nd customer has wealth = 10 \n",
    "3rd customer has wealth = 8\n",
    "The 2nd customer is the richest with a wealth of 10.\n",
    "Example 3:\n",
    "\n",
    "Input: accounts = [[2,8,7],[7,1,3],[1,9,5]]\n",
    "Output: 17"
   ]
  },
  {
   "cell_type": "code",
   "execution_count": 7,
   "metadata": {},
   "outputs": [],
   "source": [
    "def maximumWealth(accounts):\n",
    "    lis = []\n",
    "    for i in range(len(accounts)):\n",
    "        Sum_val = sum(accounts[i])\n",
    "        lis.append(Sum_val)\n",
    "    return max(lis)"
   ]
  },
  {
   "cell_type": "code",
   "execution_count": 8,
   "metadata": {},
   "outputs": [
    {
     "data": {
      "text/plain": [
       "17"
      ]
     },
     "execution_count": 8,
     "metadata": {},
     "output_type": "execute_result"
    }
   ],
   "source": [
    "maximumWealth([[2,8,7],[7,1,3],[1,9,5]])"
   ]
  },
  {
   "cell_type": "code",
   "execution_count": 11,
   "metadata": {},
   "outputs": [
    {
     "data": {
      "text/plain": [
       "17"
      ]
     },
     "execution_count": 11,
     "metadata": {},
     "output_type": "execute_result"
    }
   ],
   "source": [
    "def maximumwealth(accounts):\n",
    "    return max(map(sum,accounts))\n",
    "maximumwealth([[2,8,7],[7,1,3],[1,9,5]])"
   ]
  },
  {
   "cell_type": "markdown",
   "metadata": {},
   "source": [
    "##### 20. Kids With the Greatest Number of Candies"
   ]
  },
  {
   "cell_type": "raw",
   "metadata": {},
   "source": [
    "Given the array candies and the integer extraCandies, where candies[i] represents the number of candies that the ith kid has.\n",
    "\n",
    "For each kid check if there is a way to distribute extraCandies among the kids such that he or she can have the greatest number of candies among them. Notice that multiple kids can have the greatest number of candies.\n",
    "\n",
    " \n",
    "\n",
    "Example 1:\n",
    "\n",
    "Input: candies = [2,3,5,1,3], extraCandies = 3\n",
    "Output: [true,true,true,false,true] \n",
    "Explanation: \n",
    "Kid 1 has 2 candies and if he or she receives all extra candies (3) will have 5 candies --- the greatest number of candies among the kids. \n",
    "Kid 2 has 3 candies and if he or she receives at least 2 extra candies will have the greatest number of candies among the kids. \n",
    "Kid 3 has 5 candies and this is already the greatest number of candies among the kids. \n",
    "Kid 4 has 1 candy and even if he or she receives all extra candies will only have 4 candies. \n",
    "Kid 5 has 3 candies and if he or she receives at least 2 extra candies will have the greatest number of candies among the kids. \n",
    "Example 2:\n",
    "\n",
    "Input: candies = [4,2,1,1,2], extraCandies = 1\n",
    "Output: [true,false,false,false,false] \n",
    "Explanation: There is only 1 extra candy, therefore only kid 1 will have the greatest number of candies among the kids regardless of who takes the extra candy.\n",
    "Example 3:\n",
    "\n",
    "Input: candies = [12,1,12], extraCandies = 10\n",
    "Output: [true,false,true]"
   ]
  },
  {
   "cell_type": "code",
   "execution_count": 12,
   "metadata": {},
   "outputs": [
    {
     "name": "stdout",
     "output_type": "stream",
     "text": [
      "['true', 'true', 'true', 'false', 'true']\n"
     ]
    }
   ],
   "source": [
    "def kidsWithCandies(candies, extraCandies):\n",
    "    maximum = max(candies)\n",
    "    for i in range(len(candies)):\n",
    "        no_of_candies = candies[i]\n",
    "        current_maximum = no_of_candies + extraCandies\n",
    "        if (current_maximum >= maximum):\n",
    "            candies[i] = 'true'\n",
    "        else:\n",
    "            candies[i] = 'false'\n",
    "    return candies\n",
    "\n",
    "print(kidsWithCandies([2,3,5,1,3],3))"
   ]
  },
  {
   "cell_type": "markdown",
   "metadata": {},
   "source": [
    "##### 21. Check If All 1's Are at Least Length K Places Away"
   ]
  },
  {
   "cell_type": "raw",
   "metadata": {},
   "source": [
    "Given an array nums of 0s and 1s and an integer k, return True if all 1's are at least k places away from each other, otherwise return False.\n",
    "Example 1:\n",
    "\n",
    "Input: nums = [1,0,0,0,1,0,0,1], k = 2\n",
    "Output: true\n",
    "Explanation: Each of the 1s are at least 2 places away from each other.\n",
    "\n",
    "Example 2:\n",
    "Input: nums = [1,0,0,1,0,1], k = 2\n",
    "Output: false\n",
    "Explanation: The second 1 and third 1 are only one apart from each other.\n",
    "\n",
    "Example 3:\n",
    "Input: nums = [1,1,1,1,1], k = 0\n",
    "Output: true\n",
    "\n",
    "Example 4:\n",
    "Input: nums = [0,1,0,1], k = 1\n",
    "Output: true"
   ]
  },
  {
   "cell_type": "code",
   "execution_count": 26,
   "metadata": {},
   "outputs": [],
   "source": [
    "def kLengthApart(nums,k):\n",
    "    for i in range(len(nums)):\n",
    "        val = nums[i]\n",
    "        if val ==1:\n",
    "            run = 0\n",
    "            j = i+1\n",
    "            if j < len(nums):\n",
    "                while j < len(nums):\n",
    "                    if nums[j] == 1:\n",
    "                        break\n",
    "                    else:\n",
    "                        j = j+1\n",
    "                        run = run+1\n",
    "                if (run < k) and (j < len(nums)):\n",
    "                    return False\n",
    "                else:\n",
    "                    continue\n",
    "            else:\n",
    "                return True\n",
    "    return True"
   ]
  },
  {
   "cell_type": "code",
   "execution_count": 27,
   "metadata": {},
   "outputs": [
    {
     "name": "stdout",
     "output_type": "stream",
     "text": [
      "True\n"
     ]
    }
   ],
   "source": [
    "print(kLengthApart([1,0,0,0,1,0,0,1,0],2))"
   ]
  },
  {
   "cell_type": "markdown",
   "metadata": {},
   "source": [
    "##### 22 Luckey Number"
   ]
  },
  {
   "cell_type": "code",
   "execution_count": null,
   "metadata": {},
   "outputs": [],
   "source": []
  },
  {
   "cell_type": "code",
   "execution_count": 36,
   "metadata": {},
   "outputs": [],
   "source": [
    "def luckyNumbers(matrix):\n",
    "    list_of_minimumsInRow = list(map(min,matrix))\n",
    "    return [max(list_of_minimumsInRow)]"
   ]
  },
  {
   "cell_type": "code",
   "execution_count": 37,
   "metadata": {},
   "outputs": [
    {
     "data": {
      "text/plain": [
       "[18179]"
      ]
     },
     "execution_count": 37,
     "metadata": {},
     "output_type": "execute_result"
    }
   ],
   "source": [
    "luckyNumbers(a)"
   ]
  },
  {
   "cell_type": "code",
   "execution_count": 86,
   "metadata": {},
   "outputs": [],
   "source": [
    "def minimumInRow(matrix):\n",
    "    minis_row = {min(r) for r in matrix}\n",
    "    maxs_col = {max(c) for c in zip(*matrix)}\n",
    "    # then we will find InterSection of both\n",
    "    return list(minis_row & maxs_col)"
   ]
  },
  {
   "cell_type": "code",
   "execution_count": 87,
   "metadata": {},
   "outputs": [
    {
     "data": {
      "text/plain": [
       "[]"
      ]
     },
     "execution_count": 87,
     "metadata": {},
     "output_type": "execute_result"
    }
   ],
   "source": [
    "minimumInRow(a)"
   ]
  },
  {
   "cell_type": "markdown",
   "metadata": {},
   "source": [
    "##### 23 Number of Good Pairs"
   ]
  },
  {
   "cell_type": "raw",
   "metadata": {},
   "source": [
    "Given an array of integers nums.\n",
    "\n",
    "A pair (i,j) is called good if nums[i] == nums[j] and i < j.\n",
    "\n",
    "Return the number of good pairs.\n",
    "\n",
    " \n",
    "\n",
    "Example 1:\n",
    "\n",
    "Input: nums = [1,2,3,1,1,3]\n",
    "Output: 4\n",
    "Explanation: There are 4 good pairs (0,3), (0,4), (3,4), (2,5) 0-indexed.\n",
    "Example 2:\n",
    "\n",
    "Input: nums = [1,1,1,1]\n",
    "Output: 6\n",
    "Explanation: Each pair in the array are good.\n",
    "Example 3:\n",
    "\n",
    "Input: nums = [1,2,3]\n",
    "Output: 0"
   ]
  },
  {
   "cell_type": "code",
   "execution_count": 89,
   "metadata": {},
   "outputs": [],
   "source": [
    "def GoodPairs(nums):\n",
    "    TotalSum = 0\n",
    "    for i in range(len(nums)):\n",
    "        val1 = nums[i]\n",
    "        for j in range(i+1,len(nums)):\n",
    "            if val1 == nums[j]:\n",
    "                TotalSum = TotalSum + 1\n",
    "    return TotalSum"
   ]
  },
  {
   "cell_type": "code",
   "execution_count": 93,
   "metadata": {},
   "outputs": [
    {
     "data": {
      "text/plain": [
       "4"
      ]
     },
     "execution_count": 93,
     "metadata": {},
     "output_type": "execute_result"
    }
   ],
   "source": [
    "GoodPairs([1,2,3,1,1,3])"
   ]
  },
  {
   "cell_type": "markdown",
   "metadata": {},
   "source": [
    "##### Kth Missing Positive Number"
   ]
  },
  {
   "cell_type": "raw",
   "metadata": {},
   "source": [
    "Given an array arr of positive integers sorted in a strictly increasing order, and an integer k.\n",
    "\n",
    "Find the kth positive integer that is missing from this array.\n",
    "\n",
    " \n",
    "\n",
    "Example 1:\n",
    "\n",
    "Input: arr = [2,3,4,7,11], k = 5\n",
    "Output: 9\n",
    "Explanation: The missing positive integers are [1,5,6,8,9,10,12,13,...]. The 5th missing positive integer is 9."
   ]
  },
  {
   "cell_type": "code",
   "execution_count": 103,
   "metadata": {},
   "outputs": [],
   "source": [
    "def KthMissingInteger(arr,k):\n",
    "    lis = []\n",
    "    for i in range(1,1001):\n",
    "        if i not in arr:\n",
    "            lis.append(i)\n",
    "    print(len(lis))\n",
    "    return lis[k-1]"
   ]
  },
  {
   "cell_type": "code",
   "execution_count": 123,
   "metadata": {},
   "outputs": [],
   "source": [
    "def KthMissingInteger(arr,k):\n",
    "    arr_set = set(arr)\n",
    "    for i in range(1, k + len(arr) + 1):\n",
    "        if i not in arr_set:\n",
    "            k -= 1\n",
    "        if k == 0:\n",
    "            return i"
   ]
  },
  {
   "cell_type": "code",
   "execution_count": 121,
   "metadata": {},
   "outputs": [],
   "source": [
    "def KthMissingInteger(arr,k):\n",
    "    arr_set = set(arr)\n",
    "    for i in range(1,len(arr)):\n",
    "        if i not in arr_set:\n",
    "            k -= 1\n",
    "        if k == 0:\n",
    "            return i"
   ]
  },
  {
   "cell_type": "code",
   "execution_count": 124,
   "metadata": {},
   "outputs": [
    {
     "data": {
      "text/plain": [
       "9"
      ]
     },
     "execution_count": 124,
     "metadata": {},
     "output_type": "execute_result"
    }
   ],
   "source": [
    "KthMissingInteger([2,3,4,7,11],5)"
   ]
  },
  {
   "cell_type": "code",
   "execution_count": 111,
   "metadata": {},
   "outputs": [],
   "source": [
    "def KthMissingInteger(arr,k):\n",
    "    beg, end = 0, len(arr)\n",
    "    while beg < end:\n",
    "        mid = (beg + end) // 2\n",
    "        if arr[mid] - mid - 1 < k:\n",
    "            beg = mid + 1\n",
    "        else:\n",
    "            end = mid\n",
    "    return end + k"
   ]
  },
  {
   "cell_type": "code",
   "execution_count": 112,
   "metadata": {},
   "outputs": [
    {
     "data": {
      "text/plain": [
       "1313"
      ]
     },
     "execution_count": 112,
     "metadata": {},
     "output_type": "execute_result"
    }
   ],
   "source": [
    "KthMissingInteger([1,3,5,6,7,8,11,13,14,16,17,18,19,20,21,23,24,25,26,28,29,30,31,34,35,36,37,38,41,43,44,47,50,51,53,54,56,57,58,59,60,62,63,65,67,68,69,70,71,72,73,74,76,78,80,81,83,84,85,88,89,90,91,92,93,95,97,98,102,103,104,105,108,109,110,111,112,113,114,117,120,123,124,125,127,128,129,130,131,132,133,135,136,137,138,139,141,142,145,146,148,149,150,151,153,154,155,156,161,162,164,167,168,169,170,171,172,175,176,178,179,181,182,184,191,193,195,196,199,201,202,204,205,208,210,214,215,217,219,221,222,224,226,228,229,230,231,232,234,235,236,240,242,246,248,249,251,252,253,254,255,256,257,258,259,260,261,262,265,267,269,272,273,275,278,279,280,281,282,283,284,285,286,287,289,291,292,293,296,297,298,299,303,305,306,308,312,313,315,316,318,320,323,324,327,330,332,335,337,340,342,343,344,346,349,350,352,353,354,356,357,359,360,362,366,367,369,370,374,375,376,377,378,379,382,384,386,390,392,393,394,395,396,399,400,401,403,406,411,413,415,416,420,424,425,426,427,429,430,432,434,435,436,437,438,439,440,441,442,443,444,446,447,448,449,452,455,456,458,459,460,461,462,463,464,465,466,467,469,470,471,472,477,479,480,483,484,486,488,489,490,491,492,493,494,495,500,501,503,504,506,508,510,513,514,515,516,517,527,531,533,534,535,536,542,543,546,547,548,549,550,553,556,559,561,562,563,566,567,569,571,572,576,578,579,581,582,583,584,586,589,591,592,593,594,595,598,600,601,602,603,605,606,607,609,611,612,613,614,616,617,621,622,624,625,626,627,630,631,633,635,636,637,639,640,643,644,646,647,648,649,650,651,652,654,658,660,661,662,663,664,665,667,668,669,672,673,678,679,683,685,686,687,689,690,691,692,693,695,696,697,701,702,703,704,707,709,711,714,717,718,719,720,721,723,724,725,726,728,729,730,733,735,736,737,738,740,742,745,746,747,750,754,755,757,759,761,763,765,768,771,773,774,775,776,779,780,781,782,783,784,787,788,789,790,791,792,794,795,797,798,800,801,805,806,808,810,811,812,814,816,819,822,824,825,826,828,831,833,835,838,841,842,844,845,846,847,849,853,854,855,857,858,861,862,866,868,869,870,874,878,882,884,885,888,889,890,892,893,897,900,903,905,906,907,908,911,913,916,918,920,921,922,924,925,926,928,929,930,932,933,934,936,937,938,940,942,944,946,949,953,954,956,957,958,961,962,964,965,966,969,972,973,974,976,977,978,979,980,981,982,984,985,986,988,993,996,997,999],724)"
   ]
  },
  {
   "cell_type": "code",
   "execution_count": 104,
   "metadata": {},
   "outputs": [
    {
     "name": "stdout",
     "output_type": "stream",
     "text": [
      "411\n"
     ]
    },
    {
     "ename": "IndexError",
     "evalue": "list index out of range",
     "output_type": "error",
     "traceback": [
      "\u001b[1;31m---------------------------------------------------------------------------\u001b[0m",
      "\u001b[1;31mIndexError\u001b[0m                                Traceback (most recent call last)",
      "\u001b[1;32m<ipython-input-104-bd9de5e20b9e>\u001b[0m in \u001b[0;36m<module>\u001b[1;34m\u001b[0m\n\u001b[1;32m----> 1\u001b[1;33m \u001b[0mKthMissingInteger\u001b[0m\u001b[1;33m(\u001b[0m\u001b[1;33m[\u001b[0m\u001b[1;36m1\u001b[0m\u001b[1;33m,\u001b[0m\u001b[1;36m3\u001b[0m\u001b[1;33m,\u001b[0m\u001b[1;36m5\u001b[0m\u001b[1;33m,\u001b[0m\u001b[1;36m6\u001b[0m\u001b[1;33m,\u001b[0m\u001b[1;36m7\u001b[0m\u001b[1;33m,\u001b[0m\u001b[1;36m8\u001b[0m\u001b[1;33m,\u001b[0m\u001b[1;36m11\u001b[0m\u001b[1;33m,\u001b[0m\u001b[1;36m13\u001b[0m\u001b[1;33m,\u001b[0m\u001b[1;36m14\u001b[0m\u001b[1;33m,\u001b[0m\u001b[1;36m16\u001b[0m\u001b[1;33m,\u001b[0m\u001b[1;36m17\u001b[0m\u001b[1;33m,\u001b[0m\u001b[1;36m18\u001b[0m\u001b[1;33m,\u001b[0m\u001b[1;36m19\u001b[0m\u001b[1;33m,\u001b[0m\u001b[1;36m20\u001b[0m\u001b[1;33m,\u001b[0m\u001b[1;36m21\u001b[0m\u001b[1;33m,\u001b[0m\u001b[1;36m23\u001b[0m\u001b[1;33m,\u001b[0m\u001b[1;36m24\u001b[0m\u001b[1;33m,\u001b[0m\u001b[1;36m25\u001b[0m\u001b[1;33m,\u001b[0m\u001b[1;36m26\u001b[0m\u001b[1;33m,\u001b[0m\u001b[1;36m28\u001b[0m\u001b[1;33m,\u001b[0m\u001b[1;36m29\u001b[0m\u001b[1;33m,\u001b[0m\u001b[1;36m30\u001b[0m\u001b[1;33m,\u001b[0m\u001b[1;36m31\u001b[0m\u001b[1;33m,\u001b[0m\u001b[1;36m34\u001b[0m\u001b[1;33m,\u001b[0m\u001b[1;36m35\u001b[0m\u001b[1;33m,\u001b[0m\u001b[1;36m36\u001b[0m\u001b[1;33m,\u001b[0m\u001b[1;36m37\u001b[0m\u001b[1;33m,\u001b[0m\u001b[1;36m38\u001b[0m\u001b[1;33m,\u001b[0m\u001b[1;36m41\u001b[0m\u001b[1;33m,\u001b[0m\u001b[1;36m43\u001b[0m\u001b[1;33m,\u001b[0m\u001b[1;36m44\u001b[0m\u001b[1;33m,\u001b[0m\u001b[1;36m47\u001b[0m\u001b[1;33m,\u001b[0m\u001b[1;36m50\u001b[0m\u001b[1;33m,\u001b[0m\u001b[1;36m51\u001b[0m\u001b[1;33m,\u001b[0m\u001b[1;36m53\u001b[0m\u001b[1;33m,\u001b[0m\u001b[1;36m54\u001b[0m\u001b[1;33m,\u001b[0m\u001b[1;36m56\u001b[0m\u001b[1;33m,\u001b[0m\u001b[1;36m57\u001b[0m\u001b[1;33m,\u001b[0m\u001b[1;36m58\u001b[0m\u001b[1;33m,\u001b[0m\u001b[1;36m59\u001b[0m\u001b[1;33m,\u001b[0m\u001b[1;36m60\u001b[0m\u001b[1;33m,\u001b[0m\u001b[1;36m62\u001b[0m\u001b[1;33m,\u001b[0m\u001b[1;36m63\u001b[0m\u001b[1;33m,\u001b[0m\u001b[1;36m65\u001b[0m\u001b[1;33m,\u001b[0m\u001b[1;36m67\u001b[0m\u001b[1;33m,\u001b[0m\u001b[1;36m68\u001b[0m\u001b[1;33m,\u001b[0m\u001b[1;36m69\u001b[0m\u001b[1;33m,\u001b[0m\u001b[1;36m70\u001b[0m\u001b[1;33m,\u001b[0m\u001b[1;36m71\u001b[0m\u001b[1;33m,\u001b[0m\u001b[1;36m72\u001b[0m\u001b[1;33m,\u001b[0m\u001b[1;36m73\u001b[0m\u001b[1;33m,\u001b[0m\u001b[1;36m74\u001b[0m\u001b[1;33m,\u001b[0m\u001b[1;36m76\u001b[0m\u001b[1;33m,\u001b[0m\u001b[1;36m78\u001b[0m\u001b[1;33m,\u001b[0m\u001b[1;36m80\u001b[0m\u001b[1;33m,\u001b[0m\u001b[1;36m81\u001b[0m\u001b[1;33m,\u001b[0m\u001b[1;36m83\u001b[0m\u001b[1;33m,\u001b[0m\u001b[1;36m84\u001b[0m\u001b[1;33m,\u001b[0m\u001b[1;36m85\u001b[0m\u001b[1;33m,\u001b[0m\u001b[1;36m88\u001b[0m\u001b[1;33m,\u001b[0m\u001b[1;36m89\u001b[0m\u001b[1;33m,\u001b[0m\u001b[1;36m90\u001b[0m\u001b[1;33m,\u001b[0m\u001b[1;36m91\u001b[0m\u001b[1;33m,\u001b[0m\u001b[1;36m92\u001b[0m\u001b[1;33m,\u001b[0m\u001b[1;36m93\u001b[0m\u001b[1;33m,\u001b[0m\u001b[1;36m95\u001b[0m\u001b[1;33m,\u001b[0m\u001b[1;36m97\u001b[0m\u001b[1;33m,\u001b[0m\u001b[1;36m98\u001b[0m\u001b[1;33m,\u001b[0m\u001b[1;36m102\u001b[0m\u001b[1;33m,\u001b[0m\u001b[1;36m103\u001b[0m\u001b[1;33m,\u001b[0m\u001b[1;36m104\u001b[0m\u001b[1;33m,\u001b[0m\u001b[1;36m105\u001b[0m\u001b[1;33m,\u001b[0m\u001b[1;36m108\u001b[0m\u001b[1;33m,\u001b[0m\u001b[1;36m109\u001b[0m\u001b[1;33m,\u001b[0m\u001b[1;36m110\u001b[0m\u001b[1;33m,\u001b[0m\u001b[1;36m111\u001b[0m\u001b[1;33m,\u001b[0m\u001b[1;36m112\u001b[0m\u001b[1;33m,\u001b[0m\u001b[1;36m113\u001b[0m\u001b[1;33m,\u001b[0m\u001b[1;36m114\u001b[0m\u001b[1;33m,\u001b[0m\u001b[1;36m117\u001b[0m\u001b[1;33m,\u001b[0m\u001b[1;36m120\u001b[0m\u001b[1;33m,\u001b[0m\u001b[1;36m123\u001b[0m\u001b[1;33m,\u001b[0m\u001b[1;36m124\u001b[0m\u001b[1;33m,\u001b[0m\u001b[1;36m125\u001b[0m\u001b[1;33m,\u001b[0m\u001b[1;36m127\u001b[0m\u001b[1;33m,\u001b[0m\u001b[1;36m128\u001b[0m\u001b[1;33m,\u001b[0m\u001b[1;36m129\u001b[0m\u001b[1;33m,\u001b[0m\u001b[1;36m130\u001b[0m\u001b[1;33m,\u001b[0m\u001b[1;36m131\u001b[0m\u001b[1;33m,\u001b[0m\u001b[1;36m132\u001b[0m\u001b[1;33m,\u001b[0m\u001b[1;36m133\u001b[0m\u001b[1;33m,\u001b[0m\u001b[1;36m135\u001b[0m\u001b[1;33m,\u001b[0m\u001b[1;36m136\u001b[0m\u001b[1;33m,\u001b[0m\u001b[1;36m137\u001b[0m\u001b[1;33m,\u001b[0m\u001b[1;36m138\u001b[0m\u001b[1;33m,\u001b[0m\u001b[1;36m139\u001b[0m\u001b[1;33m,\u001b[0m\u001b[1;36m141\u001b[0m\u001b[1;33m,\u001b[0m\u001b[1;36m142\u001b[0m\u001b[1;33m,\u001b[0m\u001b[1;36m145\u001b[0m\u001b[1;33m,\u001b[0m\u001b[1;36m146\u001b[0m\u001b[1;33m,\u001b[0m\u001b[1;36m148\u001b[0m\u001b[1;33m,\u001b[0m\u001b[1;36m149\u001b[0m\u001b[1;33m,\u001b[0m\u001b[1;36m150\u001b[0m\u001b[1;33m,\u001b[0m\u001b[1;36m151\u001b[0m\u001b[1;33m,\u001b[0m\u001b[1;36m153\u001b[0m\u001b[1;33m,\u001b[0m\u001b[1;36m154\u001b[0m\u001b[1;33m,\u001b[0m\u001b[1;36m155\u001b[0m\u001b[1;33m,\u001b[0m\u001b[1;36m156\u001b[0m\u001b[1;33m,\u001b[0m\u001b[1;36m161\u001b[0m\u001b[1;33m,\u001b[0m\u001b[1;36m162\u001b[0m\u001b[1;33m,\u001b[0m\u001b[1;36m164\u001b[0m\u001b[1;33m,\u001b[0m\u001b[1;36m167\u001b[0m\u001b[1;33m,\u001b[0m\u001b[1;36m168\u001b[0m\u001b[1;33m,\u001b[0m\u001b[1;36m169\u001b[0m\u001b[1;33m,\u001b[0m\u001b[1;36m170\u001b[0m\u001b[1;33m,\u001b[0m\u001b[1;36m171\u001b[0m\u001b[1;33m,\u001b[0m\u001b[1;36m172\u001b[0m\u001b[1;33m,\u001b[0m\u001b[1;36m175\u001b[0m\u001b[1;33m,\u001b[0m\u001b[1;36m176\u001b[0m\u001b[1;33m,\u001b[0m\u001b[1;36m178\u001b[0m\u001b[1;33m,\u001b[0m\u001b[1;36m179\u001b[0m\u001b[1;33m,\u001b[0m\u001b[1;36m181\u001b[0m\u001b[1;33m,\u001b[0m\u001b[1;36m182\u001b[0m\u001b[1;33m,\u001b[0m\u001b[1;36m184\u001b[0m\u001b[1;33m,\u001b[0m\u001b[1;36m191\u001b[0m\u001b[1;33m,\u001b[0m\u001b[1;36m193\u001b[0m\u001b[1;33m,\u001b[0m\u001b[1;36m195\u001b[0m\u001b[1;33m,\u001b[0m\u001b[1;36m196\u001b[0m\u001b[1;33m,\u001b[0m\u001b[1;36m199\u001b[0m\u001b[1;33m,\u001b[0m\u001b[1;36m201\u001b[0m\u001b[1;33m,\u001b[0m\u001b[1;36m202\u001b[0m\u001b[1;33m,\u001b[0m\u001b[1;36m204\u001b[0m\u001b[1;33m,\u001b[0m\u001b[1;36m205\u001b[0m\u001b[1;33m,\u001b[0m\u001b[1;36m208\u001b[0m\u001b[1;33m,\u001b[0m\u001b[1;36m210\u001b[0m\u001b[1;33m,\u001b[0m\u001b[1;36m214\u001b[0m\u001b[1;33m,\u001b[0m\u001b[1;36m215\u001b[0m\u001b[1;33m,\u001b[0m\u001b[1;36m217\u001b[0m\u001b[1;33m,\u001b[0m\u001b[1;36m219\u001b[0m\u001b[1;33m,\u001b[0m\u001b[1;36m221\u001b[0m\u001b[1;33m,\u001b[0m\u001b[1;36m222\u001b[0m\u001b[1;33m,\u001b[0m\u001b[1;36m224\u001b[0m\u001b[1;33m,\u001b[0m\u001b[1;36m226\u001b[0m\u001b[1;33m,\u001b[0m\u001b[1;36m228\u001b[0m\u001b[1;33m,\u001b[0m\u001b[1;36m229\u001b[0m\u001b[1;33m,\u001b[0m\u001b[1;36m230\u001b[0m\u001b[1;33m,\u001b[0m\u001b[1;36m231\u001b[0m\u001b[1;33m,\u001b[0m\u001b[1;36m232\u001b[0m\u001b[1;33m,\u001b[0m\u001b[1;36m234\u001b[0m\u001b[1;33m,\u001b[0m\u001b[1;36m235\u001b[0m\u001b[1;33m,\u001b[0m\u001b[1;36m236\u001b[0m\u001b[1;33m,\u001b[0m\u001b[1;36m240\u001b[0m\u001b[1;33m,\u001b[0m\u001b[1;36m242\u001b[0m\u001b[1;33m,\u001b[0m\u001b[1;36m246\u001b[0m\u001b[1;33m,\u001b[0m\u001b[1;36m248\u001b[0m\u001b[1;33m,\u001b[0m\u001b[1;36m249\u001b[0m\u001b[1;33m,\u001b[0m\u001b[1;36m251\u001b[0m\u001b[1;33m,\u001b[0m\u001b[1;36m252\u001b[0m\u001b[1;33m,\u001b[0m\u001b[1;36m253\u001b[0m\u001b[1;33m,\u001b[0m\u001b[1;36m254\u001b[0m\u001b[1;33m,\u001b[0m\u001b[1;36m255\u001b[0m\u001b[1;33m,\u001b[0m\u001b[1;36m256\u001b[0m\u001b[1;33m,\u001b[0m\u001b[1;36m257\u001b[0m\u001b[1;33m,\u001b[0m\u001b[1;36m258\u001b[0m\u001b[1;33m,\u001b[0m\u001b[1;36m259\u001b[0m\u001b[1;33m,\u001b[0m\u001b[1;36m260\u001b[0m\u001b[1;33m,\u001b[0m\u001b[1;36m261\u001b[0m\u001b[1;33m,\u001b[0m\u001b[1;36m262\u001b[0m\u001b[1;33m,\u001b[0m\u001b[1;36m265\u001b[0m\u001b[1;33m,\u001b[0m\u001b[1;36m267\u001b[0m\u001b[1;33m,\u001b[0m\u001b[1;36m269\u001b[0m\u001b[1;33m,\u001b[0m\u001b[1;36m272\u001b[0m\u001b[1;33m,\u001b[0m\u001b[1;36m273\u001b[0m\u001b[1;33m,\u001b[0m\u001b[1;36m275\u001b[0m\u001b[1;33m,\u001b[0m\u001b[1;36m278\u001b[0m\u001b[1;33m,\u001b[0m\u001b[1;36m279\u001b[0m\u001b[1;33m,\u001b[0m\u001b[1;36m280\u001b[0m\u001b[1;33m,\u001b[0m\u001b[1;36m281\u001b[0m\u001b[1;33m,\u001b[0m\u001b[1;36m282\u001b[0m\u001b[1;33m,\u001b[0m\u001b[1;36m283\u001b[0m\u001b[1;33m,\u001b[0m\u001b[1;36m284\u001b[0m\u001b[1;33m,\u001b[0m\u001b[1;36m285\u001b[0m\u001b[1;33m,\u001b[0m\u001b[1;36m286\u001b[0m\u001b[1;33m,\u001b[0m\u001b[1;36m287\u001b[0m\u001b[1;33m,\u001b[0m\u001b[1;36m289\u001b[0m\u001b[1;33m,\u001b[0m\u001b[1;36m291\u001b[0m\u001b[1;33m,\u001b[0m\u001b[1;36m292\u001b[0m\u001b[1;33m,\u001b[0m\u001b[1;36m293\u001b[0m\u001b[1;33m,\u001b[0m\u001b[1;36m296\u001b[0m\u001b[1;33m,\u001b[0m\u001b[1;36m297\u001b[0m\u001b[1;33m,\u001b[0m\u001b[1;36m298\u001b[0m\u001b[1;33m,\u001b[0m\u001b[1;36m299\u001b[0m\u001b[1;33m,\u001b[0m\u001b[1;36m303\u001b[0m\u001b[1;33m,\u001b[0m\u001b[1;36m305\u001b[0m\u001b[1;33m,\u001b[0m\u001b[1;36m306\u001b[0m\u001b[1;33m,\u001b[0m\u001b[1;36m308\u001b[0m\u001b[1;33m,\u001b[0m\u001b[1;36m312\u001b[0m\u001b[1;33m,\u001b[0m\u001b[1;36m313\u001b[0m\u001b[1;33m,\u001b[0m\u001b[1;36m315\u001b[0m\u001b[1;33m,\u001b[0m\u001b[1;36m316\u001b[0m\u001b[1;33m,\u001b[0m\u001b[1;36m318\u001b[0m\u001b[1;33m,\u001b[0m\u001b[1;36m320\u001b[0m\u001b[1;33m,\u001b[0m\u001b[1;36m323\u001b[0m\u001b[1;33m,\u001b[0m\u001b[1;36m324\u001b[0m\u001b[1;33m,\u001b[0m\u001b[1;36m327\u001b[0m\u001b[1;33m,\u001b[0m\u001b[1;36m330\u001b[0m\u001b[1;33m,\u001b[0m\u001b[1;36m332\u001b[0m\u001b[1;33m,\u001b[0m\u001b[1;36m335\u001b[0m\u001b[1;33m,\u001b[0m\u001b[1;36m337\u001b[0m\u001b[1;33m,\u001b[0m\u001b[1;36m340\u001b[0m\u001b[1;33m,\u001b[0m\u001b[1;36m342\u001b[0m\u001b[1;33m,\u001b[0m\u001b[1;36m343\u001b[0m\u001b[1;33m,\u001b[0m\u001b[1;36m344\u001b[0m\u001b[1;33m,\u001b[0m\u001b[1;36m346\u001b[0m\u001b[1;33m,\u001b[0m\u001b[1;36m349\u001b[0m\u001b[1;33m,\u001b[0m\u001b[1;36m350\u001b[0m\u001b[1;33m,\u001b[0m\u001b[1;36m352\u001b[0m\u001b[1;33m,\u001b[0m\u001b[1;36m353\u001b[0m\u001b[1;33m,\u001b[0m\u001b[1;36m354\u001b[0m\u001b[1;33m,\u001b[0m\u001b[1;36m356\u001b[0m\u001b[1;33m,\u001b[0m\u001b[1;36m357\u001b[0m\u001b[1;33m,\u001b[0m\u001b[1;36m359\u001b[0m\u001b[1;33m,\u001b[0m\u001b[1;36m360\u001b[0m\u001b[1;33m,\u001b[0m\u001b[1;36m362\u001b[0m\u001b[1;33m,\u001b[0m\u001b[1;36m366\u001b[0m\u001b[1;33m,\u001b[0m\u001b[1;36m367\u001b[0m\u001b[1;33m,\u001b[0m\u001b[1;36m369\u001b[0m\u001b[1;33m,\u001b[0m\u001b[1;36m370\u001b[0m\u001b[1;33m,\u001b[0m\u001b[1;36m374\u001b[0m\u001b[1;33m,\u001b[0m\u001b[1;36m375\u001b[0m\u001b[1;33m,\u001b[0m\u001b[1;36m376\u001b[0m\u001b[1;33m,\u001b[0m\u001b[1;36m377\u001b[0m\u001b[1;33m,\u001b[0m\u001b[1;36m378\u001b[0m\u001b[1;33m,\u001b[0m\u001b[1;36m379\u001b[0m\u001b[1;33m,\u001b[0m\u001b[1;36m382\u001b[0m\u001b[1;33m,\u001b[0m\u001b[1;36m384\u001b[0m\u001b[1;33m,\u001b[0m\u001b[1;36m386\u001b[0m\u001b[1;33m,\u001b[0m\u001b[1;36m390\u001b[0m\u001b[1;33m,\u001b[0m\u001b[1;36m392\u001b[0m\u001b[1;33m,\u001b[0m\u001b[1;36m393\u001b[0m\u001b[1;33m,\u001b[0m\u001b[1;36m394\u001b[0m\u001b[1;33m,\u001b[0m\u001b[1;36m395\u001b[0m\u001b[1;33m,\u001b[0m\u001b[1;36m396\u001b[0m\u001b[1;33m,\u001b[0m\u001b[1;36m399\u001b[0m\u001b[1;33m,\u001b[0m\u001b[1;36m400\u001b[0m\u001b[1;33m,\u001b[0m\u001b[1;36m401\u001b[0m\u001b[1;33m,\u001b[0m\u001b[1;36m403\u001b[0m\u001b[1;33m,\u001b[0m\u001b[1;36m406\u001b[0m\u001b[1;33m,\u001b[0m\u001b[1;36m411\u001b[0m\u001b[1;33m,\u001b[0m\u001b[1;36m413\u001b[0m\u001b[1;33m,\u001b[0m\u001b[1;36m415\u001b[0m\u001b[1;33m,\u001b[0m\u001b[1;36m416\u001b[0m\u001b[1;33m,\u001b[0m\u001b[1;36m420\u001b[0m\u001b[1;33m,\u001b[0m\u001b[1;36m424\u001b[0m\u001b[1;33m,\u001b[0m\u001b[1;36m425\u001b[0m\u001b[1;33m,\u001b[0m\u001b[1;36m426\u001b[0m\u001b[1;33m,\u001b[0m\u001b[1;36m427\u001b[0m\u001b[1;33m,\u001b[0m\u001b[1;36m429\u001b[0m\u001b[1;33m,\u001b[0m\u001b[1;36m430\u001b[0m\u001b[1;33m,\u001b[0m\u001b[1;36m432\u001b[0m\u001b[1;33m,\u001b[0m\u001b[1;36m434\u001b[0m\u001b[1;33m,\u001b[0m\u001b[1;36m435\u001b[0m\u001b[1;33m,\u001b[0m\u001b[1;36m436\u001b[0m\u001b[1;33m,\u001b[0m\u001b[1;36m437\u001b[0m\u001b[1;33m,\u001b[0m\u001b[1;36m438\u001b[0m\u001b[1;33m,\u001b[0m\u001b[1;36m439\u001b[0m\u001b[1;33m,\u001b[0m\u001b[1;36m440\u001b[0m\u001b[1;33m,\u001b[0m\u001b[1;36m441\u001b[0m\u001b[1;33m,\u001b[0m\u001b[1;36m442\u001b[0m\u001b[1;33m,\u001b[0m\u001b[1;36m443\u001b[0m\u001b[1;33m,\u001b[0m\u001b[1;36m444\u001b[0m\u001b[1;33m,\u001b[0m\u001b[1;36m446\u001b[0m\u001b[1;33m,\u001b[0m\u001b[1;36m447\u001b[0m\u001b[1;33m,\u001b[0m\u001b[1;36m448\u001b[0m\u001b[1;33m,\u001b[0m\u001b[1;36m449\u001b[0m\u001b[1;33m,\u001b[0m\u001b[1;36m452\u001b[0m\u001b[1;33m,\u001b[0m\u001b[1;36m455\u001b[0m\u001b[1;33m,\u001b[0m\u001b[1;36m456\u001b[0m\u001b[1;33m,\u001b[0m\u001b[1;36m458\u001b[0m\u001b[1;33m,\u001b[0m\u001b[1;36m459\u001b[0m\u001b[1;33m,\u001b[0m\u001b[1;36m460\u001b[0m\u001b[1;33m,\u001b[0m\u001b[1;36m461\u001b[0m\u001b[1;33m,\u001b[0m\u001b[1;36m462\u001b[0m\u001b[1;33m,\u001b[0m\u001b[1;36m463\u001b[0m\u001b[1;33m,\u001b[0m\u001b[1;36m464\u001b[0m\u001b[1;33m,\u001b[0m\u001b[1;36m465\u001b[0m\u001b[1;33m,\u001b[0m\u001b[1;36m466\u001b[0m\u001b[1;33m,\u001b[0m\u001b[1;36m467\u001b[0m\u001b[1;33m,\u001b[0m\u001b[1;36m469\u001b[0m\u001b[1;33m,\u001b[0m\u001b[1;36m470\u001b[0m\u001b[1;33m,\u001b[0m\u001b[1;36m471\u001b[0m\u001b[1;33m,\u001b[0m\u001b[1;36m472\u001b[0m\u001b[1;33m,\u001b[0m\u001b[1;36m477\u001b[0m\u001b[1;33m,\u001b[0m\u001b[1;36m479\u001b[0m\u001b[1;33m,\u001b[0m\u001b[1;36m480\u001b[0m\u001b[1;33m,\u001b[0m\u001b[1;36m483\u001b[0m\u001b[1;33m,\u001b[0m\u001b[1;36m484\u001b[0m\u001b[1;33m,\u001b[0m\u001b[1;36m486\u001b[0m\u001b[1;33m,\u001b[0m\u001b[1;36m488\u001b[0m\u001b[1;33m,\u001b[0m\u001b[1;36m489\u001b[0m\u001b[1;33m,\u001b[0m\u001b[1;36m490\u001b[0m\u001b[1;33m,\u001b[0m\u001b[1;36m491\u001b[0m\u001b[1;33m,\u001b[0m\u001b[1;36m492\u001b[0m\u001b[1;33m,\u001b[0m\u001b[1;36m493\u001b[0m\u001b[1;33m,\u001b[0m\u001b[1;36m494\u001b[0m\u001b[1;33m,\u001b[0m\u001b[1;36m495\u001b[0m\u001b[1;33m,\u001b[0m\u001b[1;36m500\u001b[0m\u001b[1;33m,\u001b[0m\u001b[1;36m501\u001b[0m\u001b[1;33m,\u001b[0m\u001b[1;36m503\u001b[0m\u001b[1;33m,\u001b[0m\u001b[1;36m504\u001b[0m\u001b[1;33m,\u001b[0m\u001b[1;36m506\u001b[0m\u001b[1;33m,\u001b[0m\u001b[1;36m508\u001b[0m\u001b[1;33m,\u001b[0m\u001b[1;36m510\u001b[0m\u001b[1;33m,\u001b[0m\u001b[1;36m513\u001b[0m\u001b[1;33m,\u001b[0m\u001b[1;36m514\u001b[0m\u001b[1;33m,\u001b[0m\u001b[1;36m515\u001b[0m\u001b[1;33m,\u001b[0m\u001b[1;36m516\u001b[0m\u001b[1;33m,\u001b[0m\u001b[1;36m517\u001b[0m\u001b[1;33m,\u001b[0m\u001b[1;36m527\u001b[0m\u001b[1;33m,\u001b[0m\u001b[1;36m531\u001b[0m\u001b[1;33m,\u001b[0m\u001b[1;36m533\u001b[0m\u001b[1;33m,\u001b[0m\u001b[1;36m534\u001b[0m\u001b[1;33m,\u001b[0m\u001b[1;36m535\u001b[0m\u001b[1;33m,\u001b[0m\u001b[1;36m536\u001b[0m\u001b[1;33m,\u001b[0m\u001b[1;36m542\u001b[0m\u001b[1;33m,\u001b[0m\u001b[1;36m543\u001b[0m\u001b[1;33m,\u001b[0m\u001b[1;36m546\u001b[0m\u001b[1;33m,\u001b[0m\u001b[1;36m547\u001b[0m\u001b[1;33m,\u001b[0m\u001b[1;36m548\u001b[0m\u001b[1;33m,\u001b[0m\u001b[1;36m549\u001b[0m\u001b[1;33m,\u001b[0m\u001b[1;36m550\u001b[0m\u001b[1;33m,\u001b[0m\u001b[1;36m553\u001b[0m\u001b[1;33m,\u001b[0m\u001b[1;36m556\u001b[0m\u001b[1;33m,\u001b[0m\u001b[1;36m559\u001b[0m\u001b[1;33m,\u001b[0m\u001b[1;36m561\u001b[0m\u001b[1;33m,\u001b[0m\u001b[1;36m562\u001b[0m\u001b[1;33m,\u001b[0m\u001b[1;36m563\u001b[0m\u001b[1;33m,\u001b[0m\u001b[1;36m566\u001b[0m\u001b[1;33m,\u001b[0m\u001b[1;36m567\u001b[0m\u001b[1;33m,\u001b[0m\u001b[1;36m569\u001b[0m\u001b[1;33m,\u001b[0m\u001b[1;36m571\u001b[0m\u001b[1;33m,\u001b[0m\u001b[1;36m572\u001b[0m\u001b[1;33m,\u001b[0m\u001b[1;36m576\u001b[0m\u001b[1;33m,\u001b[0m\u001b[1;36m578\u001b[0m\u001b[1;33m,\u001b[0m\u001b[1;36m579\u001b[0m\u001b[1;33m,\u001b[0m\u001b[1;36m581\u001b[0m\u001b[1;33m,\u001b[0m\u001b[1;36m582\u001b[0m\u001b[1;33m,\u001b[0m\u001b[1;36m583\u001b[0m\u001b[1;33m,\u001b[0m\u001b[1;36m584\u001b[0m\u001b[1;33m,\u001b[0m\u001b[1;36m586\u001b[0m\u001b[1;33m,\u001b[0m\u001b[1;36m589\u001b[0m\u001b[1;33m,\u001b[0m\u001b[1;36m591\u001b[0m\u001b[1;33m,\u001b[0m\u001b[1;36m592\u001b[0m\u001b[1;33m,\u001b[0m\u001b[1;36m593\u001b[0m\u001b[1;33m,\u001b[0m\u001b[1;36m594\u001b[0m\u001b[1;33m,\u001b[0m\u001b[1;36m595\u001b[0m\u001b[1;33m,\u001b[0m\u001b[1;36m598\u001b[0m\u001b[1;33m,\u001b[0m\u001b[1;36m600\u001b[0m\u001b[1;33m,\u001b[0m\u001b[1;36m601\u001b[0m\u001b[1;33m,\u001b[0m\u001b[1;36m602\u001b[0m\u001b[1;33m,\u001b[0m\u001b[1;36m603\u001b[0m\u001b[1;33m,\u001b[0m\u001b[1;36m605\u001b[0m\u001b[1;33m,\u001b[0m\u001b[1;36m606\u001b[0m\u001b[1;33m,\u001b[0m\u001b[1;36m607\u001b[0m\u001b[1;33m,\u001b[0m\u001b[1;36m609\u001b[0m\u001b[1;33m,\u001b[0m\u001b[1;36m611\u001b[0m\u001b[1;33m,\u001b[0m\u001b[1;36m612\u001b[0m\u001b[1;33m,\u001b[0m\u001b[1;36m613\u001b[0m\u001b[1;33m,\u001b[0m\u001b[1;36m614\u001b[0m\u001b[1;33m,\u001b[0m\u001b[1;36m616\u001b[0m\u001b[1;33m,\u001b[0m\u001b[1;36m617\u001b[0m\u001b[1;33m,\u001b[0m\u001b[1;36m621\u001b[0m\u001b[1;33m,\u001b[0m\u001b[1;36m622\u001b[0m\u001b[1;33m,\u001b[0m\u001b[1;36m624\u001b[0m\u001b[1;33m,\u001b[0m\u001b[1;36m625\u001b[0m\u001b[1;33m,\u001b[0m\u001b[1;36m626\u001b[0m\u001b[1;33m,\u001b[0m\u001b[1;36m627\u001b[0m\u001b[1;33m,\u001b[0m\u001b[1;36m630\u001b[0m\u001b[1;33m,\u001b[0m\u001b[1;36m631\u001b[0m\u001b[1;33m,\u001b[0m\u001b[1;36m633\u001b[0m\u001b[1;33m,\u001b[0m\u001b[1;36m635\u001b[0m\u001b[1;33m,\u001b[0m\u001b[1;36m636\u001b[0m\u001b[1;33m,\u001b[0m\u001b[1;36m637\u001b[0m\u001b[1;33m,\u001b[0m\u001b[1;36m639\u001b[0m\u001b[1;33m,\u001b[0m\u001b[1;36m640\u001b[0m\u001b[1;33m,\u001b[0m\u001b[1;36m643\u001b[0m\u001b[1;33m,\u001b[0m\u001b[1;36m644\u001b[0m\u001b[1;33m,\u001b[0m\u001b[1;36m646\u001b[0m\u001b[1;33m,\u001b[0m\u001b[1;36m647\u001b[0m\u001b[1;33m,\u001b[0m\u001b[1;36m648\u001b[0m\u001b[1;33m,\u001b[0m\u001b[1;36m649\u001b[0m\u001b[1;33m,\u001b[0m\u001b[1;36m650\u001b[0m\u001b[1;33m,\u001b[0m\u001b[1;36m651\u001b[0m\u001b[1;33m,\u001b[0m\u001b[1;36m652\u001b[0m\u001b[1;33m,\u001b[0m\u001b[1;36m654\u001b[0m\u001b[1;33m,\u001b[0m\u001b[1;36m658\u001b[0m\u001b[1;33m,\u001b[0m\u001b[1;36m660\u001b[0m\u001b[1;33m,\u001b[0m\u001b[1;36m661\u001b[0m\u001b[1;33m,\u001b[0m\u001b[1;36m662\u001b[0m\u001b[1;33m,\u001b[0m\u001b[1;36m663\u001b[0m\u001b[1;33m,\u001b[0m\u001b[1;36m664\u001b[0m\u001b[1;33m,\u001b[0m\u001b[1;36m665\u001b[0m\u001b[1;33m,\u001b[0m\u001b[1;36m667\u001b[0m\u001b[1;33m,\u001b[0m\u001b[1;36m668\u001b[0m\u001b[1;33m,\u001b[0m\u001b[1;36m669\u001b[0m\u001b[1;33m,\u001b[0m\u001b[1;36m672\u001b[0m\u001b[1;33m,\u001b[0m\u001b[1;36m673\u001b[0m\u001b[1;33m,\u001b[0m\u001b[1;36m678\u001b[0m\u001b[1;33m,\u001b[0m\u001b[1;36m679\u001b[0m\u001b[1;33m,\u001b[0m\u001b[1;36m683\u001b[0m\u001b[1;33m,\u001b[0m\u001b[1;36m685\u001b[0m\u001b[1;33m,\u001b[0m\u001b[1;36m686\u001b[0m\u001b[1;33m,\u001b[0m\u001b[1;36m687\u001b[0m\u001b[1;33m,\u001b[0m\u001b[1;36m689\u001b[0m\u001b[1;33m,\u001b[0m\u001b[1;36m690\u001b[0m\u001b[1;33m,\u001b[0m\u001b[1;36m691\u001b[0m\u001b[1;33m,\u001b[0m\u001b[1;36m692\u001b[0m\u001b[1;33m,\u001b[0m\u001b[1;36m693\u001b[0m\u001b[1;33m,\u001b[0m\u001b[1;36m695\u001b[0m\u001b[1;33m,\u001b[0m\u001b[1;36m696\u001b[0m\u001b[1;33m,\u001b[0m\u001b[1;36m697\u001b[0m\u001b[1;33m,\u001b[0m\u001b[1;36m701\u001b[0m\u001b[1;33m,\u001b[0m\u001b[1;36m702\u001b[0m\u001b[1;33m,\u001b[0m\u001b[1;36m703\u001b[0m\u001b[1;33m,\u001b[0m\u001b[1;36m704\u001b[0m\u001b[1;33m,\u001b[0m\u001b[1;36m707\u001b[0m\u001b[1;33m,\u001b[0m\u001b[1;36m709\u001b[0m\u001b[1;33m,\u001b[0m\u001b[1;36m711\u001b[0m\u001b[1;33m,\u001b[0m\u001b[1;36m714\u001b[0m\u001b[1;33m,\u001b[0m\u001b[1;36m717\u001b[0m\u001b[1;33m,\u001b[0m\u001b[1;36m718\u001b[0m\u001b[1;33m,\u001b[0m\u001b[1;36m719\u001b[0m\u001b[1;33m,\u001b[0m\u001b[1;36m720\u001b[0m\u001b[1;33m,\u001b[0m\u001b[1;36m721\u001b[0m\u001b[1;33m,\u001b[0m\u001b[1;36m723\u001b[0m\u001b[1;33m,\u001b[0m\u001b[1;36m724\u001b[0m\u001b[1;33m,\u001b[0m\u001b[1;36m725\u001b[0m\u001b[1;33m,\u001b[0m\u001b[1;36m726\u001b[0m\u001b[1;33m,\u001b[0m\u001b[1;36m728\u001b[0m\u001b[1;33m,\u001b[0m\u001b[1;36m729\u001b[0m\u001b[1;33m,\u001b[0m\u001b[1;36m730\u001b[0m\u001b[1;33m,\u001b[0m\u001b[1;36m733\u001b[0m\u001b[1;33m,\u001b[0m\u001b[1;36m735\u001b[0m\u001b[1;33m,\u001b[0m\u001b[1;36m736\u001b[0m\u001b[1;33m,\u001b[0m\u001b[1;36m737\u001b[0m\u001b[1;33m,\u001b[0m\u001b[1;36m738\u001b[0m\u001b[1;33m,\u001b[0m\u001b[1;36m740\u001b[0m\u001b[1;33m,\u001b[0m\u001b[1;36m742\u001b[0m\u001b[1;33m,\u001b[0m\u001b[1;36m745\u001b[0m\u001b[1;33m,\u001b[0m\u001b[1;36m746\u001b[0m\u001b[1;33m,\u001b[0m\u001b[1;36m747\u001b[0m\u001b[1;33m,\u001b[0m\u001b[1;36m750\u001b[0m\u001b[1;33m,\u001b[0m\u001b[1;36m754\u001b[0m\u001b[1;33m,\u001b[0m\u001b[1;36m755\u001b[0m\u001b[1;33m,\u001b[0m\u001b[1;36m757\u001b[0m\u001b[1;33m,\u001b[0m\u001b[1;36m759\u001b[0m\u001b[1;33m,\u001b[0m\u001b[1;36m761\u001b[0m\u001b[1;33m,\u001b[0m\u001b[1;36m763\u001b[0m\u001b[1;33m,\u001b[0m\u001b[1;36m765\u001b[0m\u001b[1;33m,\u001b[0m\u001b[1;36m768\u001b[0m\u001b[1;33m,\u001b[0m\u001b[1;36m771\u001b[0m\u001b[1;33m,\u001b[0m\u001b[1;36m773\u001b[0m\u001b[1;33m,\u001b[0m\u001b[1;36m774\u001b[0m\u001b[1;33m,\u001b[0m\u001b[1;36m775\u001b[0m\u001b[1;33m,\u001b[0m\u001b[1;36m776\u001b[0m\u001b[1;33m,\u001b[0m\u001b[1;36m779\u001b[0m\u001b[1;33m,\u001b[0m\u001b[1;36m780\u001b[0m\u001b[1;33m,\u001b[0m\u001b[1;36m781\u001b[0m\u001b[1;33m,\u001b[0m\u001b[1;36m782\u001b[0m\u001b[1;33m,\u001b[0m\u001b[1;36m783\u001b[0m\u001b[1;33m,\u001b[0m\u001b[1;36m784\u001b[0m\u001b[1;33m,\u001b[0m\u001b[1;36m787\u001b[0m\u001b[1;33m,\u001b[0m\u001b[1;36m788\u001b[0m\u001b[1;33m,\u001b[0m\u001b[1;36m789\u001b[0m\u001b[1;33m,\u001b[0m\u001b[1;36m790\u001b[0m\u001b[1;33m,\u001b[0m\u001b[1;36m791\u001b[0m\u001b[1;33m,\u001b[0m\u001b[1;36m792\u001b[0m\u001b[1;33m,\u001b[0m\u001b[1;36m794\u001b[0m\u001b[1;33m,\u001b[0m\u001b[1;36m795\u001b[0m\u001b[1;33m,\u001b[0m\u001b[1;36m797\u001b[0m\u001b[1;33m,\u001b[0m\u001b[1;36m798\u001b[0m\u001b[1;33m,\u001b[0m\u001b[1;36m800\u001b[0m\u001b[1;33m,\u001b[0m\u001b[1;36m801\u001b[0m\u001b[1;33m,\u001b[0m\u001b[1;36m805\u001b[0m\u001b[1;33m,\u001b[0m\u001b[1;36m806\u001b[0m\u001b[1;33m,\u001b[0m\u001b[1;36m808\u001b[0m\u001b[1;33m,\u001b[0m\u001b[1;36m810\u001b[0m\u001b[1;33m,\u001b[0m\u001b[1;36m811\u001b[0m\u001b[1;33m,\u001b[0m\u001b[1;36m812\u001b[0m\u001b[1;33m,\u001b[0m\u001b[1;36m814\u001b[0m\u001b[1;33m,\u001b[0m\u001b[1;36m816\u001b[0m\u001b[1;33m,\u001b[0m\u001b[1;36m819\u001b[0m\u001b[1;33m,\u001b[0m\u001b[1;36m822\u001b[0m\u001b[1;33m,\u001b[0m\u001b[1;36m824\u001b[0m\u001b[1;33m,\u001b[0m\u001b[1;36m825\u001b[0m\u001b[1;33m,\u001b[0m\u001b[1;36m826\u001b[0m\u001b[1;33m,\u001b[0m\u001b[1;36m828\u001b[0m\u001b[1;33m,\u001b[0m\u001b[1;36m831\u001b[0m\u001b[1;33m,\u001b[0m\u001b[1;36m833\u001b[0m\u001b[1;33m,\u001b[0m\u001b[1;36m835\u001b[0m\u001b[1;33m,\u001b[0m\u001b[1;36m838\u001b[0m\u001b[1;33m,\u001b[0m\u001b[1;36m841\u001b[0m\u001b[1;33m,\u001b[0m\u001b[1;36m842\u001b[0m\u001b[1;33m,\u001b[0m\u001b[1;36m844\u001b[0m\u001b[1;33m,\u001b[0m\u001b[1;36m845\u001b[0m\u001b[1;33m,\u001b[0m\u001b[1;36m846\u001b[0m\u001b[1;33m,\u001b[0m\u001b[1;36m847\u001b[0m\u001b[1;33m,\u001b[0m\u001b[1;36m849\u001b[0m\u001b[1;33m,\u001b[0m\u001b[1;36m853\u001b[0m\u001b[1;33m,\u001b[0m\u001b[1;36m854\u001b[0m\u001b[1;33m,\u001b[0m\u001b[1;36m855\u001b[0m\u001b[1;33m,\u001b[0m\u001b[1;36m857\u001b[0m\u001b[1;33m,\u001b[0m\u001b[1;36m858\u001b[0m\u001b[1;33m,\u001b[0m\u001b[1;36m861\u001b[0m\u001b[1;33m,\u001b[0m\u001b[1;36m862\u001b[0m\u001b[1;33m,\u001b[0m\u001b[1;36m866\u001b[0m\u001b[1;33m,\u001b[0m\u001b[1;36m868\u001b[0m\u001b[1;33m,\u001b[0m\u001b[1;36m869\u001b[0m\u001b[1;33m,\u001b[0m\u001b[1;36m870\u001b[0m\u001b[1;33m,\u001b[0m\u001b[1;36m874\u001b[0m\u001b[1;33m,\u001b[0m\u001b[1;36m878\u001b[0m\u001b[1;33m,\u001b[0m\u001b[1;36m882\u001b[0m\u001b[1;33m,\u001b[0m\u001b[1;36m884\u001b[0m\u001b[1;33m,\u001b[0m\u001b[1;36m885\u001b[0m\u001b[1;33m,\u001b[0m\u001b[1;36m888\u001b[0m\u001b[1;33m,\u001b[0m\u001b[1;36m889\u001b[0m\u001b[1;33m,\u001b[0m\u001b[1;36m890\u001b[0m\u001b[1;33m,\u001b[0m\u001b[1;36m892\u001b[0m\u001b[1;33m,\u001b[0m\u001b[1;36m893\u001b[0m\u001b[1;33m,\u001b[0m\u001b[1;36m897\u001b[0m\u001b[1;33m,\u001b[0m\u001b[1;36m900\u001b[0m\u001b[1;33m,\u001b[0m\u001b[1;36m903\u001b[0m\u001b[1;33m,\u001b[0m\u001b[1;36m905\u001b[0m\u001b[1;33m,\u001b[0m\u001b[1;36m906\u001b[0m\u001b[1;33m,\u001b[0m\u001b[1;36m907\u001b[0m\u001b[1;33m,\u001b[0m\u001b[1;36m908\u001b[0m\u001b[1;33m,\u001b[0m\u001b[1;36m911\u001b[0m\u001b[1;33m,\u001b[0m\u001b[1;36m913\u001b[0m\u001b[1;33m,\u001b[0m\u001b[1;36m916\u001b[0m\u001b[1;33m,\u001b[0m\u001b[1;36m918\u001b[0m\u001b[1;33m,\u001b[0m\u001b[1;36m920\u001b[0m\u001b[1;33m,\u001b[0m\u001b[1;36m921\u001b[0m\u001b[1;33m,\u001b[0m\u001b[1;36m922\u001b[0m\u001b[1;33m,\u001b[0m\u001b[1;36m924\u001b[0m\u001b[1;33m,\u001b[0m\u001b[1;36m925\u001b[0m\u001b[1;33m,\u001b[0m\u001b[1;36m926\u001b[0m\u001b[1;33m,\u001b[0m\u001b[1;36m928\u001b[0m\u001b[1;33m,\u001b[0m\u001b[1;36m929\u001b[0m\u001b[1;33m,\u001b[0m\u001b[1;36m930\u001b[0m\u001b[1;33m,\u001b[0m\u001b[1;36m932\u001b[0m\u001b[1;33m,\u001b[0m\u001b[1;36m933\u001b[0m\u001b[1;33m,\u001b[0m\u001b[1;36m934\u001b[0m\u001b[1;33m,\u001b[0m\u001b[1;36m936\u001b[0m\u001b[1;33m,\u001b[0m\u001b[1;36m937\u001b[0m\u001b[1;33m,\u001b[0m\u001b[1;36m938\u001b[0m\u001b[1;33m,\u001b[0m\u001b[1;36m940\u001b[0m\u001b[1;33m,\u001b[0m\u001b[1;36m942\u001b[0m\u001b[1;33m,\u001b[0m\u001b[1;36m944\u001b[0m\u001b[1;33m,\u001b[0m\u001b[1;36m946\u001b[0m\u001b[1;33m,\u001b[0m\u001b[1;36m949\u001b[0m\u001b[1;33m,\u001b[0m\u001b[1;36m953\u001b[0m\u001b[1;33m,\u001b[0m\u001b[1;36m954\u001b[0m\u001b[1;33m,\u001b[0m\u001b[1;36m956\u001b[0m\u001b[1;33m,\u001b[0m\u001b[1;36m957\u001b[0m\u001b[1;33m,\u001b[0m\u001b[1;36m958\u001b[0m\u001b[1;33m,\u001b[0m\u001b[1;36m961\u001b[0m\u001b[1;33m,\u001b[0m\u001b[1;36m962\u001b[0m\u001b[1;33m,\u001b[0m\u001b[1;36m964\u001b[0m\u001b[1;33m,\u001b[0m\u001b[1;36m965\u001b[0m\u001b[1;33m,\u001b[0m\u001b[1;36m966\u001b[0m\u001b[1;33m,\u001b[0m\u001b[1;36m969\u001b[0m\u001b[1;33m,\u001b[0m\u001b[1;36m972\u001b[0m\u001b[1;33m,\u001b[0m\u001b[1;36m973\u001b[0m\u001b[1;33m,\u001b[0m\u001b[1;36m974\u001b[0m\u001b[1;33m,\u001b[0m\u001b[1;36m976\u001b[0m\u001b[1;33m,\u001b[0m\u001b[1;36m977\u001b[0m\u001b[1;33m,\u001b[0m\u001b[1;36m978\u001b[0m\u001b[1;33m,\u001b[0m\u001b[1;36m979\u001b[0m\u001b[1;33m,\u001b[0m\u001b[1;36m980\u001b[0m\u001b[1;33m,\u001b[0m\u001b[1;36m981\u001b[0m\u001b[1;33m,\u001b[0m\u001b[1;36m982\u001b[0m\u001b[1;33m,\u001b[0m\u001b[1;36m984\u001b[0m\u001b[1;33m,\u001b[0m\u001b[1;36m985\u001b[0m\u001b[1;33m,\u001b[0m\u001b[1;36m986\u001b[0m\u001b[1;33m,\u001b[0m\u001b[1;36m988\u001b[0m\u001b[1;33m,\u001b[0m\u001b[1;36m993\u001b[0m\u001b[1;33m,\u001b[0m\u001b[1;36m996\u001b[0m\u001b[1;33m,\u001b[0m\u001b[1;36m997\u001b[0m\u001b[1;33m,\u001b[0m\u001b[1;36m999\u001b[0m\u001b[1;33m]\u001b[0m\u001b[1;33m,\u001b[0m\u001b[1;36m724\u001b[0m\u001b[1;33m)\u001b[0m\u001b[1;33m\u001b[0m\u001b[1;33m\u001b[0m\u001b[0m\n\u001b[0m",
      "\u001b[1;32m<ipython-input-103-3705ef6d824f>\u001b[0m in \u001b[0;36mKthMissingInteger\u001b[1;34m(arr, k)\u001b[0m\n\u001b[0;32m      5\u001b[0m             \u001b[0mlis\u001b[0m\u001b[1;33m.\u001b[0m\u001b[0mappend\u001b[0m\u001b[1;33m(\u001b[0m\u001b[0mi\u001b[0m\u001b[1;33m)\u001b[0m\u001b[1;33m\u001b[0m\u001b[1;33m\u001b[0m\u001b[0m\n\u001b[0;32m      6\u001b[0m     \u001b[0mprint\u001b[0m\u001b[1;33m(\u001b[0m\u001b[0mlen\u001b[0m\u001b[1;33m(\u001b[0m\u001b[0mlis\u001b[0m\u001b[1;33m)\u001b[0m\u001b[1;33m)\u001b[0m\u001b[1;33m\u001b[0m\u001b[1;33m\u001b[0m\u001b[0m\n\u001b[1;32m----> 7\u001b[1;33m     \u001b[1;32mreturn\u001b[0m \u001b[0mlis\u001b[0m\u001b[1;33m[\u001b[0m\u001b[0mk\u001b[0m\u001b[1;33m-\u001b[0m\u001b[1;36m1\u001b[0m\u001b[1;33m]\u001b[0m\u001b[1;33m\u001b[0m\u001b[1;33m\u001b[0m\u001b[0m\n\u001b[0m",
      "\u001b[1;31mIndexError\u001b[0m: list index out of range"
     ]
    }
   ],
   "source": [
    "KthMissingInteger([1,3,5,6,7,8,11,13,14,16,17,18,19,20,21,23,24,25,26,28,29,30,31,34,35,36,37,38,41,43,44,47,50,51,53,54,56,57,58,59,60,62,63,65,67,68,69,70,71,72,73,74,76,78,80,81,83,84,85,88,89,90,91,92,93,95,97,98,102,103,104,105,108,109,110,111,112,113,114,117,120,123,124,125,127,128,129,130,131,132,133,135,136,137,138,139,141,142,145,146,148,149,150,151,153,154,155,156,161,162,164,167,168,169,170,171,172,175,176,178,179,181,182,184,191,193,195,196,199,201,202,204,205,208,210,214,215,217,219,221,222,224,226,228,229,230,231,232,234,235,236,240,242,246,248,249,251,252,253,254,255,256,257,258,259,260,261,262,265,267,269,272,273,275,278,279,280,281,282,283,284,285,286,287,289,291,292,293,296,297,298,299,303,305,306,308,312,313,315,316,318,320,323,324,327,330,332,335,337,340,342,343,344,346,349,350,352,353,354,356,357,359,360,362,366,367,369,370,374,375,376,377,378,379,382,384,386,390,392,393,394,395,396,399,400,401,403,406,411,413,415,416,420,424,425,426,427,429,430,432,434,435,436,437,438,439,440,441,442,443,444,446,447,448,449,452,455,456,458,459,460,461,462,463,464,465,466,467,469,470,471,472,477,479,480,483,484,486,488,489,490,491,492,493,494,495,500,501,503,504,506,508,510,513,514,515,516,517,527,531,533,534,535,536,542,543,546,547,548,549,550,553,556,559,561,562,563,566,567,569,571,572,576,578,579,581,582,583,584,586,589,591,592,593,594,595,598,600,601,602,603,605,606,607,609,611,612,613,614,616,617,621,622,624,625,626,627,630,631,633,635,636,637,639,640,643,644,646,647,648,649,650,651,652,654,658,660,661,662,663,664,665,667,668,669,672,673,678,679,683,685,686,687,689,690,691,692,693,695,696,697,701,702,703,704,707,709,711,714,717,718,719,720,721,723,724,725,726,728,729,730,733,735,736,737,738,740,742,745,746,747,750,754,755,757,759,761,763,765,768,771,773,774,775,776,779,780,781,782,783,784,787,788,789,790,791,792,794,795,797,798,800,801,805,806,808,810,811,812,814,816,819,822,824,825,826,828,831,833,835,838,841,842,844,845,846,847,849,853,854,855,857,858,861,862,866,868,869,870,874,878,882,884,885,888,889,890,892,893,897,900,903,905,906,907,908,911,913,916,918,920,921,922,924,925,926,928,929,930,932,933,934,936,937,938,940,942,944,946,949,953,954,956,957,958,961,962,964,965,966,969,972,973,974,976,977,978,979,980,981,982,984,985,986,988,993,996,997,999],724)"
   ]
  },
  {
   "cell_type": "code",
   "execution_count": 1,
   "metadata": {},
   "outputs": [],
   "source": [
    "import numpy as np"
   ]
  },
  {
   "cell_type": "code",
   "execution_count": 2,
   "metadata": {},
   "outputs": [],
   "source": [
    "imgs = np.ndarray((5000,256,256))"
   ]
  },
  {
   "cell_type": "code",
   "execution_count": 5,
   "metadata": {},
   "outputs": [],
   "source": [
    "a = imgs[...,np.newaxis]"
   ]
  },
  {
   "cell_type": "code",
   "execution_count": null,
   "metadata": {},
   "outputs": [],
   "source": []
  }
 ],
 "metadata": {
  "kernelspec": {
   "display_name": "Python 3",
   "language": "python",
   "name": "python3"
  },
  "language_info": {
   "codemirror_mode": {
    "name": "ipython",
    "version": 3
   },
   "file_extension": ".py",
   "mimetype": "text/x-python",
   "name": "python",
   "nbconvert_exporter": "python",
   "pygments_lexer": "ipython3",
   "version": "3.8.5"
  }
 },
 "nbformat": 4,
 "nbformat_minor": 4
}
