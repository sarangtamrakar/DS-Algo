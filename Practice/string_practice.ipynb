{
 "cells": [
  {
   "cell_type": "markdown",
   "metadata": {},
   "source": [
    "#### 1. reverse the string"
   ]
  },
  {
   "cell_type": "code",
   "execution_count": 1,
   "metadata": {},
   "outputs": [],
   "source": [
    "def reverse_str(string):\n",
    "    res = \"\"\n",
    "    for i in string:\n",
    "        res= i + res\n",
    "    return res"
   ]
  },
  {
   "cell_type": "code",
   "execution_count": 2,
   "metadata": {},
   "outputs": [
    {
     "data": {
      "text/plain": [
       "'gnaras'"
      ]
     },
     "execution_count": 2,
     "metadata": {},
     "output_type": "execute_result"
    }
   ],
   "source": [
    "reverse_str(\"sarang\")"
   ]
  },
  {
   "cell_type": "code",
   "execution_count": 5,
   "metadata": {},
   "outputs": [
    {
     "data": {
      "text/plain": [
       "'gnaras'"
      ]
     },
     "execution_count": 5,
     "metadata": {},
     "output_type": "execute_result"
    }
   ],
   "source": [
    "## second way\n",
    "a = \"sarang\"\n",
    "a[::-1]"
   ]
  },
  {
   "cell_type": "code",
   "execution_count": 16,
   "metadata": {},
   "outputs": [
    {
     "data": {
      "text/plain": [
       "'gnaras'"
      ]
     },
     "execution_count": 16,
     "metadata": {},
     "output_type": "execute_result"
    }
   ],
   "source": [
    "## third way\n",
    "a = list(reversed(\"sarang\"))\n",
    "res = \"\".join(a)\n",
    "res"
   ]
  },
  {
   "cell_type": "markdown",
   "metadata": {},
   "source": [
    "#### 2. Pattern searching"
   ]
  },
  {
   "cell_type": "code",
   "execution_count": 3,
   "metadata": {},
   "outputs": [],
   "source": [
    "def PatternSearching(pattern,text):\n",
    "    lis = []\n",
    "    index = text.find(pattern)\n",
    "    lis.append(index)\n",
    "    for i in range(len(text)):\n",
    "        index = text.find(pattern,index+1)\n",
    "        if index == -1:\n",
    "            break\n",
    "        lis.append(index)\n",
    "    return lis"
   ]
  },
  {
   "cell_type": "code",
   "execution_count": 4,
   "metadata": {},
   "outputs": [
    {
     "data": {
      "text/plain": [
       "[2, 9, 11, 14]"
      ]
     },
     "execution_count": 4,
     "metadata": {},
     "output_type": "execute_result"
    }
   ],
   "source": [
    "PatternSearching(\"a\",\"bhai tu kaha hai\")"
   ]
  },
  {
   "cell_type": "code",
   "execution_count": 18,
   "metadata": {},
   "outputs": [],
   "source": [
    "def PatterByWhileLoop(pattern,text):\n",
    "    lis = []\n",
    "    index = text.find(pattern)\n",
    "    lis.append(index)\n",
    "    while index != -1:\n",
    "        index = text.find(pattern,index+1)\n",
    "        if index == -1:\n",
    "            break\n",
    "        lis.append(index)\n",
    "    return lis\n",
    "        "
   ]
  },
  {
   "cell_type": "code",
   "execution_count": 19,
   "metadata": {},
   "outputs": [
    {
     "data": {
      "text/plain": [
       "[2, 9, 11, 14]"
      ]
     },
     "execution_count": 19,
     "metadata": {},
     "output_type": "execute_result"
    }
   ],
   "source": [
    "PatterByWhileLoop(\"a\",\"bhai tu kaha hai\")"
   ]
  },
  {
   "cell_type": "markdown",
   "metadata": {},
   "source": [
    "#### 3. palindrom Check\n",
    "palidrom = \"abcba\"\n",
    "# which is same from both the side"
   ]
  },
  {
   "cell_type": "code",
   "execution_count": 7,
   "metadata": {},
   "outputs": [],
   "source": [
    "def PalindromCheck(text):\n",
    "    i = 0\n",
    "    j = len(text)-1\n",
    "    while i<j:\n",
    "        if text[i] != text[j]:\n",
    "            return False\n",
    "        i = i+1\n",
    "        j = j-1\n",
    "    return True"
   ]
  },
  {
   "cell_type": "code",
   "execution_count": 10,
   "metadata": {},
   "outputs": [
    {
     "data": {
      "text/plain": [
       "True"
      ]
     },
     "execution_count": 10,
     "metadata": {},
     "output_type": "execute_result"
    }
   ],
   "source": [
    "PalindromCheck(\"abcba\")"
   ]
  },
  {
   "cell_type": "markdown",
   "metadata": {},
   "source": [
    "#### Anagrame cheque\n",
    "when two string having same charactors with same frequency but having different spelling\n",
    "\n",
    "\n",
    "\n",
    "\n",
    "\n",
    "listen = silent"
   ]
  },
  {
   "cell_type": "code",
   "execution_count": 11,
   "metadata": {},
   "outputs": [],
   "source": [
    "def CheckAnagram(s1,s2):\n",
    "    if len(s1) != len(s2):\n",
    "        return False\n",
    "    else:\n",
    "        l1 = sorted(s1)\n",
    "        l2 = sorted(s2)\n",
    "        if l1 == l2:\n",
    "            return True\n",
    "        else:\n",
    "            return False"
   ]
  },
  {
   "cell_type": "code",
   "execution_count": 12,
   "metadata": {},
   "outputs": [
    {
     "data": {
      "text/plain": [
       "True"
      ]
     },
     "execution_count": 12,
     "metadata": {},
     "output_type": "execute_result"
    }
   ],
   "source": [
    "CheckAnagram(\"listen\",\"silent\")"
   ]
  },
  {
   "cell_type": "code",
   "execution_count": 15,
   "metadata": {},
   "outputs": [],
   "source": [
    "def CheckAnagrame(s1,s2):\n",
    "    for i in s1:\n",
    "        if i in s2:\n",
    "            c2 = s2.count(i)\n",
    "        else:\n",
    "            return False\n",
    "        c1 = s1.count(i)\n",
    "        if c2 == c1:\n",
    "            continue\n",
    "        else:\n",
    "            return False\n",
    "    return True\n",
    "            "
   ]
  },
  {
   "cell_type": "code",
   "execution_count": 17,
   "metadata": {},
   "outputs": [
    {
     "data": {
      "text/plain": [
       "True"
      ]
     },
     "execution_count": 17,
     "metadata": {},
     "output_type": "execute_result"
    }
   ],
   "source": [
    "CheckAnagrame(\"aabc\",\"abca\")"
   ]
  },
  {
   "cell_type": "code",
   "execution_count": 19,
   "metadata": {},
   "outputs": [],
   "source": [
    "def check_anagram_final(s1,s2):\n",
    "    if len(s1) != len(s2):\n",
    "        return False\n",
    "    count = [0]*256\n",
    "    for i in range(len(s1)):\n",
    "        count[ord(s1[i])] = count[ord(s1[i])] + 1\n",
    "        count[ord(s2[i])] = count[ord(s2[i])] -1\n",
    "    for j in count:\n",
    "        if j != 0:\n",
    "            return False\n",
    "        else:\n",
    "            continue\n",
    "    return True"
   ]
  },
  {
   "cell_type": "code",
   "execution_count": 20,
   "metadata": {},
   "outputs": [
    {
     "data": {
      "text/plain": [
       "True"
      ]
     },
     "execution_count": 20,
     "metadata": {},
     "output_type": "execute_result"
    }
   ],
   "source": [
    "check_anagram_final(\"listen\",\"silent\")"
   ]
  },
  {
   "cell_type": "markdown",
   "metadata": {},
   "source": [
    "##### Check if Word Equals Summation of Two Words"
   ]
  },
  {
   "cell_type": "raw",
   "metadata": {},
   "source": [
    "Example 1:\n",
    "\n",
    "Input: firstWord = \"acb\", secondWord = \"cba\", targetWord = \"cdb\"\n",
    "Output: true\n",
    "Explanation:\n",
    "The numerical value of firstWord is \"acb\" -> \"021\" -> 21.\n",
    "The numerical value of secondWord is \"cba\" -> \"210\" -> 210.\n",
    "The numerical value of targetWord is \"cdb\" -> \"231\" -> 231.\n",
    "We return true because 21 + 210 == 231."
   ]
  },
  {
   "cell_type": "code",
   "execution_count": 67,
   "metadata": {},
   "outputs": [],
   "source": [
    "def isSumEqual(firstWord, secondWord, targetWord):\n",
    "    dic = {'a':0,'b':1,'c':2,'d':3,'e':4,'f':5,'g':6,'h':7,'i':8,'j':9}\n",
    "    \n",
    "    a = ''\n",
    "    b = ''\n",
    "    c = ''\n",
    "    for i in firstWord:\n",
    "        a = a+str(dic[i])\n",
    "    for j in secondWord:\n",
    "        b = b+str(dic[j])\n",
    "    for k in targetWord:\n",
    "        c = c+str(dic[k])\n",
    "    \n",
    "    a = int(a)\n",
    "    b = int(b)\n",
    "    c = int(c)\n",
    "    \n",
    "    if a+b == c:\n",
    "        return True\n",
    "    else:\n",
    "        return False"
   ]
  },
  {
   "cell_type": "code",
   "execution_count": 68,
   "metadata": {},
   "outputs": [
    {
     "data": {
      "text/plain": [
       "True"
      ]
     },
     "execution_count": 68,
     "metadata": {},
     "output_type": "execute_result"
    }
   ],
   "source": [
    "isSumEqual('j','j','bi')"
   ]
  },
  {
   "cell_type": "markdown",
   "metadata": {},
   "source": [
    "##### Substrings of Size Three with Distinct Characters"
   ]
  },
  {
   "cell_type": "raw",
   "metadata": {},
   "source": [
    "A string is good if there are no repeated characters.\n",
    "\n",
    "Given a string s​​​​​, return the number of good substrings of length three in s​​​​​​.\n",
    "\n",
    "Note that if there are multiple occurrences of the same substring, every occurrence should be counted.\n",
    "\n",
    "A substring is a contiguous sequence of characters in a string.\n",
    "\n",
    "Input: s = \"xyzzaz\"\n",
    "Output: 1\n",
    "Explanation: There are 4 substrings of size 3: \"xyz\", \"yzz\", \"zza\", and \"zaz\". \n",
    "The only good substring of length 3 is \"xyz\".\n",
    "\n",
    "Input: s = \"aababcabc\"\n",
    "Output: 4\n",
    "Explanation: There are 7 substrings of size 3: \"aab\", \"aba\", \"bab\", \"abc\", \"bca\", \"cab\", and \"abc\".\n",
    "The good substrings are \"abc\", \"bca\", \"cab\", and \"abc\"."
   ]
  },
  {
   "cell_type": "code",
   "execution_count": 24,
   "metadata": {},
   "outputs": [
    {
     "name": "stdout",
     "output_type": "stream",
     "text": [
      "1\n"
     ]
    }
   ],
   "source": [
    "s = 'xyzzaz'\n",
    "lis = []\n",
    "for i in range(len(s)-2):\n",
    "    a = ''\n",
    "    for j in range(i,i+3):\n",
    "        a = a+s[j]\n",
    "        j = j+1\n",
    "    lis.append(a)\n",
    "main = []\n",
    "for i in lis:\n",
    "    if len(set(i)) == 3:\n",
    "        main.append(i)\n",
    "print(len(main))"
   ]
  },
  {
   "cell_type": "code",
   "execution_count": 31,
   "metadata": {},
   "outputs": [],
   "source": [
    "def NoOfGoodSubstring(s):\n",
    "    lis = []\n",
    "    for i in range(len(s)-2):\n",
    "        a = ''\n",
    "        for j in range(i,i+3):\n",
    "            a = a+s[j]\n",
    "        lis.append(a)\n",
    "    main = []\n",
    "    for j in lis:\n",
    "        if len(set(j)) == 3:\n",
    "            main.append(j)\n",
    "    return len(main)"
   ]
  },
  {
   "cell_type": "code",
   "execution_count": 33,
   "metadata": {},
   "outputs": [
    {
     "data": {
      "text/plain": [
       "1"
      ]
     },
     "execution_count": 33,
     "metadata": {},
     "output_type": "execute_result"
    }
   ],
   "source": [
    "NoOfGoodSubstring('xyzzaz')"
   ]
  },
  {
   "cell_type": "markdown",
   "metadata": {},
   "source": [
    "##### To Lower Case"
   ]
  },
  {
   "cell_type": "raw",
   "metadata": {},
   "source": [
    "Given a string s, return the string after replacing every uppercase letter with the same lowercase letter."
   ]
  },
  {
   "cell_type": "code",
   "execution_count": 34,
   "metadata": {},
   "outputs": [],
   "source": [
    "def lowering(s):\n",
    "    return s.lower()"
   ]
  },
  {
   "cell_type": "markdown",
   "metadata": {},
   "source": [
    "##### Defanging an IP Address"
   ]
  },
  {
   "cell_type": "raw",
   "metadata": {},
   "source": [
    "Given a valid (IPv4) IP address, return a defanged version of that IP address.\n",
    "\n",
    "A defanged IP address replaces every period \".\" with \"[.]\".\n",
    "\n",
    " \n",
    "\n",
    "Example 1:\n",
    "\n",
    "Input: address = \"1.1.1.1\"\n",
    "Output: \"1[.]1[.]1[.]1\"\n",
    "Example 2:\n",
    "\n",
    "Input: address = \"255.100.50.0\"\n",
    "Output: \"255[.]100[.]50[.]0\""
   ]
  },
  {
   "cell_type": "code",
   "execution_count": 38,
   "metadata": {},
   "outputs": [],
   "source": [
    "def defange(s):\n",
    "    return s.replace('.','[.]')"
   ]
  },
  {
   "cell_type": "code",
   "execution_count": 39,
   "metadata": {},
   "outputs": [],
   "source": [
    "a = \"G()(al)\""
   ]
  },
  {
   "cell_type": "code",
   "execution_count": 43,
   "metadata": {},
   "outputs": [],
   "source": [
    "def convert(a):\n",
    "    a = a.replace('()','o')\n",
    "    a = a.replace('G','G')\n",
    "    a = a.replace('(al)','al')\n",
    "    return a"
   ]
  },
  {
   "cell_type": "code",
   "execution_count": 45,
   "metadata": {},
   "outputs": [
    {
     "data": {
      "text/plain": [
       "'alGalooG'"
      ]
     },
     "execution_count": 45,
     "metadata": {},
     "output_type": "execute_result"
    }
   ],
   "source": [
    "convert('(al)G(al)()()G')"
   ]
  },
  {
   "cell_type": "markdown",
   "metadata": {},
   "source": [
    "##### Count Items Matching a Rule"
   ]
  },
  {
   "cell_type": "raw",
   "metadata": {},
   "source": [
    "You are given an array items, where each items[i] = [typei, colori, namei] describes the type, color, and name of the ith item. You are also given a rule represented by two strings, ruleKey and ruleValue.\n",
    "\n",
    "The ith item is said to match the rule if one of the following is true:\n",
    "\n",
    "ruleKey == \"type\" and ruleValue == typei.\n",
    "ruleKey == \"color\" and ruleValue == colori.\n",
    "ruleKey == \"name\" and ruleValue == namei.\n",
    "Return the number of items that match the given rule.\n",
    "\n",
    "Ex1\n",
    "Input: items = [[\"phone\",\"blue\",\"pixel\"],[\"computer\",\"silver\",\"lenovo\"],[\"phone\",\"gold\",\"iphone\"]], ruleKey = \"color\", ruleValue = \"silver\"\n",
    "Output: 1\n",
    "Explanation: There is only one item matching the given rule, which is [\"computer\",\"silver\",\"lenovo\"].\n",
    "\n",
    "Example 2:\n",
    "\n",
    "Input: items = [[\"phone\",\"blue\",\"pixel\"],[\"computer\",\"silver\",\"phone\"],[\"phone\",\"gold\",\"iphone\"]], ruleKey = \"type\", ruleValue = \"phone\"\n",
    "Output: 2\n",
    "Explanation: There are only two items matching the given rule, which are [\"phone\",\"blue\",\"pixel\"] and [\"phone\",\"gold\",\"iphone\"]. Note that the item [\"computer\",\"silver\",\"phone\"] does not match.\n"
   ]
  },
  {
   "cell_type": "code",
   "execution_count": 2,
   "metadata": {},
   "outputs": [],
   "source": [
    "a = [[\"phone\",\"blue\",\"pixel\"],[\"computer\",\"silver\",\"lenovo\"],[\"phone\",\"gold\",\"iphone\"]]"
   ]
  },
  {
   "cell_type": "code",
   "execution_count": 6,
   "metadata": {},
   "outputs": [],
   "source": [
    "def countmatching(items,rulekey,ruleval):\n",
    "    dic = {'type':0,'color':1,'name':2}\n",
    "    rulekey = dic[rulekey]\n",
    "    total = 0\n",
    "    for i in items:\n",
    "        if i[rulekey] == ruleval:\n",
    "            total = total+1\n",
    "    return total"
   ]
  },
  {
   "cell_type": "code",
   "execution_count": 9,
   "metadata": {},
   "outputs": [
    {
     "data": {
      "text/plain": [
       "1"
      ]
     },
     "execution_count": 9,
     "metadata": {},
     "output_type": "execute_result"
    }
   ],
   "source": [
    "countmatching(a,'color','silver')"
   ]
  },
  {
   "cell_type": "markdown",
   "metadata": {},
   "source": [
    "##### Merge Strings Alternately"
   ]
  },
  {
   "cell_type": "raw",
   "metadata": {},
   "source": [
    "You are given two strings word1 and word2. Merge the strings by adding letters in alternating order, starting with word1. If a string is longer than the other, append the additional letters onto the end of the merged string.\n",
    "\n",
    "Return the merged string.\n",
    "\n",
    "Example 1:\n",
    "\n",
    "Input: word1 = \"abc\", word2 = \"pqr\"\n",
    "Output: \"apbqcr\"\n",
    "Explanation: The merged string will be merged as so:\n",
    "word1:  a   b   c\n",
    "word2:    p   q   r\n",
    "merged: a p b q c r\n",
    "Example 2:\n",
    "\n",
    "Input: word1 = \"ab\", word2 = \"pqrs\"\n",
    "Output: \"apbqrs\"\n",
    "Explanation: Notice that as word2 is longer, \"rs\" is appended to the end.\n"
   ]
  },
  {
   "cell_type": "code",
   "execution_count": 61,
   "metadata": {},
   "outputs": [
    {
     "name": "stdout",
     "output_type": "stream",
     "text": [
      "apbqrs\n"
     ]
    }
   ],
   "source": [
    "def merge_alternatively(a,b):\n",
    "    if len(a)>len(b):\n",
    "        new_a = a[:len(b)]\n",
    "        remain = a[len(b):]\n",
    "        a = new_a\n",
    "    else:\n",
    "        new_b = b[:len(a)]\n",
    "        remain = b[len(a):]\n",
    "        b = new_b\n",
    "    result = ''\n",
    "    for i,j in zip(a,b):\n",
    "        result = result+str(i)+str(j)\n",
    "    result = result+remain\n",
    "    return result\n",
    "\n",
    "print(merge_alternatively('ab','pqrs'))"
   ]
  },
  {
   "cell_type": "markdown",
   "metadata": {},
   "source": [
    "##### Check if One String Swap Can Make Strings Equal"
   ]
  },
  {
   "cell_type": "raw",
   "metadata": {},
   "source": [
    "You are given two strings s1 and s2 of equal length. A string swap is an operation where you choose two indices in a string (not necessarily different) and swap the characters at these indices.\n",
    "\n",
    "Return true if it is possible to make both strings equal by performing at most one string swap on exactly one of the strings. Otherwise, return false.\n",
    "\n",
    "Example 1:\n",
    "\n",
    "Input: s1 = \"bank\", s2 = \"kanb\"\n",
    "Output: true\n",
    "Explanation: For example, swap the first character with the last character of s2 to make \"bank\".\n",
    "Example 2:\n",
    "\n",
    "Input: s1 = \"attack\", s2 = \"defend\"\n",
    "Output: false\n",
    "Explanation: It is impossible to make them equal with one string swap.\n",
    "Example 3:\n",
    "\n",
    "Input: s1 = \"kelb\", s2 = \"kelb\"\n",
    "Output: true\n",
    "Explanation: The two strings are already equal, so no string swap operation is required.\n",
    "Example 4:\n",
    "\n",
    "Input: s1 = \"abcd\", s2 = \"dcba\"\n",
    "Output: false"
   ]
  },
  {
   "cell_type": "code",
   "execution_count": 77,
   "metadata": {},
   "outputs": [],
   "source": [
    "def isequal(s1,s2):\n",
    "    if s1 == s2:\n",
    "        return True\n",
    "    \n",
    "    idx1 = 0\n",
    "    idx2 = len(s2)-1\n",
    "    s2 = list(s2)\n",
    "    s2[idx1],s2[idx2] = s2[idx2],s2[idx1]\n",
    "    s2 = ''.join(s2)\n",
    "    if s1 == s2:\n",
    "        return True\n",
    "    else:\n",
    "        return False"
   ]
  },
  {
   "cell_type": "code",
   "execution_count": 82,
   "metadata": {},
   "outputs": [
    {
     "name": "stdout",
     "output_type": "stream",
     "text": [
      "False\n"
     ]
    }
   ],
   "source": [
    "print(isequal('siyolsdcjthwsiplccjbuceoxmpjgrauocx','siyolsdcjthwsiplccpbuceoxmjjgrauocx'))\n",
    "\n",
    "\n",
    "s1 = \"siyolsdcjthwsiplccjbuceoxmpjgrauocx\"\n",
    "s2 = \"siyolsdcjthwsiplccpbuceoxmjjgrauocx\""
   ]
  },
  {
   "cell_type": "code",
   "execution_count": 93,
   "metadata": {},
   "outputs": [],
   "source": [
    "diff = [[x, y] for x, y in zip(s1, s2) if x != y]"
   ]
  },
  {
   "cell_type": "code",
   "execution_count": 94,
   "metadata": {},
   "outputs": [
    {
     "data": {
      "text/plain": [
       "[['j', 'p'], ['p', 'j']]"
      ]
     },
     "execution_count": 94,
     "metadata": {},
     "output_type": "execute_result"
    }
   ],
   "source": [
    "diff"
   ]
  },
  {
   "cell_type": "code",
   "execution_count": 97,
   "metadata": {},
   "outputs": [
    {
     "data": {
      "text/plain": [
       "True"
      ]
     },
     "execution_count": 97,
     "metadata": {},
     "output_type": "execute_result"
    }
   ],
   "source": [
    "not diff or len(diff) == 2 and diff[0][::-1] == diff[1]"
   ]
  },
  {
   "cell_type": "markdown",
   "metadata": {},
   "source": [
    "##### Number of Different Integers in a String"
   ]
  },
  {
   "cell_type": "raw",
   "metadata": {},
   "source": [
    "You are given a string word that consists of digits and lowercase English letters.\n",
    "\n",
    "You will replace every non-digit character with a space. For example, \"a123bc34d8ef34\" will become \" 123  34 8  34\". Notice that you are left with some integers that are separated by at least one space: \"123\", \"34\", \"8\", and \"34\".\n",
    "\n",
    "Return the number of different integers after performing the replacement operations on word.\n",
    "\n",
    "Two integers are considered different if their decimal representations without any leading zeros are different."
   ]
  },
  {
   "cell_type": "code",
   "execution_count": 139,
   "metadata": {},
   "outputs": [],
   "source": [
    "def numDifferentIntegers(word):\n",
    "    import re\n",
    "    lis = re.sub('[^0-9]',' ',word).split()\n",
    "    res = set()\n",
    "    for i in lis:\n",
    "        res.add(int(i))\n",
    "    return len(res)\n",
    "    "
   ]
  },
  {
   "cell_type": "markdown",
   "metadata": {},
   "source": [
    "##### Truncate Sentence"
   ]
  },
  {
   "cell_type": "raw",
   "metadata": {},
   "source": [
    "A sentence is a list of words that are separated by a single space with no leading or trailing spaces. Each of the words consists of only uppercase and lowercase English letters (no punctuation).\n",
    "\n",
    "For example, \"Hello World\", \"HELLO\", and \"hello world hello world\" are all sentences.\n",
    "You are given a sentence s​​​​​​ and an integer k​​​​​​. You want to truncate s​​​​​​ such that it contains only the first k​​​​​​ words. Return s​​​​​​ after truncating it.\n",
    "\n",
    "\n",
    "Example 1:\n",
    "\n",
    "Input: s = \"Hello how are you Contestant\", k = 4\n",
    "Output: \"Hello how are you\"\n",
    "Explanation:\n",
    "The words in s are [\"Hello\", \"how\" \"are\", \"you\", \"Contestant\"].\n",
    "The first 4 words are [\"Hello\", \"how\", \"are\", \"you\"].\n",
    "Hence, you should return \"Hello how are you\".\n",
    "Example 2:\n",
    "\n",
    "Input: s = \"What is the solution to this problem\", k = 4\n",
    "Output: \"What is the solution\"\n",
    "Explanation:\n",
    "The words in s are [\"What\", \"is\" \"the\", \"solution\", \"to\", \"this\", \"problem\"].\n",
    "The first 4 words are [\"What\", \"is\", \"the\", \"solution\"].\n",
    "Hence, you should return \"What is the solution\".\n",
    "Example 3:\n",
    "\n",
    "Input: s = \"chopper is not a tanuki\", k = 5\n",
    "Output: \"chopper is not a tanuki\""
   ]
  },
  {
   "cell_type": "code",
   "execution_count": 146,
   "metadata": {},
   "outputs": [],
   "source": [
    "def truncate_sent(s,k):\n",
    "    s = s.split()\n",
    "    s = ' '.join(s[:k])\n",
    "    return s"
   ]
  },
  {
   "cell_type": "code",
   "execution_count": 152,
   "metadata": {},
   "outputs": [
    {
     "data": {
      "text/plain": [
       "'What is the solution'"
      ]
     },
     "execution_count": 152,
     "metadata": {},
     "output_type": "execute_result"
    }
   ],
   "source": [
    "truncate_sent('What is the solution to this problem',4)"
   ]
  },
  {
   "cell_type": "code",
   "execution_count": 156,
   "metadata": {},
   "outputs": [],
   "source": [
    "def aa(sentence):\n",
    "    a = set(['a','b','c','d','e','f','g','h','i','j','k','l','m','n','o','p','q','r'\n",
    "                    ,'s','t','u','v','w','x','y','z'])\n",
    "\n",
    "    for i in a:\n",
    "        if i not in sentence:\n",
    "            return False\n",
    "    return True"
   ]
  },
  {
   "cell_type": "code",
   "execution_count": 159,
   "metadata": {},
   "outputs": [
    {
     "data": {
      "text/plain": [
       "True"
      ]
     },
     "execution_count": 159,
     "metadata": {},
     "output_type": "execute_result"
    }
   ],
   "source": [
    "aa('thequickbrownfoxjumpsoverthelazydog')"
   ]
  },
  {
   "cell_type": "markdown",
   "metadata": {},
   "source": [
    "##### Sorting the Sentence"
   ]
  },
  {
   "cell_type": "raw",
   "metadata": {},
   "source": [
    "A sentence is a list of words that are separated by a single space with no leading or trailing spaces. Each word consists of lowercase and uppercase English letters.\n",
    "\n",
    "A sentence can be shuffled by appending the 1-indexed word position to each word then rearranging the words in the sentence.\n",
    "\n",
    "For example, the sentence \"This is a sentence\" can be shuffled as \"sentence4 a3 is2 This1\" or \"is2 sentence4 This1 a3\".\n",
    "Given a shuffled sentence s containing no more than 9 words, reconstruct and return the original sentence.\n",
    "\n",
    "\n",
    "Example 1:\n",
    "\n",
    "Input: s = \"is2 sentence4 This1 a3\"\n",
    "Output: \"This is a sentence\"\n",
    "Explanation: Sort the words in s to their original positions \"This1 is2 a3 sentence4\", then remove the numbers.\n",
    "Example 2:\n",
    "\n",
    "Input: s = \"Myself2 Me1 I4 and3\"\n",
    "Output: \"Me Myself and I\"\n",
    "Explanation: Sort the words in s to their original positions \"Me1 Myself2 and3 I4\", then remove the numbers."
   ]
  },
  {
   "cell_type": "code",
   "execution_count": 213,
   "metadata": {},
   "outputs": [],
   "source": [
    "def sorting_sentence(a):\n",
    "    a_int = re.sub('[^0-9]','',a)\n",
    "    a_str = re.sub('[0-9]','',a)\n",
    "    a_int = list(a_int)\n",
    "    a_str = a_str.split()\n",
    "    dic = {}\n",
    "    for idx,val in zip(a_int,a_str):\n",
    "        dic[idx] = val\n",
    "    a_int.sort()\n",
    "    a_str = [dic[i] for i in a_int]\n",
    "    return ' '.join(a_str)"
   ]
  },
  {
   "cell_type": "code",
   "execution_count": 214,
   "metadata": {},
   "outputs": [
    {
     "data": {
      "text/plain": [
       "'Me Myself and I'"
      ]
     },
     "execution_count": 214,
     "metadata": {},
     "output_type": "execute_result"
    }
   ],
   "source": [
    "a = \"Myself2 Me1 I4 and3\"\n",
    "sorting_sentence(a)"
   ]
  },
  {
   "cell_type": "markdown",
   "metadata": {},
   "source": [
    "##### Thousand Separator"
   ]
  },
  {
   "cell_type": "raw",
   "metadata": {},
   "source": [
    "Given an integer n, add a dot (\".\") as the thousands separator and return it in string format.\n",
    "\n",
    "Example 1:\n",
    "\n",
    "Input: n = 987\n",
    "Output: \"987\"\n",
    "Example 2:\n",
    "\n",
    "Input: n = 1234\n",
    "Output: \"1.234\"\n",
    "Example 3:\n",
    "\n",
    "Input: n = 123456789\n",
    "Output: \"123.456.789\"\n",
    "Example 4:\n",
    "\n",
    "Input: n = 0\n",
    "Output: \"0\""
   ]
  },
  {
   "cell_type": "code",
   "execution_count": 295,
   "metadata": {},
   "outputs": [],
   "source": [
    "def joining(s):\n",
    "    s = str(s)\n",
    "    s = s[::-1]\n",
    "    res = '.'.join(s[i:i+3] for i in range(0,len(s),3))\n",
    "    return res[::-1]"
   ]
  },
  {
   "cell_type": "code",
   "execution_count": 296,
   "metadata": {},
   "outputs": [
    {
     "data": {
      "text/plain": [
       "'1.234'"
      ]
     },
     "execution_count": 296,
     "metadata": {},
     "output_type": "execute_result"
    }
   ],
   "source": [
    "joining('1234')"
   ]
  },
  {
   "cell_type": "markdown",
   "metadata": {},
   "source": [
    "##### Number of Students Doing Homework at a Given Time"
   ]
  },
  {
   "cell_type": "raw",
   "metadata": {},
   "source": [
    "Given two integer arrays startTime and endTime and given an integer queryTime.\n",
    "The ith student started doing their homework at the time startTime[i] and finished it at time endTime[i].\n",
    "\n",
    "Return the number of students doing their homework at time queryTime. More formally, return the number of students where queryTime lays in the interval [startTime[i], endTime[i]] inclusive.\n",
    "Example 1:\n",
    "\n",
    "Input: startTime = [1,2,3], endTime = [3,2,7], queryTime = 4\n",
    "Output: 1\n",
    "Explanation: We have 3 students where:\n",
    "The first student started doing homework at time 1 and finished at time 3 and wasn't doing anything at time 4.\n",
    "The second student started doing homework at time 2 and finished at time 2 and also wasn't doing anything at time 4.\n",
    "The third student started doing homework at time 3 and finished at time 7 and was the only student doing homework at time 4.\n",
    "Example 2:\n",
    "\n",
    "Input: startTime = [4], endTime = [4], queryTime = 4\n",
    "Output: 1\n",
    "Explanation: The only student was doing their homework at the queryTime.\n",
    "Example 3:\n",
    "\n",
    "Input: startTime = [4], endTime = [4], queryTime = 5\n",
    "Output: 0\n",
    "Example 4:\n",
    "\n",
    "Input: startTime = [1,1,1,1], endTime = [1,3,2,4], queryTime = 7\n",
    "Output: 0\n",
    "Example 5:\n",
    "\n",
    "Input: startTime = [9,8,7,6,5,4,3,2,1], endTime = [10,10,10,10,10,10,10,10,10], queryTime = 5\n",
    "Output: 5"
   ]
  },
  {
   "cell_type": "code",
   "execution_count": 10,
   "metadata": {},
   "outputs": [
    {
     "data": {
      "text/plain": [
       "1"
      ]
     },
     "execution_count": 10,
     "metadata": {},
     "output_type": "execute_result"
    }
   ],
   "source": [
    "startTime = [1,2,3]\n",
    "endTime = [3,2,7]\n",
    "queryTime = 4\n",
    "def fun(startTime,endTime,queryTime):\n",
    "    total = 0\n",
    "    for s,e in zip(startTime,endTime):\n",
    "        time_range = list(range(s,e+1))\n",
    "        if queryTime in time_range:\n",
    "            total= total+1\n",
    "    return total\n",
    "fun(startTime,endTime,queryTime)"
   ]
  },
  {
   "cell_type": "markdown",
   "metadata": {},
   "source": [
    "##### Maximum Product of Two Elements in an Array"
   ]
  },
  {
   "cell_type": "raw",
   "metadata": {},
   "source": [
    "Given the array of integers nums, you will choose two different indices i and j of that array. Return the maximum value of (nums[i]-1)*(nums[j]-1).\n",
    "Example 1:\n",
    "\n",
    "Input: nums = [3,4,5,2]\n",
    "Output: 12 \n",
    "Explanation: If you choose the indices i=1 and j=2 (indexed from 0), you will get the maximum value, that is, (nums[1]-1)*(nums[2]-1) = (4-1)*(5-1) = 3*4 = 12. \n",
    "Example 2:\n",
    "\n",
    "Input: nums = [1,5,4,5]\n",
    "Output: 16\n",
    "Explanation: Choosing the indices i=1 and j=3 (indexed from 0), you will get the maximum value of (5-1)*(5-1) = 16.\n",
    "Example 3:\n",
    "\n",
    "Input: nums = [3,7]\n",
    "Output: 12"
   ]
  },
  {
   "cell_type": "code",
   "execution_count": 19,
   "metadata": {},
   "outputs": [],
   "source": [
    "def maxProduct(nums):\n",
    "    lar = nums[0]\n",
    "    slar = None\n",
    "    for i in range(1,len(nums)):\n",
    "        if nums[i]>lar:\n",
    "            slar = lar\n",
    "            lar = nums[i]\n",
    "        else:\n",
    "            if (slar == None) or (nums[i]>slar) :\n",
    "                slar = nums[i]\n",
    "    return (slar-1)*(lar-1)"
   ]
  },
  {
   "cell_type": "code",
   "execution_count": 20,
   "metadata": {},
   "outputs": [
    {
     "data": {
      "text/plain": [
       "36"
      ]
     },
     "execution_count": 20,
     "metadata": {},
     "output_type": "execute_result"
    }
   ],
   "source": [
    "maxProduct([10,2,5,2])"
   ]
  },
  {
   "cell_type": "markdown",
   "metadata": {},
   "source": [
    "##### Split a String in Balanced Strings"
   ]
  },
  {
   "cell_type": "raw",
   "metadata": {},
   "source": [
    "Balanced strings are those that have an equal quantity of 'L' and 'R' characters.\n",
    "\n",
    "Given a balanced string s, split it in the maximum amount of balanced strings.\n",
    "\n",
    "Return the maximum amount of split balanced strings.\n",
    "\n",
    "Example 1:\n",
    "\n",
    "Input: s = \"RLRRLLRLRL\"\n",
    "Output: 4\n",
    "Explanation: s can be split into \"RL\", \"RRLL\", \"RL\", \"RL\", each substring contains same number of 'L' and 'R'.\n",
    "\n",
    "\n",
    "Example 2:\n",
    "\n",
    "Input: s = \"RLLLLRRRLR\"\n",
    "Output: 3\n",
    "Explanation: s can be split into \"RL\", \"LLLRRR\", \"LR\", each substring contains same number of 'L' and 'R'.\n",
    "\n",
    "\n",
    "Example 3:\n",
    "\n",
    "Input: s = \"LLLLRRRR\"\n",
    "Output: 1\n",
    "Explanation: s can be split into \"LLLLRRRR\".\n",
    "\n",
    "\n",
    "Example 4:\n",
    "\n",
    "Input: s = \"RLRRRLLRLL\"\n",
    "Output: 2\n",
    "Explanation: s can be split into \"RL\", \"RRRLLRLL\", since each substring contains an equal number of 'L' and 'R'"
   ]
  },
  {
   "cell_type": "code",
   "execution_count": 49,
   "metadata": {},
   "outputs": [],
   "source": [
    "def NoOfBalancedStr(s):\n",
    "    res = 0\n",
    "    balanced = 0\n",
    "    for i in s:\n",
    "        if i == 'L':\n",
    "            balanced=balanced+1\n",
    "        else:\n",
    "            balanced = balanced-1\n",
    "        if balanced == 0:\n",
    "            res = res+1\n",
    "    return res"
   ]
  },
  {
   "cell_type": "code",
   "execution_count": 51,
   "metadata": {},
   "outputs": [
    {
     "data": {
      "text/plain": [
       "2"
      ]
     },
     "execution_count": 51,
     "metadata": {},
     "output_type": "execute_result"
    }
   ],
   "source": [
    "NoOfBalancedStr('RLLRRRL')"
   ]
  },
  {
   "cell_type": "markdown",
   "metadata": {},
   "source": [
    "##### Decrypt String from Alphabet to Integer Mapping"
   ]
  },
  {
   "cell_type": "raw",
   "metadata": {},
   "source": [
    "Given a string s formed by digits ('0' - '9') and '#' . We want to map s to English lowercase characters as follows:\n",
    "\n",
    "Characters ('a' to 'i') are represented by ('1' to '9') respectively.\n",
    "Characters ('j' to 'z') are represented by ('10#' to '26#') respectively. \n",
    "Return the string formed after mapping.\n",
    "\n",
    "It's guaranteed that a unique mapping will always exist.\n",
    "\n",
    "Example 1:\n",
    "Input: s = \"10#11#12\"\n",
    "Output: \"jkab\"\n",
    "Explanation: \"j\" -> \"10#\" , \"k\" -> \"11#\" , \"a\" -> \"1\" , \"b\" -> \"2\".\n",
    "\n",
    "Example 2:\n",
    "Input: s = \"1326#\"\n",
    "Output: \"acz\"\n",
    "\n",
    "Example 3:\n",
    "Input: s = \"25#\"\n",
    "Output: \"y\"\n",
    "\n",
    "Example 4:\n",
    "Input: s = \"12345678910#11#12#13#14#15#16#17#18#19#20#21#22#23#24#25#26#\"\n",
    "Output: \"abcdefghijklmnopqrstuvwxyz\""
   ]
  },
  {
   "cell_type": "code",
   "execution_count": null,
   "metadata": {},
   "outputs": [],
   "source": []
  },
  {
   "cell_type": "code",
   "execution_count": 90,
   "metadata": {},
   "outputs": [],
   "source": [
    "def descriptString(s):\n",
    "    new = {'1': 'a',\n",
    "     '2': 'b',\n",
    "     '3': 'c',\n",
    "     '4': 'd',\n",
    "     '5': 'e',\n",
    "     '6': 'f',\n",
    "     '7': 'g',\n",
    "     '8': 'h',\n",
    "     '9': 'i',\n",
    "     '#01': 'j',\n",
    "     '#11': 'k',\n",
    "     '#21': 'l',\n",
    "     '#31': 'm',\n",
    "     '#41': 'n',\n",
    "     '#51': 'o',\n",
    "     '#61': 'p',\n",
    "     '#71': 'q',\n",
    "     '#81': 'r',\n",
    "     '#91': 's',\n",
    "     '#02': 't',\n",
    "     '#12': 'u',\n",
    "     '#22': 'v',\n",
    "     '#32': 'w',\n",
    "     '#42': 'x',\n",
    "     '#52': 'y',\n",
    "     '#62': 'z'}\n",
    "    s = s[::-1]\n",
    "    res = []\n",
    "    i = 0\n",
    "    while i <len(s):\n",
    "        val = s[i]\n",
    "        if val != '#':\n",
    "            res.append(new[val])\n",
    "            i = i+1\n",
    "        else:\n",
    "            res.append(new[s[i:i+3]])\n",
    "            i = i+3\n",
    "    res = res[::-1]\n",
    "    return ''.join(res)"
   ]
  },
  {
   "cell_type": "code",
   "execution_count": 91,
   "metadata": {},
   "outputs": [
    {
     "data": {
      "text/plain": [
       "'abcdefghijklmnopqrstuvwxyz'"
      ]
     },
     "execution_count": 91,
     "metadata": {},
     "output_type": "execute_result"
    }
   ],
   "source": [
    "descriptString('12345678910#11#12#13#14#15#16#17#18#19#20#21#22#23#24#25#26#')"
   ]
  },
  {
   "cell_type": "code",
   "execution_count": 127,
   "metadata": {},
   "outputs": [],
   "source": [
    "def decrripString(s):\n",
    "    import re\n",
    "    new = {'1': 'a',\n",
    "     '2': 'b',\n",
    "     '3': 'c',\n",
    "     '4': 'd',\n",
    "     '5': 'e',\n",
    "     '6': 'f',\n",
    "     '7': 'g',\n",
    "     '8': 'h',\n",
    "     '9': 'i',\n",
    "     '10#': 'j',\n",
    "     '11#': 'k',\n",
    "     '12#': 'l',\n",
    "     '13#': 'm',\n",
    "     '14#': 'n',\n",
    "     '15#': 'o',\n",
    "     '16#': 'p',\n",
    "     '17#': 'q',\n",
    "     '18#': 'r',\n",
    "     '19#': 's',\n",
    "     '20#': 't',\n",
    "     '21#': 'u',\n",
    "     '22#': 'v',\n",
    "     '23#': 'w',\n",
    "     '24#': 'x',\n",
    "     '25#': 'y',\n",
    "     '26#': 'z'}\n",
    "    lis = re.findall('\\d\\d#|\\d',s)\n",
    "    res = []\n",
    "    for i in lis:\n",
    "        res.append(new[i])\n",
    "    return ''.join(res)"
   ]
  },
  {
   "cell_type": "code",
   "execution_count": 128,
   "metadata": {},
   "outputs": [
    {
     "data": {
      "text/plain": [
       "'abcdefghijklmnopqrstuvwxyz'"
      ]
     },
     "execution_count": 128,
     "metadata": {},
     "output_type": "execute_result"
    }
   ],
   "source": [
    "decrripString('12345678910#11#12#13#14#15#16#17#18#19#20#21#22#23#24#25#26#')"
   ]
  },
  {
   "cell_type": "markdown",
   "metadata": {},
   "source": [
    "##### String Matching in an Array"
   ]
  },
  {
   "cell_type": "raw",
   "metadata": {},
   "source": [
    "Given an array of string words. Return all strings in words which is substring of another word in any order. \n",
    "\n",
    "String words[i] is substring of words[j], if can be obtained removing some characters to left and/or right side of words[j].\n",
    "\n",
    "\n",
    "Example 1:\n",
    "\n",
    "Input: words = [\"mass\",\"as\",\"hero\",\"superhero\"]\n",
    "Output: [\"as\",\"hero\"]\n",
    "Explanation: \"as\" is substring of \"mass\" and \"hero\" is substring of \"superhero\".\n",
    "[\"hero\",\"as\"] is also a valid answer.\n",
    "Example 2:\n",
    "\n",
    "Input: words = [\"leetcode\",\"et\",\"code\"]\n",
    "Output: [\"et\",\"code\"]\n",
    "Explanation: \"et\", \"code\" are substring of \"leetcode\".\n",
    "Example 3:\n",
    "\n",
    "Input: words = [\"blue\",\"green\",\"bu\"]\n",
    "Output: []"
   ]
  },
  {
   "cell_type": "code",
   "execution_count": 167,
   "metadata": {},
   "outputs": [],
   "source": [
    "def fun(lis):\n",
    "    res = []\n",
    "    for i in range(len(lis)):\n",
    "        pattern = lis[i]\n",
    "        for j in lis[i+1:]+lis[:i]:\n",
    "            val = re.findall(pattern,j)\n",
    "            if val == [pattern]:\n",
    "                res.append(pattern)\n",
    "    return list(set(res)) # we want only unique substrings"
   ]
  },
  {
   "cell_type": "code",
   "execution_count": 168,
   "metadata": {},
   "outputs": [
    {
     "data": {
      "text/plain": [
       "['od', 'am', 'leetcode']"
      ]
     },
     "execution_count": 168,
     "metadata": {},
     "output_type": "execute_result"
    }
   ],
   "source": [
    "lis = [\"leetcoder\",\"leetcode\",\"od\",\"hamlet\",\"am\"]\n",
    "fun(lis)"
   ]
  },
  {
   "cell_type": "code",
   "execution_count": 186,
   "metadata": {},
   "outputs": [],
   "source": [
    "def fun(lis): # Good solution\n",
    "    arr = ' '.join(lis)\n",
    "    subStr = [word for word in lis if arr.count(word) >= 2]\n",
    "    return subStr"
   ]
  },
  {
   "cell_type": "code",
   "execution_count": 187,
   "metadata": {},
   "outputs": [
    {
     "data": {
      "text/plain": [
       "['leetcode', 'od', 'am']"
      ]
     },
     "execution_count": 187,
     "metadata": {},
     "output_type": "execute_result"
    }
   ],
   "source": [
    "fun([\"leetcoder\",\"leetcode\",\"od\",\"hamlet\",\"am\"])"
   ]
  },
  {
   "cell_type": "code",
   "execution_count": null,
   "metadata": {},
   "outputs": [],
   "source": []
  },
  {
   "cell_type": "code",
   "execution_count": null,
   "metadata": {},
   "outputs": [],
   "source": []
  }
 ],
 "metadata": {
  "kernelspec": {
   "display_name": "Python 3",
   "language": "python",
   "name": "python3"
  },
  "language_info": {
   "codemirror_mode": {
    "name": "ipython",
    "version": 3
   },
   "file_extension": ".py",
   "mimetype": "text/x-python",
   "name": "python",
   "nbconvert_exporter": "python",
   "pygments_lexer": "ipython3",
   "version": "3.8.5"
  }
 },
 "nbformat": 4,
 "nbformat_minor": 4
}
