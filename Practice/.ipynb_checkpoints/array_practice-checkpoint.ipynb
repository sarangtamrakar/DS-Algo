{
 "cells": [
  {
   "cell_type": "markdown",
   "metadata": {},
   "source": [
    "#### 1. Given an unsorted array arr[] of size N, rotate it by D elements (clockwise)"
   ]
  },
  {
   "cell_type": "code",
   "execution_count": 1,
   "metadata": {},
   "outputs": [],
   "source": [
    "def rotate(arr,n,d):\n",
    "    for i in arr[:d]:\n",
    "        val = arr.pop(0)\n",
    "        arr.append(val)\n",
    "    return arr"
   ]
  },
  {
   "cell_type": "code",
   "execution_count": 3,
   "metadata": {},
   "outputs": [
    {
     "data": {
      "text/plain": [
       "[4, 5, 1, 2, 3]"
      ]
     },
     "execution_count": 3,
     "metadata": {},
     "output_type": "execute_result"
    }
   ],
   "source": [
    "rotate([1,2,3,4,5],5,3)"
   ]
  },
  {
   "cell_type": "markdown",
   "metadata": {},
   "source": [
    "#### 2. Given an array, rotate the array by one position in clock-wise direction.\n",
    " Input:\n",
    "N = 5\n",
    "A[] = {1, 2, 3, 4, 5}\n",
    "Output:\n",
    "5 1 2 3 4"
   ]
  },
  {
   "cell_type": "code",
   "execution_count": 1,
   "metadata": {},
   "outputs": [
    {
     "data": {
      "text/plain": [
       "[5, 1, 2, 3, 4]"
      ]
     },
     "execution_count": 1,
     "metadata": {},
     "output_type": "execute_result"
    }
   ],
   "source": [
    "def clockwise(arr):\n",
    "    val = arr.pop()\n",
    "    arr.insert(0,val)\n",
    "    return arr\n",
    "clockwise([1,2,3,4,5])"
   ]
  },
  {
   "cell_type": "markdown",
   "metadata": {},
   "source": [
    "### 3. Given an array A of size N of integers. Your task is to find the minimum and maximum elements in the array.\n",
    "\n",
    "Input:\n",
    "N = 6\n",
    "A[] = {3, 2, 1, 56, 10000, 167}\n",
    "Output:\n",
    "min = 1, max =  10000"
   ]
  },
  {
   "cell_type": "code",
   "execution_count": 16,
   "metadata": {},
   "outputs": [],
   "source": [
    "def getMinMax(arr,n):\n",
    "    small = arr[0]\n",
    "    large = arr[0]\n",
    "    for i in range(1,n):\n",
    "        if arr[i]<small:\n",
    "            small = arr[i]\n",
    "        if arr[i]>large:\n",
    "            large = arr[i]\n",
    "            \n",
    "    return small,large"
   ]
  },
  {
   "cell_type": "code",
   "execution_count": 18,
   "metadata": {},
   "outputs": [
    {
     "data": {
      "text/plain": [
       "(-11, 200)"
      ]
     },
     "execution_count": 18,
     "metadata": {},
     "output_type": "execute_result"
    }
   ],
   "source": [
    "getMinMax([2,1,4,200,3,-11],6)"
   ]
  },
  {
   "cell_type": "markdown",
   "metadata": {},
   "source": [
    "#### 4. Given a sorted array arr[] of distinct integers. Sort the array into a wave-like array and return it.\n",
    "Input:\n",
    "n = 5\n",
    "arr[] = {1,2,3,4,5}\n",
    "Output: 2 1 4 3 5\n",
    "Explanation: Array elements after \n",
    "sorting it in wave form are \n",
    "2 1 4 3 5.\n",
    " "
   ]
  },
  {
   "cell_type": "code",
   "execution_count": 22,
   "metadata": {},
   "outputs": [],
   "source": [
    "def GetWaveArray(arr):\n",
    "    i = 0\n",
    "    while i < len(arr)-1:\n",
    "        arr[i],arr[i+1] = arr[i+1],arr[i]\n",
    "        i = i+2\n",
    "    return arr"
   ]
  },
  {
   "cell_type": "code",
   "execution_count": 23,
   "metadata": {},
   "outputs": [
    {
     "data": {
      "text/plain": [
       "[2, 1, 4, 3, 5]"
      ]
     },
     "execution_count": 23,
     "metadata": {},
     "output_type": "execute_result"
    }
   ],
   "source": [
    "GetWaveArray([1,2,3,4,5])"
   ]
  },
  {
   "cell_type": "markdown",
   "metadata": {},
   "source": [
    "#### 6. Multiply left and right array sum. \n",
    "Input : arr[ ] = {1, 2, 3, 4}\n",
    "Output : 21\n",
    "Explanation:\n",
    "Sum up an array from index 0 to 1 = 3\n",
    "Sum up an array from index 2 to 3 = 7\n",
    "Their multiplication is 21"
   ]
  },
  {
   "cell_type": "code",
   "execution_count": 29,
   "metadata": {},
   "outputs": [],
   "source": [
    "def MultipleLeftandRight(arr):\n",
    "    mid = len(arr)//2\n",
    "    a1 = arr[:mid]\n",
    "    a2 = arr[mid:]\n",
    "    \n",
    "    sum1 = 0\n",
    "    sum2 = 0\n",
    "    i = 0\n",
    "    j = 0\n",
    "    while (i<len(a1)) & (j < len(a2)):\n",
    "        val1 = a1[i]\n",
    "        val2 = a2[j]\n",
    "        sum1 = sum1+val1\n",
    "        sum2 = sum2+val2\n",
    "        i = i +1\n",
    "        j = j+1\n",
    "    \n",
    "    while i < len(a1):\n",
    "        val1 = a1[i]\n",
    "        sum1= sum1+val1\n",
    "        i = i+1\n",
    "    while j < len(a2):\n",
    "        val2 = a2[j]\n",
    "        sum2 = sum2 + val2\n",
    "        j = j+1\n",
    "    return sum1*sum2"
   ]
  },
  {
   "cell_type": "code",
   "execution_count": 30,
   "metadata": {},
   "outputs": [
    {
     "data": {
      "text/plain": [
       "21"
      ]
     },
     "execution_count": 30,
     "metadata": {},
     "output_type": "execute_result"
    }
   ],
   "source": [
    "MultipleLeftandRight([1,2,3,4])"
   ]
  },
  {
   "cell_type": "code",
   "execution_count": 31,
   "metadata": {},
   "outputs": [
    {
     "data": {
      "text/plain": [
       "36"
      ]
     },
     "execution_count": 31,
     "metadata": {},
     "output_type": "execute_result"
    }
   ],
   "source": [
    "MultipleLeftandRight([1,2,3,4,5])"
   ]
  },
  {
   "cell_type": "markdown",
   "metadata": {},
   "source": [
    "#### 7. Sum of Array Elements\n",
    "\n",
    "Input:\n",
    "n = 3\n",
    "arr[] = {3 2 1}\n",
    "Output: 6"
   ]
  },
  {
   "cell_type": "code",
   "execution_count": 32,
   "metadata": {},
   "outputs": [
    {
     "data": {
      "text/plain": [
       "15"
      ]
     },
     "execution_count": 32,
     "metadata": {},
     "output_type": "execute_result"
    }
   ],
   "source": [
    "def SumOfArray(arr,n):\n",
    "    return sum(arr)\n",
    "SumOfArray([1,2,3,4,5],5)"
   ]
  },
  {
   "cell_type": "markdown",
   "metadata": {},
   "source": [
    "Form a number divisible by 3 using array digits \n",
    "Input: N = 3\n",
    "arr = {40, 50, 90}\n",
    "Output: 1\n",
    "Explaination: One such number is 405900.\n",
    "Example 2:\n"
   ]
  },
  {
   "cell_type": "code",
   "execution_count": 128,
   "metadata": {},
   "outputs": [],
   "source": [
    "from itertools import permutations\n",
    "def DivisibleByThree(arr):\n",
    "    new = \"\"\n",
    "    for i in arr:\n",
    "        for j in str(i):\n",
    "            new = new+j\n",
    "    permu = list(permutations(new))\n",
    "    new1 = []\n",
    "    for i in range(len(permu)):\n",
    "        val = \"\".join(permu[i])\n",
    "        new1.append(int(val))\n",
    "    for i in new1:\n",
    "        if (i%3 == 0):\n",
    "            return 1\n",
    "    return 0"
   ]
  },
  {
   "cell_type": "code",
   "execution_count": 129,
   "metadata": {},
   "outputs": [
    {
     "data": {
      "text/plain": [
       "1"
      ]
     },
     "execution_count": 129,
     "metadata": {},
     "output_type": "execute_result"
    }
   ],
   "source": [
    "DivisibleByThree([40, 50, 90])"
   ]
  },
  {
   "cell_type": "markdown",
   "metadata": {},
   "source": [
    "#### 8. Balanced Array\n",
    "Input:\n",
    "N = 4\n",
    "arr[] = {1, 5, 3, 2}\n",
    "Output: 1\n",
    "Explanation: \n",
    "Sum of first 2 elements is 1 + 5  = 6, \n",
    "Sum of last 2 elements is 3 + 2  = 5,\n",
    "To make the array balanced you can add 1."
   ]
  },
  {
   "cell_type": "code",
   "execution_count": 1,
   "metadata": {},
   "outputs": [],
   "source": [
    "def BalancedArray(arr):\n",
    "    val = 0\n",
    "    n = len(arr)\n",
    "    mid = n//2\n",
    "    sum1 = sum(arr[:mid])\n",
    "    sum2 = sum(arr[mid:])\n",
    "    if sum1>sum2:\n",
    "        val = sum1-sum2\n",
    "    else:\n",
    "        val = sum2-sum1\n",
    "    return val"
   ]
  },
  {
   "cell_type": "code",
   "execution_count": 2,
   "metadata": {},
   "outputs": [
    {
     "data": {
      "text/plain": [
       "1"
      ]
     },
     "execution_count": 2,
     "metadata": {},
     "output_type": "execute_result"
    }
   ],
   "source": [
    "BalancedArray([1, 5, 3, 2])"
   ]
  },
  {
   "cell_type": "code",
   "execution_count": 3,
   "metadata": {},
   "outputs": [
    {
     "data": {
      "text/plain": [
       "2"
      ]
     },
     "execution_count": 3,
     "metadata": {},
     "output_type": "execute_result"
    }
   ],
   "source": [
    "BalancedArray([1, 2, 1, 2, 1, 3 ])"
   ]
  },
  {
   "cell_type": "markdown",
   "metadata": {},
   "source": [
    "#### 9. Nuts and Bolts Problem \n",
    "\n",
    "\n",
    "Given a set of N nuts of different sizes and N bolts of different sizes. There is a one-one mapping between nuts and bolts. Match nuts and bolts efficiently.\n",
    "\n",
    "Comparison of a nut to another nut or a bolt to another bolt is not allowed. It means nut can only be compared with bolt and bolt can only be compared with nut to see which one is bigger/smaller.\n",
    "The elements should follow the following order ! # $ % & * @ ^ ~ .\n",
    "\n",
    "\n",
    "N = 5\n",
    "nuts[] = {@, %, $, #, ^}\n",
    "bolts[] = {%, @, #, $ ^}\n",
    "Output: \n",
    "# $ % @ ^\n",
    "# $ % @ ^"
   ]
  },
  {
   "cell_type": "code",
   "execution_count": 32,
   "metadata": {},
   "outputs": [],
   "source": [
    "def NutBolt(nut,bolt,n):\n",
    "    N = []\n",
    "    B = []\n",
    "    for i in ['#', '$', '%' ,'&','@' ,'^','~']:\n",
    "        for j in range(n):\n",
    "            if nut[j] == i:\n",
    "                N.append(i)\n",
    "            if bolt[j] == i:\n",
    "                B.append(i)\n",
    "    return N,B"
   ]
  },
  {
   "cell_type": "code",
   "execution_count": 34,
   "metadata": {},
   "outputs": [
    {
     "data": {
      "text/plain": [
       "(['#', '$', '%', '@', '^'], ['#', '$', '%', '@', '^'])"
      ]
     },
     "execution_count": 34,
     "metadata": {},
     "output_type": "execute_result"
    }
   ],
   "source": [
    "NutBolt(['@', '%', '$', '#', '^'],['%', '@', '#', '$' ,'^'],5)"
   ]
  },
  {
   "cell_type": "code",
   "execution_count": null,
   "metadata": {},
   "outputs": [],
   "source": []
  },
  {
   "cell_type": "code",
   "execution_count": null,
   "metadata": {},
   "outputs": [],
   "source": []
  },
  {
   "cell_type": "code",
   "execution_count": null,
   "metadata": {},
   "outputs": [],
   "source": []
  }
 ],
 "metadata": {
  "kernelspec": {
   "display_name": "Python 3",
   "language": "python",
   "name": "python3"
  },
  "language_info": {
   "codemirror_mode": {
    "name": "ipython",
    "version": 3
   },
   "file_extension": ".py",
   "mimetype": "text/x-python",
   "name": "python",
   "nbconvert_exporter": "python",
   "pygments_lexer": "ipython3",
   "version": "3.8.5"
  }
 },
 "nbformat": 4,
 "nbformat_minor": 4
}
