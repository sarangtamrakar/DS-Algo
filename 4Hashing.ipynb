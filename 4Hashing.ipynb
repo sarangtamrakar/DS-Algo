{
 "cells": [
  {
   "cell_type": "markdown",
   "metadata": {},
   "source": [
    "### Hashing\n",
    "1. mainly used for implementing dict where we have key val pair\n",
    "2. it also implements on set where we have only key\n",
    "3. SEARCH ,INSERT,DELETE IN CONTANT TIME\n",
    "4. IN HASHING all keys are unique..."
   ]
  },
  {
   "cell_type": "markdown",
   "metadata": {},
   "source": [
    "# in array sorted\n",
    "1. O(logn) time for search\n",
    "2. O(n) time for insert & delete\n",
    "\n",
    "# in  array not sorted\n",
    "1. o(n) search\n",
    "2. o(1) for insert & delete"
   ]
  },
  {
   "cell_type": "markdown",
   "metadata": {},
   "source": [
    "# hashing not useful in :---\n",
    "1. finding closest values (use avl tree or red black tree)\n",
    "2. sorted order values (use avl tree or red black tree)\n",
    "3. prefix searching (use trie data structure)"
   ]
  },
  {
   "cell_type": "markdown",
   "metadata": {},
   "source": [
    "# applications of hashing"
   ]
  },
  {
   "cell_type": "markdown",
   "metadata": {},
   "source": [
    "1. dictionary\n",
    "2. databases indexing\n",
    "3. crypotography\n",
    "4. caches\n",
    "5. getting data from databases"
   ]
  },
  {
   "cell_type": "markdown",
   "metadata": {},
   "source": [
    "# Hashing through Linked list (list of list)"
   ]
  },
  {
   "cell_type": "code",
   "execution_count": 29,
   "metadata": {},
   "outputs": [],
   "source": [
    "class My_class:\n",
    "    \"\"\"Example of Linked List\"\"\"\n",
    "    def __init__(self,HashTableSize):\n",
    "        self.size = HashTableSize\n",
    "        self.table = [[] for i in range(self.size)]\n",
    "    def insert(self,key):\n",
    "        modified = key%self.size\n",
    "        self.table[modified].append(key)\n",
    "    def remove(self,key):\n",
    "        modified = key%self.size\n",
    "        if key in self.table[modified]:\n",
    "            self.table[modified].remove(key)\n",
    "    def searching(self,key):\n",
    "        modified = key%self.size\n",
    "        mytable = self.table[modified]\n",
    "        if key in mytable:\n",
    "            return True\n",
    "        else:\n",
    "            return False"
   ]
  },
  {
   "cell_type": "code",
   "execution_count": 8,
   "metadata": {},
   "outputs": [],
   "source": [
    "obj = My_class(11)"
   ]
  },
  {
   "cell_type": "code",
   "execution_count": 11,
   "metadata": {},
   "outputs": [],
   "source": [
    "obj.insert(10)"
   ]
  },
  {
   "cell_type": "code",
   "execution_count": 14,
   "metadata": {},
   "outputs": [
    {
     "data": {
      "text/plain": [
       "[[], [], [], [], [], [], [], [], [], [], [10]]"
      ]
     },
     "execution_count": 14,
     "metadata": {},
     "output_type": "execute_result"
    }
   ],
   "source": [
    "obj.table"
   ]
  },
  {
   "cell_type": "code",
   "execution_count": 15,
   "metadata": {},
   "outputs": [],
   "source": [
    "obj.remove(10)"
   ]
  },
  {
   "cell_type": "code",
   "execution_count": 16,
   "metadata": {},
   "outputs": [
    {
     "data": {
      "text/plain": [
       "[[], [], [], [], [], [], [], [], [], [], []]"
      ]
     },
     "execution_count": 16,
     "metadata": {},
     "output_type": "execute_result"
    }
   ],
   "source": [
    "obj.table"
   ]
  },
  {
   "cell_type": "code",
   "execution_count": 19,
   "metadata": {},
   "outputs": [],
   "source": [
    "l = [10,20,30,40,10,10,10]\n",
    "for i in l:\n",
    "    obj.insert(i)"
   ]
  },
  {
   "cell_type": "code",
   "execution_count": 25,
   "metadata": {},
   "outputs": [
    {
     "data": {
      "text/plain": [
       "True"
      ]
     },
     "execution_count": 25,
     "metadata": {},
     "output_type": "execute_result"
    }
   ],
   "source": [
    "obj.searching(10)"
   ]
  },
  {
   "cell_type": "code",
   "execution_count": 26,
   "metadata": {},
   "outputs": [
    {
     "data": {
      "text/plain": [
       "False"
      ]
     },
     "execution_count": 26,
     "metadata": {},
     "output_type": "execute_result"
    }
   ],
   "source": [
    "obj.searching(11)"
   ]
  },
  {
   "cell_type": "code",
   "execution_count": 27,
   "metadata": {},
   "outputs": [],
   "source": [
    "for i in list(range(100)):\n",
    "    obj.insert(i)"
   ]
  },
  {
   "cell_type": "code",
   "execution_count": 28,
   "metadata": {},
   "outputs": [
    {
     "data": {
      "text/plain": [
       "[[0, 11, 22, 33, 44, 55, 66, 77, 88, 99],\n",
       " [1, 12, 23, 34, 45, 56, 67, 78, 89],\n",
       " [2, 13, 24, 35, 46, 57, 68, 79, 90],\n",
       " [3, 14, 25, 36, 47, 58, 69, 80, 91],\n",
       " [4, 15, 26, 37, 48, 59, 70, 81, 92],\n",
       " [5, 16, 27, 38, 49, 60, 71, 82, 93],\n",
       " [6, 17, 28, 39, 50, 61, 72, 83, 94],\n",
       " [40, 7, 18, 29, 40, 51, 62, 73, 84, 95],\n",
       " [30, 8, 19, 30, 41, 52, 63, 74, 85, 96],\n",
       " [20, 9, 20, 31, 42, 53, 64, 75, 86, 97],\n",
       " [10, 10, 21, 32, 43, 54, 65, 76, 87, 98]]"
      ]
     },
     "execution_count": 28,
     "metadata": {},
     "output_type": "execute_result"
    }
   ],
   "source": [
    "obj.table"
   ]
  },
  {
   "cell_type": "markdown",
   "metadata": {},
   "source": [
    "# Open Addressing with Linear probing idea"
   ]
  },
  {
   "cell_type": "code",
   "execution_count": 7,
   "metadata": {},
   "outputs": [],
   "source": [
    "class Myhash:\n",
    "    def __init__(self,size):\n",
    "        self.size = size\n",
    "        self.table = [-1 for i in range(self.size)]\n",
    "    \n",
    "    def insert(self,key):\n",
    "        modified = key%self.size\n",
    "        if (self.table[modified] == -1) | (self.table[modified] == -2):\n",
    "            self.table[modified] = key\n",
    "        else:\n",
    "            for i in self.table[modified:]+self.table[0:modified]:\n",
    "                if i == -1:\n",
    "                    idx = self.table.index(i)\n",
    "                    self.table[idx] = key\n",
    "                    break\n",
    "    \n",
    "    def seaching(self,key):\n",
    "        modified = key%self.size\n",
    "        if self.table[modified] == key:\n",
    "            return True\n",
    "        elif (self.table[modified] != key):\n",
    "            for i in self.table[modified:]+self.table[0:modified]:\n",
    "                if i == -1:\n",
    "                    break\n",
    "                elif i == key:\n",
    "                    return True\n",
    "            else:\n",
    "                return False\n",
    "            \n",
    "            if key not in self.table[modified:]+self.table[0:modified]:\n",
    "                return False\n",
    "                \n",
    "            \n",
    "    def deleting(self,key):\n",
    "        modified = key%self.size\n",
    "        if self.table[modified] == key:\n",
    "            self.table[modified] = -2\n",
    "        elif self.table[modified] != key:\n",
    "            for i in self.table[modified:]+self.table[0:modified]:\n",
    "                if i == key:\n",
    "                    idx = self.table.index(i)\n",
    "                    self.table[idx] = -2\n"
   ]
  },
  {
   "cell_type": "code",
   "execution_count": 8,
   "metadata": {},
   "outputs": [],
   "source": [
    "obj = Myhash(7)"
   ]
  },
  {
   "cell_type": "code",
   "execution_count": 9,
   "metadata": {},
   "outputs": [],
   "source": [
    "for i in [17,11,21,33]:\n",
    "    obj.insert(i)"
   ]
  },
  {
   "cell_type": "code",
   "execution_count": 10,
   "metadata": {},
   "outputs": [
    {
     "data": {
      "text/plain": [
       "[21, -1, -1, 17, 11, 33, -1]"
      ]
     },
     "execution_count": 10,
     "metadata": {},
     "output_type": "execute_result"
    }
   ],
   "source": [
    "obj.table"
   ]
  },
  {
   "cell_type": "code",
   "execution_count": 11,
   "metadata": {},
   "outputs": [
    {
     "data": {
      "text/plain": [
       "True"
      ]
     },
     "execution_count": 11,
     "metadata": {},
     "output_type": "execute_result"
    }
   ],
   "source": [
    "obj.seaching(17)"
   ]
  },
  {
   "cell_type": "code",
   "execution_count": 30,
   "metadata": {},
   "outputs": [
    {
     "data": {
      "text/plain": [
       "False"
      ]
     },
     "execution_count": 30,
     "metadata": {},
     "output_type": "execute_result"
    }
   ],
   "source": [
    "obj.seaching(18)"
   ]
  },
  {
   "cell_type": "code",
   "execution_count": 12,
   "metadata": {},
   "outputs": [],
   "source": [
    "obj.deleting(17)"
   ]
  },
  {
   "cell_type": "code",
   "execution_count": 13,
   "metadata": {},
   "outputs": [
    {
     "data": {
      "text/plain": [
       "[21, -1, -1, -2, 11, 33, -1]"
      ]
     },
     "execution_count": 13,
     "metadata": {},
     "output_type": "execute_result"
    }
   ],
   "source": [
    "obj.table"
   ]
  },
  {
   "cell_type": "code",
   "execution_count": 14,
   "metadata": {},
   "outputs": [],
   "source": [
    "obj.insert(17)"
   ]
  },
  {
   "cell_type": "code",
   "execution_count": 15,
   "metadata": {},
   "outputs": [
    {
     "data": {
      "text/plain": [
       "[21, -1, -1, 17, 11, 33, -1]"
      ]
     },
     "execution_count": 15,
     "metadata": {},
     "output_type": "execute_result"
    }
   ],
   "source": [
    "obj.table"
   ]
  }
 ],
 "metadata": {
  "kernelspec": {
   "display_name": "Python 3",
   "language": "python",
   "name": "python3"
  },
  "language_info": {
   "codemirror_mode": {
    "name": "ipython",
    "version": 3
   },
   "file_extension": ".py",
   "mimetype": "text/x-python",
   "name": "python",
   "nbconvert_exporter": "python",
   "pygments_lexer": "ipython3",
   "version": "3.8.5"
  }
 },
 "nbformat": 4,
 "nbformat_minor": 5
}
