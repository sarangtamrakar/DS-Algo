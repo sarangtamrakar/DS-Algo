{
 "cells": [
  {
   "cell_type": "markdown",
   "metadata": {},
   "source": [
    "# Linear search"
   ]
  },
  {
   "cell_type": "code",
   "execution_count": 1,
   "metadata": {},
   "outputs": [],
   "source": [
    "def inde(arr,x):\n",
    "    if x in set(arr):\n",
    "        return arr.index(x)\n",
    "    else:\n",
    "        return -1"
   ]
  },
  {
   "cell_type": "code",
   "execution_count": 2,
   "metadata": {},
   "outputs": [
    {
     "data": {
      "text/plain": [
       "94"
      ]
     },
     "execution_count": 2,
     "metadata": {},
     "output_type": "execute_result"
    }
   ],
   "source": [
    "arr = [i for i in range(5,10000)]\n",
    "inde(arr,99)"
   ]
  },
  {
   "cell_type": "code",
   "execution_count": 1,
   "metadata": {},
   "outputs": [],
   "source": [
    "def linerse(arr,x):\n",
    "    for i in arr:\n",
    "        if i == x:\n",
    "            return True\n",
    "    return False"
   ]
  },
  {
   "cell_type": "code",
   "execution_count": 68,
   "metadata": {},
   "outputs": [
    {
     "data": {
      "text/plain": [
       "9.6875"
      ]
     },
     "execution_count": 68,
     "metadata": {},
     "output_type": "execute_result"
    }
   ],
   "source": [
    "import time\n",
    "start = time.process_time()\n",
    "linerse([i for i in range(1,99999999)],999999998)\n",
    "res = time.process_time()-start\n",
    "res"
   ]
  },
  {
   "cell_type": "code",
   "execution_count": null,
   "metadata": {},
   "outputs": [],
   "source": []
  },
  {
   "cell_type": "markdown",
   "metadata": {},
   "source": [
    "# Binary Search only applicable when array is sorted"
   ]
  },
  {
   "cell_type": "raw",
   "metadata": {},
   "source": [
    "Binary search is an optimal search for the sorted array"
   ]
  },
  {
   "cell_type": "code",
   "execution_count": 1,
   "metadata": {},
   "outputs": [],
   "source": [
    "def BinarySearch(arr,x):\n",
    "    mx = len(arr)-1\n",
    "    mn = 0\n",
    "    while mx>=mn:\n",
    "        mid_idx = (mx+mn)//2\n",
    "        \n",
    "        if arr[mid_idx] == x:\n",
    "            return mid_idx\n",
    "        elif x<arr[mid_idx]:\n",
    "            mx= mid_idx-1\n",
    "        elif x>arr[mid_idx]:\n",
    "            mn = mid_idx+1\n",
    "    else:\n",
    "        return -1"
   ]
  },
  {
   "cell_type": "code",
   "execution_count": 4,
   "metadata": {},
   "outputs": [
    {
     "data": {
      "text/plain": [
       "604"
      ]
     },
     "execution_count": 4,
     "metadata": {},
     "output_type": "execute_result"
    }
   ],
   "source": [
    "BinarySearch([i for i in range(200,50000,3)],2012)"
   ]
  },
  {
   "cell_type": "code",
   "execution_count": 3,
   "metadata": {},
   "outputs": [
    {
     "data": {
      "text/plain": [
       "3"
      ]
     },
     "execution_count": 3,
     "metadata": {},
     "output_type": "execute_result"
    }
   ],
   "source": [
    "BinarySearch([10,20,20,30,30,40,50,50],30)"
   ]
  },
  {
   "cell_type": "markdown",
   "metadata": {},
   "source": [
    "# Binary search recursively"
   ]
  },
  {
   "cell_type": "code",
   "execution_count": 6,
   "metadata": {},
   "outputs": [],
   "source": [
    "def recBinarySearch(arr,x,low,high):\n",
    "    if low>high:\n",
    "        return -1\n",
    "    \n",
    "    mid = (low+high)//2\n",
    "    \n",
    "    if arr[mid] == x:\n",
    "        return mid\n",
    "    elif x<arr[mid]:\n",
    "        return recBinarySearch(arr,x,low,mid-1)\n",
    "    elif x>arr[mid]:\n",
    "        return recBinarySearch(arr,x,mid+1,high)"
   ]
  },
  {
   "cell_type": "code",
   "execution_count": 9,
   "metadata": {},
   "outputs": [
    {
     "data": {
      "text/plain": [
       "-1"
      ]
     },
     "execution_count": 9,
     "metadata": {},
     "output_type": "execute_result"
    }
   ],
   "source": [
    "recBinarySearch([10,20,30,40],11,0,3)"
   ]
  },
  {
   "cell_type": "markdown",
   "metadata": {},
   "source": [
    "# index of first occurence"
   ]
  },
  {
   "cell_type": "markdown",
   "metadata": {},
   "source": [
    "a = [10,20,20,20,30,30,40,40]\n",
    "x = 30\n",
    "find index of first 20 from left"
   ]
  },
  {
   "cell_type": "code",
   "execution_count": 43,
   "metadata": {},
   "outputs": [],
   "source": [
    "def IndexOfFirstOccurences(arr,x):\n",
    "    mn = 0\n",
    "    mx = len(arr)-1\n",
    "    while mn<=mx:\n",
    "        mid = ((mn+mx)//2)\n",
    "        if arr[mid] == x:\n",
    "            if (mid == 0) | (arr[mid]!= arr[mid-1]):\n",
    "                return mid\n",
    "            else:\n",
    "                mx = mid-1\n",
    "        elif arr[mid]<x:\n",
    "            mn = mid+1\n",
    "        else:\n",
    "            mx = mid-1\n",
    "    return -1"
   ]
  },
  {
   "cell_type": "code",
   "execution_count": 45,
   "metadata": {},
   "outputs": [
    {
     "data": {
      "text/plain": [
       "0"
      ]
     },
     "execution_count": 45,
     "metadata": {},
     "output_type": "execute_result"
    }
   ],
   "source": [
    "IndexOfFirstOccurences([2,2,3,4,5,6,7,8,10,10,10,20,30,30],2)"
   ]
  },
  {
   "cell_type": "code",
   "execution_count": null,
   "metadata": {},
   "outputs": [],
   "source": []
  },
  {
   "cell_type": "code",
   "execution_count": null,
   "metadata": {},
   "outputs": [],
   "source": [
    "indexfo([i for i in range(47,200)],199)"
   ]
  },
  {
   "cell_type": "code",
   "execution_count": null,
   "metadata": {},
   "outputs": [],
   "source": []
  },
  {
   "cell_type": "code",
   "execution_count": null,
   "metadata": {},
   "outputs": [],
   "source": []
  },
  {
   "cell_type": "code",
   "execution_count": 41,
   "metadata": {},
   "outputs": [],
   "source": [
    "def IndexOfLastOccurences(arr,x):\n",
    "    mn = 0\n",
    "    mx = len(arr)-1\n",
    "    while mn<=mx:\n",
    "        mid = ((mn+mx)//2)\n",
    "        if arr[mid] == x:\n",
    "            if (mid == (len(arr)-1)):\n",
    "                return mid\n",
    "            elif (arr[mid]!=arr[mid+1]):\n",
    "                return mid\n",
    "            else:\n",
    "                mn = mid+1\n",
    "        elif arr[mid]<x:\n",
    "            mn = mid+1\n",
    "        else:\n",
    "            mx = mid-1\n",
    "    return -1"
   ]
  },
  {
   "cell_type": "code",
   "execution_count": 42,
   "metadata": {},
   "outputs": [
    {
     "data": {
      "text/plain": [
       "11"
      ]
     },
     "execution_count": 42,
     "metadata": {},
     "output_type": "execute_result"
    }
   ],
   "source": [
    "IndexOfLastOccurences([10,20,20,20,20,20,30,30,40,40,40,40],40)"
   ]
  },
  {
   "cell_type": "code",
   "execution_count": null,
   "metadata": {},
   "outputs": [],
   "source": []
  },
  {
   "cell_type": "code",
   "execution_count": null,
   "metadata": {},
   "outputs": [],
   "source": []
  },
  {
   "cell_type": "code",
   "execution_count": null,
   "metadata": {},
   "outputs": [],
   "source": []
  },
  {
   "cell_type": "code",
   "execution_count": null,
   "metadata": {},
   "outputs": [],
   "source": []
  },
  {
   "cell_type": "code",
   "execution_count": null,
   "metadata": {},
   "outputs": [],
   "source": []
  },
  {
   "cell_type": "code",
   "execution_count": 28,
   "metadata": {},
   "outputs": [],
   "source": [
    "def firstIndex(arr,x):\n",
    "    low = 0\n",
    "    high = len(arr)-1\n",
    "    while low<=high:\n",
    "        mid = (low+high)//2\n",
    "        \n",
    "        if x==arr[mid]:\n",
    "            if mid != 0:\n",
    "                if arr[mid-1] == arr[mid]:\n",
    "                    high = mid-1\n",
    "                else:\n",
    "                    return mid\n",
    "            else:\n",
    "                return mid\n",
    "        elif (x<arr[mid]):\n",
    "            high = mid-1\n",
    "        elif (x>arr[mid]):\n",
    "            low = mid+1\n",
    "    else:\n",
    "        return -1\n",
    "            "
   ]
  },
  {
   "cell_type": "code",
   "execution_count": 32,
   "metadata": {},
   "outputs": [
    {
     "data": {
      "text/plain": [
       "0"
      ]
     },
     "execution_count": 32,
     "metadata": {},
     "output_type": "execute_result"
    }
   ],
   "source": [
    "firstIndex([20,20,20,20,20,20,20,20,30],20)"
   ]
  },
  {
   "cell_type": "code",
   "execution_count": 33,
   "metadata": {},
   "outputs": [],
   "source": [
    "def lastIndex(arr,x):\n",
    "    low = 0\n",
    "    high = len(arr)-1\n",
    "    while low<=high:\n",
    "        mid = (low+high)//2\n",
    "        \n",
    "        if x == arr[mid]:\n",
    "            if mid != (len(arr)-1):\n",
    "                if arr[mid] == arr[mid+1]:\n",
    "                    low = mid+1\n",
    "                else:\n",
    "                    return mid\n",
    "            else:\n",
    "                return mid\n",
    "        elif (x<arr[mid]):\n",
    "            high = mid-1\n",
    "        elif (x>arr[mid]):\n",
    "            low = mid+1\n",
    "    else:\n",
    "        return -1\n",
    "            "
   ]
  },
  {
   "cell_type": "code",
   "execution_count": 38,
   "metadata": {},
   "outputs": [
    {
     "data": {
      "text/plain": [
       "0"
      ]
     },
     "execution_count": 38,
     "metadata": {},
     "output_type": "execute_result"
    }
   ],
   "source": [
    "lastIndex([1,110,10,10,3],1)"
   ]
  },
  {
   "cell_type": "markdown",
   "metadata": {},
   "source": [
    "# count occurences in a sorted array"
   ]
  },
  {
   "cell_type": "code",
   "execution_count": 73,
   "metadata": {},
   "outputs": [],
   "source": [
    "def li(arr,x):\n",
    "    low = 0\n",
    "    high = len(arr)-1\n",
    "    \n",
    "    while low<= high:\n",
    "        mid = (low+high)//2\n",
    "        \n",
    "        if x==arr[mid]:\n",
    "            if mid!= 0:\n",
    "                if arr[mid]== arr[mid-1]:\n",
    "                    high = mid-1\n",
    "                else:\n",
    "                    return mid\n",
    "            else:\n",
    "                return mid\n",
    "        elif (x<arr[mid]):\n",
    "            high = mid-1\n",
    "        elif (x>arr[mid]):\n",
    "            low = mid+1\n",
    "    return -1\n",
    "\n",
    "def occurence(arr,x):\n",
    "    idx = li(arr,x)\n",
    "    count = 0\n",
    "    for i in arr[idx:]:\n",
    "        if i == x:\n",
    "            count = count+1\n",
    "        else:\n",
    "            break\n",
    "    \n",
    "    return count"
   ]
  },
  {
   "cell_type": "code",
   "execution_count": 78,
   "metadata": {},
   "outputs": [
    {
     "data": {
      "text/plain": [
       "0"
      ]
     },
     "execution_count": 78,
     "metadata": {},
     "output_type": "execute_result"
    }
   ],
   "source": [
    "occurence([10,10,10,10,10,10,20,30,30,40,40,40,40,40],400)"
   ]
  },
  {
   "cell_type": "markdown",
   "metadata": {},
   "source": [
    "# Count 1's in binary array "
   ]
  },
  {
   "cell_type": "raw",
   "metadata": {},
   "source": [
    "Given a binary sorted non-increasing array of 1s and 0s. You need to print the count of 1s in the binary array.\n",
    "\n",
    "N = 8\n",
    "arr[] = {1,1,1,1,1,0,0,0}\n",
    "Output: 5\n",
    "Explanation: Number of 1's in given \n",
    "binary array : 1 1 1 1 1 0 0 0 is 5."
   ]
  },
  {
   "cell_type": "code",
   "execution_count": 102,
   "metadata": {},
   "outputs": [
    {
     "data": {
      "text/plain": [
       "6"
      ]
     },
     "execution_count": 102,
     "metadata": {},
     "output_type": "execute_result"
    }
   ],
   "source": [
    "def ones(arr,n):\n",
    "    count = 0\n",
    "    for i in arr:\n",
    "        if i ==1:\n",
    "            count+=1\n",
    "        else:\n",
    "            break\n",
    "    return count\n",
    "ones([1,1,1,1,1,1,0,0,0,0,0],11)"
   ]
  },
  {
   "cell_type": "code",
   "execution_count": 99,
   "metadata": {},
   "outputs": [],
   "source": [
    "def firstindex(arr,n): # 2nd way\n",
    "    low = 0\n",
    "    high = n-1\n",
    "    while low<=high:\n",
    "        mid = (low+high)//2\n",
    "        if arr[mid] == 1:\n",
    "            if mid!=(n-1):\n",
    "                if arr[mid] == arr[mid+1]:\n",
    "                    low = mid+1\n",
    "                else:\n",
    "                    return mid+1\n",
    "            else:\n",
    "                return mid+1\n",
    "        elif (arr[mid] == 0):\n",
    "            if mid!=0:\n",
    "                if arr[mid] == arr[mid-1]:\n",
    "                    high = mid-1\n",
    "            \n",
    "    return -1"
   ]
  },
  {
   "cell_type": "code",
   "execution_count": 100,
   "metadata": {},
   "outputs": [
    {
     "data": {
      "text/plain": [
       "7"
      ]
     },
     "execution_count": 100,
     "metadata": {},
     "output_type": "execute_result"
    }
   ],
   "source": [
    "firstindex([1,1,1,1,1,1,1,0,0,0,0],9)"
   ]
  },
  {
   "cell_type": "code",
   "execution_count": 155,
   "metadata": {},
   "outputs": [],
   "source": [
    "def majorty(arr,n):\n",
    "    for i in arr:\n",
    "        if (arr.count(i) > (n/2)):\n",
    "            return i\n",
    "        else:\n",
    "            continue\n",
    "    return -1"
   ]
  },
  {
   "cell_type": "code",
   "execution_count": 156,
   "metadata": {},
   "outputs": [
    {
     "data": {
      "text/plain": [
       "-1"
      ]
     },
     "execution_count": 156,
     "metadata": {},
     "output_type": "execute_result"
    }
   ],
   "source": [
    "majorty([1,2],2)"
   ]
  },
  {
   "cell_type": "code",
   "execution_count": null,
   "metadata": {},
   "outputs": [],
   "source": []
  }
 ],
 "metadata": {
  "kernelspec": {
   "display_name": "Python 3",
   "language": "python",
   "name": "python3"
  },
  "language_info": {
   "codemirror_mode": {
    "name": "ipython",
    "version": 3
   },
   "file_extension": ".py",
   "mimetype": "text/x-python",
   "name": "python",
   "nbconvert_exporter": "python",
   "pygments_lexer": "ipython3",
   "version": "3.7.10"
  }
 },
 "nbformat": 4,
 "nbformat_minor": 4
}
